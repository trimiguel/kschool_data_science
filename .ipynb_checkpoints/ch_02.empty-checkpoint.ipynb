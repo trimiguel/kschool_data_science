{
 "cells": [
  {
   "cell_type": "markdown",
   "metadata": {},
   "source": [
    "## Top 10 arrival airports in the world in 2013 (using the bookings file)\n",
    "\n",
    "Arrival airport is the column arr_port. It is the IATA code for the airport\n",
    "\n",
    "To get the total number of passengers for an airport, you can sum the \"pax\" column, grouping by arr_port.\n",
    "\n",
    "Note that there is negative pax. That corresponds to cancelations. So to get the total number of passengers that have actually booked, you should sum including the negatives (that will remove the canceled bookings).\n",
    "\n",
    "Print the top 10 arrival airports in the standard output, including the number of passengers.\n",
    "\n",
    "Bonus point: Get the name of the city or airport corresponding to that airport (programatically, we suggest to have a look at [neobase in Github](https://github.com/alexprengere/neobase))\n",
    "\n",
    "Bonus point: Solve this problem using pandas (instead of any other approach)\n"
   ]
  },
  {
   "cell_type": "markdown",
   "metadata": {},
   "source": [
    "Suggestion: follow the below plan of action:\n",
    "\n",
    "* Get familiar with the data\n",
    "* Select columns of interest\n",
    "* Decide what to do with NaNs\n",
    "\n",
    "* Make processing plan\n",
    "* Develop code that works with a sample\n",
    "\n",
    "* Adjust the code to work with Big data\n",
    "* Test big data approach on a sample\n",
    "\n",
    "* Run program with big data\n"
   ]
  },
  {
   "cell_type": "markdown",
   "metadata": {},
   "source": [
    "## 1) Get familiar with data"
   ]
  },
  {
   "cell_type": "markdown",
   "metadata": {},
   "source": [
    "Import library"
   ]
  },
  {
   "cell_type": "code",
   "execution_count": 1,
   "metadata": {},
   "outputs": [],
   "source": [
    "import pandas as pd\n",
    "import numpy as np\n",
    "import matplotlib.pyplot as plt\n",
    "%matplotlib inline"
   ]
  },
  {
   "cell_type": "markdown",
   "metadata": {},
   "source": [
    "### What if we dont want to read the whole file?"
   ]
  },
  {
   "cell_type": "markdown",
   "metadata": {},
   "source": [
    "Options:\n",
    "\n",
    "* prepare the sample\n",
    "\n",
    "* read_csv with nrows option"
   ]
  },
  {
   "cell_type": "markdown",
   "metadata": {},
   "source": [
    "We create path"
   ]
  },
  {
   "cell_type": "code",
   "execution_count": 3,
   "metadata": {},
   "outputs": [],
   "source": [
    "path = '/home/dsc/Data/challenge'"
   ]
  },
  {
   "cell_type": "markdown",
   "metadata": {},
   "source": [
    "We call the path"
   ]
  },
  {
   "cell_type": "code",
   "execution_count": 4,
   "metadata": {},
   "outputs": [],
   "source": [
    "import os\n",
    "\n",
    "os.chdir(path)"
   ]
  },
  {
   "cell_type": "markdown",
   "metadata": {},
   "source": [
    "We check the current directory"
   ]
  },
  {
   "cell_type": "code",
   "execution_count": 5,
   "metadata": {},
   "outputs": [
    {
     "name": "stdout",
     "output_type": "stream",
     "text": [
      "/home/dsc/Data/challenge\n"
     ]
    }
   ],
   "source": [
    "! pwd"
   ]
  },
  {
   "cell_type": "raw",
   "metadata": {},
   "source": [
    "Commands for obtaining data info:\n",
    "    b.shape  - object \n",
    "    b.info()\n",
    "\n",
    "    b.columns\n",
    "    b.columns.to_list()\n",
    "    list(b.columns)\n",
    "    \n",
    "    b.head() -function\n",
    "    b.sample()\n",
    "    \n",
    "    #pd.set_option('display.max_columns', 100)\n",
    "    pd.set_option('display.max_columns', None)\n",
    "    \n",
    "    b.describe()\n",
    "    b.describe(include='all')\n",
    "    df.dtypes\n",
    "    \n",
    "    b.isnull().sum()\n",
    "    non_null_counts = b.count()\n",
    "    \n",
    "   "
   ]
  },
  {
   "cell_type": "markdown",
   "metadata": {},
   "source": [
    "Now, it is time to open the file. However, as the file is bery big, we should work with a small sample of it"
   ]
  },
  {
   "cell_type": "code",
   "execution_count": 6,
   "metadata": {},
   "outputs": [
    {
     "data": {
      "text/html": [
       "<div>\n",
       "<style scoped>\n",
       "    .dataframe tbody tr th:only-of-type {\n",
       "        vertical-align: middle;\n",
       "    }\n",
       "\n",
       "    .dataframe tbody tr th {\n",
       "        vertical-align: top;\n",
       "    }\n",
       "\n",
       "    .dataframe thead th {\n",
       "        text-align: right;\n",
       "    }\n",
       "</style>\n",
       "<table border=\"1\" class=\"dataframe\">\n",
       "  <thead>\n",
       "    <tr style=\"text-align: right;\">\n",
       "      <th></th>\n",
       "      <th>act_date</th>\n",
       "      <th>source</th>\n",
       "      <th>pos_ctry</th>\n",
       "      <th>pos_iata</th>\n",
       "      <th>pos_oid</th>\n",
       "      <th>rloc</th>\n",
       "      <th>cre_date</th>\n",
       "      <th>duration</th>\n",
       "      <th>distance</th>\n",
       "      <th>dep_port</th>\n",
       "      <th>...</th>\n",
       "      <th>route</th>\n",
       "      <th>carrier</th>\n",
       "      <th>bkg_class</th>\n",
       "      <th>cab_class</th>\n",
       "      <th>brd_time</th>\n",
       "      <th>off_time</th>\n",
       "      <th>pax</th>\n",
       "      <th>year</th>\n",
       "      <th>month</th>\n",
       "      <th>oid</th>\n",
       "    </tr>\n",
       "  </thead>\n",
       "  <tbody>\n",
       "    <tr>\n",
       "      <th>8936</th>\n",
       "      <td>2013-03-19 00:00:00</td>\n",
       "      <td>1V</td>\n",
       "      <td>US</td>\n",
       "      <td>d7c56c4e46ce90b60496e58318da4843</td>\n",
       "      <td>4503da71ec8cf558b72ec91899c8c8a9</td>\n",
       "      <td>ab24520af47ec7c14767c65c7194bd59</td>\n",
       "      <td>2013-03-18 00:00:00</td>\n",
       "      <td>21701</td>\n",
       "      <td>3815</td>\n",
       "      <td>PHL</td>\n",
       "      <td>...</td>\n",
       "      <td>DOHLHRSEA</td>\n",
       "      <td>LK</td>\n",
       "      <td>D</td>\n",
       "      <td>C</td>\n",
       "      <td>2013-04-18 23:20:00</td>\n",
       "      <td>2013-04-19 16:51:17</td>\n",
       "      <td>-1</td>\n",
       "      <td>2013</td>\n",
       "      <td>3</td>\n",
       "      <td>NULL</td>\n",
       "    </tr>\n",
       "    <tr>\n",
       "      <th>8608</th>\n",
       "      <td>2013-03-22 00:00:00</td>\n",
       "      <td>1P</td>\n",
       "      <td>US</td>\n",
       "      <td>82a19f9ce4e958cc4418b38c283ba844</td>\n",
       "      <td>bdc302c8855b41d81976b174c049516b</td>\n",
       "      <td>552b1660ee9e0c04ea2b0c5134725811</td>\n",
       "      <td>2013-03-22 00:00:00</td>\n",
       "      <td>8512</td>\n",
       "      <td>0</td>\n",
       "      <td>DTW</td>\n",
       "      <td>...</td>\n",
       "      <td>DTWLAX</td>\n",
       "      <td>NV</td>\n",
       "      <td>L</td>\n",
       "      <td>Y</td>\n",
       "      <td>2013-06-20 08:35:00</td>\n",
       "      <td>2013-06-20 10:07:11</td>\n",
       "      <td>4</td>\n",
       "      <td>2013</td>\n",
       "      <td>3</td>\n",
       "      <td>NULL</td>\n",
       "    </tr>\n",
       "    <tr>\n",
       "      <th>7111</th>\n",
       "      <td>2013-03-05 00:00:00</td>\n",
       "      <td>1P</td>\n",
       "      <td>US</td>\n",
       "      <td>83ccf07a55606976f78e63fcc805f58c</td>\n",
       "      <td>1490c3c5f95f04fa076fe15c775a80a9</td>\n",
       "      <td>e2169926925660415478c881b7d4f27d</td>\n",
       "      <td>2013-03-05 00:00:00</td>\n",
       "      <td>245363</td>\n",
       "      <td>0</td>\n",
       "      <td>EWR</td>\n",
       "      <td>...</td>\n",
       "      <td>BOGFLLEWR</td>\n",
       "      <td>LY</td>\n",
       "      <td>O</td>\n",
       "      <td>Y</td>\n",
       "      <td>2013-09-05 11:35:00</td>\n",
       "      <td>2013-09-05 21:28:04</td>\n",
       "      <td>1</td>\n",
       "      <td>2013</td>\n",
       "      <td>3</td>\n",
       "      <td>NULL</td>\n",
       "    </tr>\n",
       "    <tr>\n",
       "      <th>9174</th>\n",
       "      <td>2013-03-29 00:00:00</td>\n",
       "      <td>1A</td>\n",
       "      <td>SA</td>\n",
       "      <td>6dd7510932fd8fb13921cb74ab4ff074</td>\n",
       "      <td>b92b0b3653fa2d8d5372d73dadfde5a1</td>\n",
       "      <td>72ca4401a9c27c02ed8cd79e852a8df7</td>\n",
       "      <td>2013-03-27 00:00:00</td>\n",
       "      <td>7068</td>\n",
       "      <td>0</td>\n",
       "      <td>RUH</td>\n",
       "      <td>...</td>\n",
       "      <td>RUHJED</td>\n",
       "      <td>DG</td>\n",
       "      <td>D</td>\n",
       "      <td>C</td>\n",
       "      <td>2013-04-07 22:00:00</td>\n",
       "      <td>2013-04-07 23:48:05</td>\n",
       "      <td>1</td>\n",
       "      <td>2013</td>\n",
       "      <td>3</td>\n",
       "      <td>RUHAA2136</td>\n",
       "    </tr>\n",
       "    <tr>\n",
       "      <th>3315</th>\n",
       "      <td>2013-03-28 00:00:00</td>\n",
       "      <td>1S</td>\n",
       "      <td>US</td>\n",
       "      <td>010b69a47d91cc998d4a54e48e3ec923</td>\n",
       "      <td>ec0cbe41ef198cbe1b7db397d1ebdd7f</td>\n",
       "      <td>f59777d718234d85be87350d4311e9f3</td>\n",
       "      <td>2013-03-25 00:00:00</td>\n",
       "      <td>1905</td>\n",
       "      <td>0</td>\n",
       "      <td>DCA</td>\n",
       "      <td>...</td>\n",
       "      <td>MEMDCA</td>\n",
       "      <td>FD</td>\n",
       "      <td>T</td>\n",
       "      <td>Y</td>\n",
       "      <td>2013-04-25 17:30:00</td>\n",
       "      <td>2013-04-25 20:44:22</td>\n",
       "      <td>-1</td>\n",
       "      <td>2013</td>\n",
       "      <td>3</td>\n",
       "      <td>NULL</td>\n",
       "    </tr>\n",
       "  </tbody>\n",
       "</table>\n",
       "<p>5 rows × 38 columns</p>\n",
       "</div>"
      ],
      "text/plain": [
       "      act_date             source  pos_ctry                          pos_iata  \\\n",
       "8936  2013-03-19 00:00:00  1V      US        d7c56c4e46ce90b60496e58318da4843   \n",
       "8608  2013-03-22 00:00:00  1P      US        82a19f9ce4e958cc4418b38c283ba844   \n",
       "7111  2013-03-05 00:00:00  1P      US        83ccf07a55606976f78e63fcc805f58c   \n",
       "9174  2013-03-29 00:00:00  1A      SA        6dd7510932fd8fb13921cb74ab4ff074   \n",
       "3315  2013-03-28 00:00:00  1S      US        010b69a47d91cc998d4a54e48e3ec923   \n",
       "\n",
       "                             pos_oid                      rloc            \\\n",
       "8936  4503da71ec8cf558b72ec91899c8c8a9  ab24520af47ec7c14767c65c7194bd59   \n",
       "8608  bdc302c8855b41d81976b174c049516b  552b1660ee9e0c04ea2b0c5134725811   \n",
       "7111  1490c3c5f95f04fa076fe15c775a80a9  e2169926925660415478c881b7d4f27d   \n",
       "9174  b92b0b3653fa2d8d5372d73dadfde5a1  72ca4401a9c27c02ed8cd79e852a8df7   \n",
       "3315  ec0cbe41ef198cbe1b7db397d1ebdd7f  f59777d718234d85be87350d4311e9f3   \n",
       "\n",
       "      cre_date             duration  distance  dep_port    ...      \\\n",
       "8936  2013-03-18 00:00:00     21701      3815  PHL         ...       \n",
       "8608  2013-03-22 00:00:00      8512         0  DTW         ...       \n",
       "7111  2013-03-05 00:00:00    245363         0  EWR         ...       \n",
       "9174  2013-03-27 00:00:00      7068         0  RUH         ...       \n",
       "3315  2013-03-25 00:00:00      1905         0  DCA         ...       \n",
       "\n",
       "      route           carrier  bkg_class  cab_class  brd_time             \\\n",
       "8936  DOHLHRSEA            LK  D          C          2013-04-18 23:20:00   \n",
       "8608  DTWLAX               NV  L          Y          2013-06-20 08:35:00   \n",
       "7111     BOGFLLEWR         LY  O          Y          2013-09-05 11:35:00   \n",
       "9174  RUHJED               DG  D          C          2013-04-07 22:00:00   \n",
       "3315     MEMDCA            FD  T          Y          2013-04-25 17:30:00   \n",
       "\n",
       "      off_time            pax  year month  oid        \n",
       "8936  2013-04-19 16:51:17  -1  2013     3  NULL       \n",
       "8608  2013-06-20 10:07:11   4  2013     3  NULL       \n",
       "7111  2013-09-05 21:28:04   1  2013     3  NULL       \n",
       "9174  2013-04-07 23:48:05   1  2013     3  RUHAA2136  \n",
       "3315  2013-04-25 20:44:22  -1  2013     3  NULL       \n",
       "\n",
       "[5 rows x 38 columns]"
      ]
     },
     "execution_count": 6,
     "metadata": {},
     "output_type": "execute_result"
    }
   ],
   "source": [
    "b = pd.read_csv('bookings.csv.bz2', sep=\"^\", nrows=10000)\n",
    "b.sample(5)"
   ]
  },
  {
   "cell_type": "markdown",
   "metadata": {},
   "source": [
    "We need to see all the columns from the file"
   ]
  },
  {
   "cell_type": "code",
   "execution_count": 7,
   "metadata": {},
   "outputs": [],
   "source": [
    "pd.set_option('display.max_columns',None)"
   ]
  },
  {
   "cell_type": "markdown",
   "metadata": {},
   "source": [
    "We check again the sample"
   ]
  },
  {
   "cell_type": "code",
   "execution_count": 8,
   "metadata": {},
   "outputs": [
    {
     "data": {
      "text/html": [
       "<div>\n",
       "<style scoped>\n",
       "    .dataframe tbody tr th:only-of-type {\n",
       "        vertical-align: middle;\n",
       "    }\n",
       "\n",
       "    .dataframe tbody tr th {\n",
       "        vertical-align: top;\n",
       "    }\n",
       "\n",
       "    .dataframe thead th {\n",
       "        text-align: right;\n",
       "    }\n",
       "</style>\n",
       "<table border=\"1\" class=\"dataframe\">\n",
       "  <thead>\n",
       "    <tr style=\"text-align: right;\">\n",
       "      <th></th>\n",
       "      <th>act_date</th>\n",
       "      <th>source</th>\n",
       "      <th>pos_ctry</th>\n",
       "      <th>pos_iata</th>\n",
       "      <th>pos_oid</th>\n",
       "      <th>rloc</th>\n",
       "      <th>cre_date</th>\n",
       "      <th>duration</th>\n",
       "      <th>distance</th>\n",
       "      <th>dep_port</th>\n",
       "      <th>dep_city</th>\n",
       "      <th>dep_ctry</th>\n",
       "      <th>arr_port</th>\n",
       "      <th>arr_city</th>\n",
       "      <th>arr_ctry</th>\n",
       "      <th>lst_port</th>\n",
       "      <th>lst_city</th>\n",
       "      <th>lst_ctry</th>\n",
       "      <th>brd_port</th>\n",
       "      <th>brd_city</th>\n",
       "      <th>brd_ctry</th>\n",
       "      <th>off_port</th>\n",
       "      <th>off_city</th>\n",
       "      <th>off_ctry</th>\n",
       "      <th>mkt_port</th>\n",
       "      <th>mkt_city</th>\n",
       "      <th>mkt_ctry</th>\n",
       "      <th>intl</th>\n",
       "      <th>route</th>\n",
       "      <th>carrier</th>\n",
       "      <th>bkg_class</th>\n",
       "      <th>cab_class</th>\n",
       "      <th>brd_time</th>\n",
       "      <th>off_time</th>\n",
       "      <th>pax</th>\n",
       "      <th>year</th>\n",
       "      <th>month</th>\n",
       "      <th>oid</th>\n",
       "    </tr>\n",
       "  </thead>\n",
       "  <tbody>\n",
       "    <tr>\n",
       "      <th>3004</th>\n",
       "      <td>2013-03-06 00:00:00</td>\n",
       "      <td>1P</td>\n",
       "      <td>US</td>\n",
       "      <td>49c4818ab7c513649e1e3915afe272a3</td>\n",
       "      <td>5edc6644e0e07e834a515aaa12e70d31</td>\n",
       "      <td>c42e50f44de101bddb1f5945d326d6fa</td>\n",
       "      <td>2013-03-06 00:00:00</td>\n",
       "      <td>13142</td>\n",
       "      <td>0</td>\n",
       "      <td>EWR</td>\n",
       "      <td>NYC</td>\n",
       "      <td>US</td>\n",
       "      <td>PVG</td>\n",
       "      <td>SHA</td>\n",
       "      <td>CN</td>\n",
       "      <td>EWR</td>\n",
       "      <td>NYC</td>\n",
       "      <td>US</td>\n",
       "      <td>EWR</td>\n",
       "      <td>NYC</td>\n",
       "      <td>US</td>\n",
       "      <td>PVG</td>\n",
       "      <td>SHA</td>\n",
       "      <td>CN</td>\n",
       "      <td>EWRPVG</td>\n",
       "      <td>NYCSHA</td>\n",
       "      <td>CNUS</td>\n",
       "      <td>1</td>\n",
       "      <td>EWRPVG</td>\n",
       "      <td>FK</td>\n",
       "      <td>P</td>\n",
       "      <td>F</td>\n",
       "      <td>2013-03-24 11:25:00</td>\n",
       "      <td>2013-03-25 14:09:38</td>\n",
       "      <td>1</td>\n",
       "      <td>2013</td>\n",
       "      <td>3</td>\n",
       "      <td>NULL</td>\n",
       "    </tr>\n",
       "    <tr>\n",
       "      <th>6842</th>\n",
       "      <td>2013-03-04 00:00:00</td>\n",
       "      <td>1S</td>\n",
       "      <td>AU</td>\n",
       "      <td>df45ac703160ab4a898734f9881a776a</td>\n",
       "      <td>f4f438c15d8dbbfd7062ad0fd25d03a1</td>\n",
       "      <td>9db90e0a93d36d6ace06cf663fa53606</td>\n",
       "      <td>2013-03-04 00:00:00</td>\n",
       "      <td>14810</td>\n",
       "      <td>0</td>\n",
       "      <td>MEL</td>\n",
       "      <td>MEL</td>\n",
       "      <td>AU</td>\n",
       "      <td>HKG</td>\n",
       "      <td>HKG</td>\n",
       "      <td>HK</td>\n",
       "      <td>MEL</td>\n",
       "      <td>MEL</td>\n",
       "      <td>AU</td>\n",
       "      <td>MEL</td>\n",
       "      <td>MEL</td>\n",
       "      <td>AU</td>\n",
       "      <td>HKG</td>\n",
       "      <td>HKG</td>\n",
       "      <td>HK</td>\n",
       "      <td>HKGMEL</td>\n",
       "      <td>HKGMEL</td>\n",
       "      <td>AUHK</td>\n",
       "      <td>1</td>\n",
       "      <td>MELHKG</td>\n",
       "      <td>MI</td>\n",
       "      <td>V</td>\n",
       "      <td>Y</td>\n",
       "      <td>2013-03-07 00:50:00</td>\n",
       "      <td>2013-03-07 07:20:53</td>\n",
       "      <td>2</td>\n",
       "      <td>2013</td>\n",
       "      <td>3</td>\n",
       "      <td>NULL</td>\n",
       "    </tr>\n",
       "    <tr>\n",
       "      <th>2090</th>\n",
       "      <td>2013-03-07 00:00:00</td>\n",
       "      <td>1V</td>\n",
       "      <td>MX</td>\n",
       "      <td>ca3cf3ff4273ffa28388c78e13f61a47</td>\n",
       "      <td>7c327131d5f3bf2507d7c1a57be2e0a8</td>\n",
       "      <td>07ee698e05907631be7a60e1b3363d7b</td>\n",
       "      <td>2013-03-07 00:00:00</td>\n",
       "      <td>4684</td>\n",
       "      <td>0</td>\n",
       "      <td>MEX</td>\n",
       "      <td>MEX</td>\n",
       "      <td>MX</td>\n",
       "      <td>CJS</td>\n",
       "      <td>CJS</td>\n",
       "      <td>MX</td>\n",
       "      <td>MEX</td>\n",
       "      <td>MEX</td>\n",
       "      <td>MX</td>\n",
       "      <td>MEX</td>\n",
       "      <td>MEX</td>\n",
       "      <td>MX</td>\n",
       "      <td>CJS</td>\n",
       "      <td>CJS</td>\n",
       "      <td>MX</td>\n",
       "      <td>CJSMEX</td>\n",
       "      <td>CJSMEX</td>\n",
       "      <td>MXMX</td>\n",
       "      <td>0</td>\n",
       "      <td>MEXCJS</td>\n",
       "      <td>KW</td>\n",
       "      <td>W</td>\n",
       "      <td>Y</td>\n",
       "      <td>2013-03-08 16:40:00</td>\n",
       "      <td>2013-03-08 18:16:51</td>\n",
       "      <td>1</td>\n",
       "      <td>2013</td>\n",
       "      <td>3</td>\n",
       "      <td>NULL</td>\n",
       "    </tr>\n",
       "    <tr>\n",
       "      <th>2995</th>\n",
       "      <td>2013-03-08 00:00:00</td>\n",
       "      <td>1V</td>\n",
       "      <td>US</td>\n",
       "      <td>73d2bd747515516040ec806a72ff7fb2</td>\n",
       "      <td>0ea791cd1d8b35e744dc1a3f0e2191a0</td>\n",
       "      <td>d5ae54b9ebfe778546356b482c1c9a48</td>\n",
       "      <td>2013-03-08 00:00:00</td>\n",
       "      <td>15214</td>\n",
       "      <td>0</td>\n",
       "      <td>ORD</td>\n",
       "      <td>CHI</td>\n",
       "      <td>US</td>\n",
       "      <td>DFW</td>\n",
       "      <td>DFW</td>\n",
       "      <td>US</td>\n",
       "      <td>ORD</td>\n",
       "      <td>CHI</td>\n",
       "      <td>US</td>\n",
       "      <td>DFW</td>\n",
       "      <td>DFW</td>\n",
       "      <td>US</td>\n",
       "      <td>ORD</td>\n",
       "      <td>CHI</td>\n",
       "      <td>US</td>\n",
       "      <td>DFWORD</td>\n",
       "      <td>CHIDFW</td>\n",
       "      <td>USUS</td>\n",
       "      <td>0</td>\n",
       "      <td>DFWORD</td>\n",
       "      <td>KK</td>\n",
       "      <td>M</td>\n",
       "      <td>Y</td>\n",
       "      <td>2013-04-04 17:15:00</td>\n",
       "      <td>2013-04-04 19:34:02</td>\n",
       "      <td>1</td>\n",
       "      <td>2013</td>\n",
       "      <td>3</td>\n",
       "      <td>NULL</td>\n",
       "    </tr>\n",
       "    <tr>\n",
       "      <th>2551</th>\n",
       "      <td>2013-03-04 00:00:00</td>\n",
       "      <td>1P</td>\n",
       "      <td>US</td>\n",
       "      <td>1de3711f152f19eb9818e4acbf5f865b</td>\n",
       "      <td>cb0c1382c04fef83e4b8a6b2ac404049</td>\n",
       "      <td>f1766a5484009ff4f7accbdbd14ce0c8</td>\n",
       "      <td>2013-03-04 00:00:00</td>\n",
       "      <td>22832</td>\n",
       "      <td>0</td>\n",
       "      <td>JFK</td>\n",
       "      <td>NYC</td>\n",
       "      <td>US</td>\n",
       "      <td>MNL</td>\n",
       "      <td>MNL</td>\n",
       "      <td>PH</td>\n",
       "      <td>JFK</td>\n",
       "      <td>NYC</td>\n",
       "      <td>US</td>\n",
       "      <td>JFK</td>\n",
       "      <td>NYC</td>\n",
       "      <td>US</td>\n",
       "      <td>TPE</td>\n",
       "      <td>TPE</td>\n",
       "      <td>TW</td>\n",
       "      <td>JFKTPE</td>\n",
       "      <td>NYCTPE</td>\n",
       "      <td>TWUS</td>\n",
       "      <td>1</td>\n",
       "      <td>JFKTPE</td>\n",
       "      <td>MS</td>\n",
       "      <td>X</td>\n",
       "      <td>Y</td>\n",
       "      <td>2013-04-25 15:00:00</td>\n",
       "      <td>2013-04-26 18:32:56</td>\n",
       "      <td>1</td>\n",
       "      <td>2013</td>\n",
       "      <td>3</td>\n",
       "      <td>NULL</td>\n",
       "    </tr>\n",
       "  </tbody>\n",
       "</table>\n",
       "</div>"
      ],
      "text/plain": [
       "      act_date             source  pos_ctry                          pos_iata  \\\n",
       "3004  2013-03-06 00:00:00  1P      US        49c4818ab7c513649e1e3915afe272a3   \n",
       "6842  2013-03-04 00:00:00  1S      AU        df45ac703160ab4a898734f9881a776a   \n",
       "2090  2013-03-07 00:00:00  1V      MX        ca3cf3ff4273ffa28388c78e13f61a47   \n",
       "2995  2013-03-08 00:00:00  1V      US        73d2bd747515516040ec806a72ff7fb2   \n",
       "2551  2013-03-04 00:00:00  1P      US        1de3711f152f19eb9818e4acbf5f865b   \n",
       "\n",
       "                             pos_oid                      rloc            \\\n",
       "3004  5edc6644e0e07e834a515aaa12e70d31  c42e50f44de101bddb1f5945d326d6fa   \n",
       "6842  f4f438c15d8dbbfd7062ad0fd25d03a1  9db90e0a93d36d6ace06cf663fa53606   \n",
       "2090  7c327131d5f3bf2507d7c1a57be2e0a8  07ee698e05907631be7a60e1b3363d7b   \n",
       "2995  0ea791cd1d8b35e744dc1a3f0e2191a0  d5ae54b9ebfe778546356b482c1c9a48   \n",
       "2551  cb0c1382c04fef83e4b8a6b2ac404049  f1766a5484009ff4f7accbdbd14ce0c8   \n",
       "\n",
       "      cre_date             duration  distance  dep_port  dep_city  dep_ctry  \\\n",
       "3004  2013-03-06 00:00:00     13142         0  EWR       NYC       US         \n",
       "6842  2013-03-04 00:00:00     14810         0  MEL       MEL       AU         \n",
       "2090  2013-03-07 00:00:00      4684         0  MEX       MEX       MX         \n",
       "2995  2013-03-08 00:00:00     15214         0  ORD       CHI       US         \n",
       "2551  2013-03-04 00:00:00     22832         0  JFK       NYC       US         \n",
       "\n",
       "      arr_port  arr_city  arr_ctry  lst_port  lst_city  lst_ctry  brd_port  \\\n",
       "3004  PVG       SHA       CN        EWR       NYC       US        EWR        \n",
       "6842  HKG       HKG       HK        MEL       MEL       AU        MEL        \n",
       "2090  CJS       CJS       MX        MEX       MEX       MX        MEX        \n",
       "2995  DFW       DFW       US        ORD       CHI       US        DFW        \n",
       "2551  MNL       MNL       PH        JFK       NYC       US        JFK        \n",
       "\n",
       "      brd_city  brd_ctry  off_port  off_city  off_ctry  mkt_port  mkt_city  \\\n",
       "3004  NYC       US        PVG       SHA       CN        EWRPVG    NYCSHA     \n",
       "6842  MEL       AU        HKG       HKG       HK        HKGMEL    HKGMEL     \n",
       "2090  MEX       MX        CJS       CJS       MX        CJSMEX    CJSMEX     \n",
       "2995  DFW       US        ORD       CHI       US        DFWORD    CHIDFW     \n",
       "2551  NYC       US        TPE       TPE       TW        JFKTPE    NYCTPE     \n",
       "\n",
       "      mkt_ctry  intl route           carrier  bkg_class  cab_class  \\\n",
       "3004  CNUS         1    EWRPVG            FK  P          F           \n",
       "6842  AUHK         1    MELHKG            MI  V          Y           \n",
       "2090  MXMX         0    MEXCJS            KW  W          Y           \n",
       "2995  USUS         0    DFWORD            KK  M          Y           \n",
       "2551  TWUS         1    JFKTPE            MS  X          Y           \n",
       "\n",
       "      brd_time             off_time             pax  year  month  oid        \n",
       "3004  2013-03-24 11:25:00  2013-03-25 14:09:38    1  2013      3  NULL       \n",
       "6842  2013-03-07 00:50:00  2013-03-07 07:20:53    2  2013      3  NULL       \n",
       "2090  2013-03-08 16:40:00  2013-03-08 18:16:51    1  2013      3  NULL       \n",
       "2995  2013-04-04 17:15:00  2013-04-04 19:34:02    1  2013      3  NULL       \n",
       "2551  2013-04-25 15:00:00  2013-04-26 18:32:56    1  2013      3  NULL       "
      ]
     },
     "execution_count": 8,
     "metadata": {},
     "output_type": "execute_result"
    }
   ],
   "source": [
    "b.sample(5)"
   ]
  },
  {
   "cell_type": "markdown",
   "metadata": {},
   "source": [
    "Then, we check some data from this sample"
   ]
  },
  {
   "cell_type": "code",
   "execution_count": 9,
   "metadata": {},
   "outputs": [
    {
     "data": {
      "text/html": [
       "<div>\n",
       "<style scoped>\n",
       "    .dataframe tbody tr th:only-of-type {\n",
       "        vertical-align: middle;\n",
       "    }\n",
       "\n",
       "    .dataframe tbody tr th {\n",
       "        vertical-align: top;\n",
       "    }\n",
       "\n",
       "    .dataframe thead th {\n",
       "        text-align: right;\n",
       "    }\n",
       "</style>\n",
       "<table border=\"1\" class=\"dataframe\">\n",
       "  <thead>\n",
       "    <tr style=\"text-align: right;\">\n",
       "      <th></th>\n",
       "      <th>duration</th>\n",
       "      <th>distance</th>\n",
       "      <th>intl</th>\n",
       "      <th>pax</th>\n",
       "      <th>year</th>\n",
       "      <th>month</th>\n",
       "    </tr>\n",
       "  </thead>\n",
       "  <tbody>\n",
       "    <tr>\n",
       "      <th>count</th>\n",
       "      <td>10000.000000</td>\n",
       "      <td>10000.000000</td>\n",
       "      <td>10000.000000</td>\n",
       "      <td>10000.000000</td>\n",
       "      <td>10000.0</td>\n",
       "      <td>10000.0</td>\n",
       "    </tr>\n",
       "    <tr>\n",
       "      <th>mean</th>\n",
       "      <td>20209.543000</td>\n",
       "      <td>455.563300</td>\n",
       "      <td>0.596300</td>\n",
       "      <td>0.516300</td>\n",
       "      <td>2013.0</td>\n",
       "      <td>3.0</td>\n",
       "    </tr>\n",
       "    <tr>\n",
       "      <th>std</th>\n",
       "      <td>42241.125937</td>\n",
       "      <td>1738.810081</td>\n",
       "      <td>0.490663</td>\n",
       "      <td>1.783943</td>\n",
       "      <td>0.0</td>\n",
       "      <td>0.0</td>\n",
       "    </tr>\n",
       "    <tr>\n",
       "      <th>min</th>\n",
       "      <td>59.000000</td>\n",
       "      <td>0.000000</td>\n",
       "      <td>0.000000</td>\n",
       "      <td>-25.000000</td>\n",
       "      <td>2013.0</td>\n",
       "      <td>3.0</td>\n",
       "    </tr>\n",
       "    <tr>\n",
       "      <th>25%</th>\n",
       "      <td>3339.000000</td>\n",
       "      <td>0.000000</td>\n",
       "      <td>0.000000</td>\n",
       "      <td>-1.000000</td>\n",
       "      <td>2013.0</td>\n",
       "      <td>3.0</td>\n",
       "    </tr>\n",
       "    <tr>\n",
       "      <th>50%</th>\n",
       "      <td>7734.500000</td>\n",
       "      <td>0.000000</td>\n",
       "      <td>1.000000</td>\n",
       "      <td>1.000000</td>\n",
       "      <td>2013.0</td>\n",
       "      <td>3.0</td>\n",
       "    </tr>\n",
       "    <tr>\n",
       "      <th>75%</th>\n",
       "      <td>19077.000000</td>\n",
       "      <td>0.000000</td>\n",
       "      <td>1.000000</td>\n",
       "      <td>1.000000</td>\n",
       "      <td>2013.0</td>\n",
       "      <td>3.0</td>\n",
       "    </tr>\n",
       "    <tr>\n",
       "      <th>max</th>\n",
       "      <td>488131.000000</td>\n",
       "      <td>18481.000000</td>\n",
       "      <td>1.000000</td>\n",
       "      <td>25.000000</td>\n",
       "      <td>2013.0</td>\n",
       "      <td>3.0</td>\n",
       "    </tr>\n",
       "  </tbody>\n",
       "</table>\n",
       "</div>"
      ],
      "text/plain": [
       "            duration      distance          intl           pax     year  \\\n",
       "count   10000.000000  10000.000000  10000.000000  10000.000000  10000.0   \n",
       "mean    20209.543000    455.563300      0.596300      0.516300   2013.0   \n",
       "std     42241.125937   1738.810081      0.490663      1.783943      0.0   \n",
       "min        59.000000      0.000000      0.000000    -25.000000   2013.0   \n",
       "25%      3339.000000      0.000000      0.000000     -1.000000   2013.0   \n",
       "50%      7734.500000      0.000000      1.000000      1.000000   2013.0   \n",
       "75%     19077.000000      0.000000      1.000000      1.000000   2013.0   \n",
       "max    488131.000000  18481.000000      1.000000     25.000000   2013.0   \n",
       "\n",
       "         month  \n",
       "count  10000.0  \n",
       "mean       3.0  \n",
       "std        0.0  \n",
       "min        3.0  \n",
       "25%        3.0  \n",
       "50%        3.0  \n",
       "75%        3.0  \n",
       "max        3.0  "
      ]
     },
     "execution_count": 9,
     "metadata": {},
     "output_type": "execute_result"
    }
   ],
   "source": [
    "b.describe()"
   ]
  },
  {
   "cell_type": "code",
   "execution_count": 10,
   "metadata": {},
   "outputs": [
    {
     "data": {
      "text/plain": [
       "(10000, 38)"
      ]
     },
     "execution_count": 10,
     "metadata": {},
     "output_type": "execute_result"
    }
   ],
   "source": [
    "b.shape"
   ]
  },
  {
   "cell_type": "code",
   "execution_count": 11,
   "metadata": {},
   "outputs": [
    {
     "name": "stdout",
     "output_type": "stream",
     "text": [
      "<class 'pandas.core.frame.DataFrame'>\n",
      "RangeIndex: 10000 entries, 0 to 9999\n",
      "Data columns (total 38 columns):\n",
      "act_date               10000 non-null object\n",
      "source                 10000 non-null object\n",
      "pos_ctry               10000 non-null object\n",
      "pos_iata               10000 non-null object\n",
      "pos_oid                10000 non-null object\n",
      "rloc                   10000 non-null object\n",
      "cre_date               10000 non-null object\n",
      "duration               10000 non-null int64\n",
      "distance               10000 non-null int64\n",
      "dep_port               10000 non-null object\n",
      "dep_city               10000 non-null object\n",
      "dep_ctry               10000 non-null object\n",
      "arr_port               10000 non-null object\n",
      "arr_city               10000 non-null object\n",
      "arr_ctry               10000 non-null object\n",
      "lst_port               10000 non-null object\n",
      "lst_city               10000 non-null object\n",
      "lst_ctry               10000 non-null object\n",
      "brd_port               10000 non-null object\n",
      "brd_city               10000 non-null object\n",
      "brd_ctry               10000 non-null object\n",
      "off_port               10000 non-null object\n",
      "off_city               10000 non-null object\n",
      "off_ctry               10000 non-null object\n",
      "mkt_port               10000 non-null object\n",
      "mkt_city               10000 non-null object\n",
      "mkt_ctry               10000 non-null object\n",
      "intl                   10000 non-null int64\n",
      "route                  10000 non-null object\n",
      "carrier                10000 non-null object\n",
      "bkg_class              10000 non-null object\n",
      "cab_class              10000 non-null object\n",
      "brd_time               10000 non-null object\n",
      "off_time               10000 non-null object\n",
      "pax                    10000 non-null int64\n",
      "year                   10000 non-null int64\n",
      "month                  10000 non-null int64\n",
      "oid                    10000 non-null object\n",
      "dtypes: int64(6), object(32)\n",
      "memory usage: 2.9+ MB\n"
     ]
    }
   ],
   "source": [
    "b.info()"
   ]
  },
  {
   "cell_type": "markdown",
   "metadata": {},
   "source": [
    "Clean the column names"
   ]
  },
  {
   "cell_type": "markdown",
   "metadata": {},
   "source": [
    "We check the titles of the columns"
   ]
  },
  {
   "cell_type": "code",
   "execution_count": 12,
   "metadata": {},
   "outputs": [
    {
     "data": {
      "text/plain": [
       "['act_date           ',\n",
       " 'source',\n",
       " 'pos_ctry',\n",
       " 'pos_iata',\n",
       " 'pos_oid  ',\n",
       " 'rloc          ',\n",
       " 'cre_date           ',\n",
       " 'duration',\n",
       " 'distance',\n",
       " 'dep_port',\n",
       " 'dep_city',\n",
       " 'dep_ctry',\n",
       " 'arr_port',\n",
       " 'arr_city',\n",
       " 'arr_ctry',\n",
       " 'lst_port',\n",
       " 'lst_city',\n",
       " 'lst_ctry',\n",
       " 'brd_port',\n",
       " 'brd_city',\n",
       " 'brd_ctry',\n",
       " 'off_port',\n",
       " 'off_city',\n",
       " 'off_ctry',\n",
       " 'mkt_port',\n",
       " 'mkt_city',\n",
       " 'mkt_ctry',\n",
       " 'intl',\n",
       " 'route          ',\n",
       " 'carrier',\n",
       " 'bkg_class',\n",
       " 'cab_class',\n",
       " 'brd_time           ',\n",
       " 'off_time           ',\n",
       " 'pax',\n",
       " 'year',\n",
       " 'month',\n",
       " 'oid      ']"
      ]
     },
     "execution_count": 12,
     "metadata": {},
     "output_type": "execute_result"
    }
   ],
   "source": [
    "list(b.columns) "
   ]
  },
  {
   "cell_type": "markdown",
   "metadata": {},
   "source": [
    "It exists whitespaces that we will work later"
   ]
  },
  {
   "cell_type": "markdown",
   "metadata": {},
   "source": [
    "## 2) Select the columns of interest "
   ]
  },
  {
   "cell_type": "markdown",
   "metadata": {},
   "source": [
    "We select the necessary columns to work with the question"
   ]
  },
  {
   "cell_type": "code",
   "execution_count": 13,
   "metadata": {},
   "outputs": [],
   "source": [
    "b = pd.read_csv('bookings.csv.bz2', sep=\"^\", usecols=['arr_port','pax','year'], nrows=10000)"
   ]
  },
  {
   "cell_type": "markdown",
   "metadata": {},
   "source": [
    "Another way to obtain the same result"
   ]
  },
  {
   "cell_type": "markdown",
   "metadata": {},
   "source": [
    "nteresting_cols = ['pax','arr_port','year'] \n",
    "\n",
    "df2 = df1[interesting_cols]\n",
    "\n",
    "df2.sample(5)"
   ]
  },
  {
   "cell_type": "markdown",
   "metadata": {},
   "source": [
    "Sample"
   ]
  },
  {
   "cell_type": "code",
   "execution_count": 14,
   "metadata": {},
   "outputs": [
    {
     "data": {
      "text/html": [
       "<div>\n",
       "<style scoped>\n",
       "    .dataframe tbody tr th:only-of-type {\n",
       "        vertical-align: middle;\n",
       "    }\n",
       "\n",
       "    .dataframe tbody tr th {\n",
       "        vertical-align: top;\n",
       "    }\n",
       "\n",
       "    .dataframe thead th {\n",
       "        text-align: right;\n",
       "    }\n",
       "</style>\n",
       "<table border=\"1\" class=\"dataframe\">\n",
       "  <thead>\n",
       "    <tr style=\"text-align: right;\">\n",
       "      <th></th>\n",
       "      <th>arr_port</th>\n",
       "      <th>pax</th>\n",
       "      <th>year</th>\n",
       "    </tr>\n",
       "  </thead>\n",
       "  <tbody>\n",
       "    <tr>\n",
       "      <th>7154</th>\n",
       "      <td>BGO</td>\n",
       "      <td>1</td>\n",
       "      <td>2013</td>\n",
       "    </tr>\n",
       "    <tr>\n",
       "      <th>8394</th>\n",
       "      <td>LAX</td>\n",
       "      <td>1</td>\n",
       "      <td>2013</td>\n",
       "    </tr>\n",
       "    <tr>\n",
       "      <th>5391</th>\n",
       "      <td>BNA</td>\n",
       "      <td>-1</td>\n",
       "      <td>2013</td>\n",
       "    </tr>\n",
       "    <tr>\n",
       "      <th>9100</th>\n",
       "      <td>CAN</td>\n",
       "      <td>-1</td>\n",
       "      <td>2013</td>\n",
       "    </tr>\n",
       "    <tr>\n",
       "      <th>3656</th>\n",
       "      <td>PVG</td>\n",
       "      <td>2</td>\n",
       "      <td>2013</td>\n",
       "    </tr>\n",
       "  </tbody>\n",
       "</table>\n",
       "</div>"
      ],
      "text/plain": [
       "      arr_port  pax  year\n",
       "7154  BGO         1  2013\n",
       "8394  LAX         1  2013\n",
       "5391  BNA        -1  2013\n",
       "9100  CAN        -1  2013\n",
       "3656  PVG         2  2013"
      ]
     },
     "execution_count": 14,
     "metadata": {},
     "output_type": "execute_result"
    }
   ],
   "source": [
    "b.sample(5)"
   ]
  },
  {
   "cell_type": "markdown",
   "metadata": {},
   "source": [
    "## 3) What to do with NaN?\n",
    "\n"
   ]
  },
  {
   "cell_type": "markdown",
   "metadata": {},
   "source": [
    "In the sample everything might be ok, but we should prepare for NaN case"
   ]
  },
  {
   "cell_type": "code",
   "execution_count": 15,
   "metadata": {},
   "outputs": [
    {
     "data": {
      "text/plain": [
       "arr_port    10000\n",
       "pax         10000\n",
       "year        10000\n",
       "dtype: int64"
      ]
     },
     "execution_count": 15,
     "metadata": {},
     "output_type": "execute_result"
    }
   ],
   "source": [
    "b.count()"
   ]
  },
  {
   "cell_type": "markdown",
   "metadata": {},
   "source": [
    "We check that there is no NaN"
   ]
  },
  {
   "cell_type": "markdown",
   "metadata": {},
   "source": [
    "If we would like to solve this inconvenient"
   ]
  },
  {
   "cell_type": "markdown",
   "metadata": {},
   "source": [
    "b = b.dropna() "
   ]
  },
  {
   "cell_type": "markdown",
   "metadata": {},
   "source": [
    "## 4) Make processing plan\n",
    "1) get only the bookings from 2013\n",
    "\n",
    "2) group by arr_port, sum\n",
    "\n",
    "3) sort \n",
    "\n",
    "4) get top 10"
   ]
  },
  {
   "cell_type": "markdown",
   "metadata": {},
   "source": [
    "#### 4.1) Get only the booking from 2013"
   ]
  },
  {
   "cell_type": "markdown",
   "metadata": {},
   "source": [
    "We get only the year. After that we grouby and sort from up to down"
   ]
  },
  {
   "cell_type": "code",
   "execution_count": 16,
   "metadata": {},
   "outputs": [
    {
     "data": {
      "text/html": [
       "<div>\n",
       "<style scoped>\n",
       "    .dataframe tbody tr th:only-of-type {\n",
       "        vertical-align: middle;\n",
       "    }\n",
       "\n",
       "    .dataframe tbody tr th {\n",
       "        vertical-align: top;\n",
       "    }\n",
       "\n",
       "    .dataframe thead th {\n",
       "        text-align: right;\n",
       "    }\n",
       "</style>\n",
       "<table border=\"1\" class=\"dataframe\">\n",
       "  <thead>\n",
       "    <tr style=\"text-align: right;\">\n",
       "      <th></th>\n",
       "      <th>pax</th>\n",
       "    </tr>\n",
       "    <tr>\n",
       "      <th>arr_port</th>\n",
       "      <th></th>\n",
       "    </tr>\n",
       "  </thead>\n",
       "  <tbody>\n",
       "    <tr>\n",
       "      <th>HKG</th>\n",
       "      <td>112</td>\n",
       "    </tr>\n",
       "    <tr>\n",
       "      <th>LGA</th>\n",
       "      <td>95</td>\n",
       "    </tr>\n",
       "    <tr>\n",
       "      <th>ORD</th>\n",
       "      <td>94</td>\n",
       "    </tr>\n",
       "    <tr>\n",
       "      <th>JFK</th>\n",
       "      <td>92</td>\n",
       "    </tr>\n",
       "    <tr>\n",
       "      <th>LAX</th>\n",
       "      <td>91</td>\n",
       "    </tr>\n",
       "    <tr>\n",
       "      <th>SFO</th>\n",
       "      <td>91</td>\n",
       "    </tr>\n",
       "    <tr>\n",
       "      <th>MCO</th>\n",
       "      <td>90</td>\n",
       "    </tr>\n",
       "    <tr>\n",
       "      <th>DCA</th>\n",
       "      <td>82</td>\n",
       "    </tr>\n",
       "    <tr>\n",
       "      <th>DEN</th>\n",
       "      <td>79</td>\n",
       "    </tr>\n",
       "    <tr>\n",
       "      <th>LHR</th>\n",
       "      <td>76</td>\n",
       "    </tr>\n",
       "  </tbody>\n",
       "</table>\n",
       "</div>"
      ],
      "text/plain": [
       "          pax\n",
       "arr_port     \n",
       "HKG       112\n",
       "LGA        95\n",
       "ORD        94\n",
       "JFK        92\n",
       "LAX        91\n",
       "SFO        91\n",
       "MCO        90\n",
       "DCA        82\n",
       "DEN        79\n",
       "LHR        76"
      ]
     },
     "execution_count": 16,
     "metadata": {},
     "output_type": "execute_result"
    }
   ],
   "source": [
    "b2 = b [b['year'] == 2013]\n",
    "b3 = b2.groupby('arr_port').agg({'pax' :'sum'}).sort_values(by='pax',ascending=False).head(10)\n",
    "b3"
   ]
  },
  {
   "cell_type": "markdown",
   "metadata": {},
   "source": [
    "## 5) Adjust the code to work with Big data\n",
    "\n",
    "\n",
    "Hint: check out https://pandas.pydata.org/pandas-docs/stable/io.html#io-chunking"
   ]
  },
  {
   "cell_type": "markdown",
   "metadata": {},
   "source": [
    "#### Now we need to put together the results from all the chunks"
   ]
  },
  {
   "cell_type": "markdown",
   "metadata": {},
   "source": [
    "Options:\n",
    "\n",
    "* df.append()\n",
    "\n",
    "* pd.concat()\n",
    "    \n",
    "    \n",
    "pd.concat handles several DataFrames in one go, while df.append creates a new DataFrame every time we call it."
   ]
  },
  {
   "cell_type": "markdown",
   "metadata": {},
   "source": [
    "There is more than one way to do it. In this case, we are going to do by two ways"
   ]
  },
  {
   "cell_type": "markdown",
   "metadata": {},
   "source": [
    "## Complete Solution 1"
   ]
  },
  {
   "cell_type": "code",
   "execution_count": 17,
   "metadata": {},
   "outputs": [],
   "source": [
    "c = pd.read_csv('bookings.csv.bz2',sep='^', usecols = ['arr_port','pax','year'],nrows=10000)"
   ]
  },
  {
   "cell_type": "code",
   "execution_count": 18,
   "metadata": {},
   "outputs": [
    {
     "data": {
      "text/plain": [
       "pandas.core.frame.DataFrame"
      ]
     },
     "execution_count": 18,
     "metadata": {},
     "output_type": "execute_result"
    }
   ],
   "source": [
    "type(c)"
   ]
  },
  {
   "cell_type": "markdown",
   "metadata": {},
   "source": [
    "We have read the file as pandas"
   ]
  },
  {
   "cell_type": "markdown",
   "metadata": {},
   "source": [
    "However, if we read including iterator, we are using a pointer. The file is on read mode"
   ]
  },
  {
   "cell_type": "code",
   "execution_count": 19,
   "metadata": {},
   "outputs": [],
   "source": [
    "c_it = pd.read_csv('bookings.csv.bz2',sep='^', usecols = ['arr_port','pax','year'],nrows=10000,iterator=True)"
   ]
  },
  {
   "cell_type": "code",
   "execution_count": 20,
   "metadata": {},
   "outputs": [
    {
     "data": {
      "text/plain": [
       "pandas.io.parsers.TextFileReader"
      ]
     },
     "execution_count": 20,
     "metadata": {},
     "output_type": "execute_result"
    }
   ],
   "source": [
    "type(c_it)"
   ]
  },
  {
   "cell_type": "markdown",
   "metadata": {},
   "source": [
    "Now, we can move inside the file using getchunk"
   ]
  },
  {
   "cell_type": "code",
   "execution_count": 21,
   "metadata": {},
   "outputs": [],
   "source": [
    "c_it0=c_it.get_chunk(6000)  #coge 6000 lineas del c_it y se hace dataframe"
   ]
  },
  {
   "cell_type": "markdown",
   "metadata": {},
   "source": [
    "This chunk is pandas too, but not in read mode, just as file. After that we could work with for loop to read the whole file"
   ]
  },
  {
   "cell_type": "code",
   "execution_count": 22,
   "metadata": {},
   "outputs": [
    {
     "data": {
      "text/plain": [
       "pandas.core.frame.DataFrame"
      ]
     },
     "execution_count": 22,
     "metadata": {},
     "output_type": "execute_result"
    }
   ],
   "source": [
    "type(c_it0)"
   ]
  },
  {
   "cell_type": "markdown",
   "metadata": {},
   "source": [
    "## Complete Solution 2"
   ]
  },
  {
   "cell_type": "markdown",
   "metadata": {},
   "source": [
    "In this second way, we use chunksize from the start."
   ]
  },
  {
   "cell_type": "code",
   "execution_count": 23,
   "metadata": {},
   "outputs": [],
   "source": [
    "c_ck = pd.read_csv('bookings.csv.bz2',sep='^', usecols = ['arr_port','pax','year'],nrows=10000, chunksize=3000)"
   ]
  },
  {
   "cell_type": "markdown",
   "metadata": {},
   "source": [
    "Now, we use for loop"
   ]
  },
  {
   "cell_type": "code",
   "execution_count": 24,
   "metadata": {},
   "outputs": [
    {
     "name": "stdout",
     "output_type": "stream",
     "text": [
      "   arr_port  pax  year\n",
      "0  LHR        -1  2013\n",
      "1  CLT         1  2013\n",
      "2  CLT         1  2013\n",
      "3  SVO         1  2013\n",
      "4  SVO         1  2013\n",
      "-------------------\n",
      "      arr_port  pax  year\n",
      "3000  DEN         1  2013\n",
      "3001  LAX         1  2013\n",
      "3002  LAX         1  2013\n",
      "3003  BUF         2  2013\n",
      "3004  PVG         1  2013\n",
      "-------------------\n",
      "      arr_port  pax  year\n",
      "6000  BOS         1  2013\n",
      "6001  BOS        -1  2013\n",
      "6002  BOS        -1  2013\n",
      "6003  BOS         1  2013\n",
      "6004  PHX         1  2013\n",
      "-------------------\n",
      "      arr_port  pax  year\n",
      "9000  LGA        -1  2013\n",
      "9001  LGA         1  2013\n",
      "9002  GIG         1  2013\n",
      "9003  GIG         1  2013\n",
      "9004  GIG        -1  2013\n",
      "-------------------\n"
     ]
    }
   ],
   "source": [
    "for i, chunk in enumerate(c_ck):\n",
    "    print(chunk.head())\n",
    "    print(\"-------------------\")"
   ]
  },
  {
   "cell_type": "markdown",
   "metadata": {},
   "source": [
    "We check that it is working well.\n",
    "\n",
    "We create the entire program"
   ]
  },
  {
   "cell_type": "code",
   "execution_count": 25,
   "metadata": {},
   "outputs": [
    {
     "name": "stdout",
     "output_type": "stream",
     "text": [
      "0\n",
      "1\n",
      "2\n",
      "3\n",
      "4\n",
      "5\n",
      "CPU times: user 3min 31s, sys: 2.71 s, total: 3min 34s\n",
      "Wall time: 3min 34s\n"
     ]
    }
   ],
   "source": [
    "%%time\n",
    "import pandas as pd\n",
    "\n",
    "c_ck2 = pd.read_csv('bookings.csv.bz2',sep='^', usecols = ['arr_port','pax','year'],chunksize=2000000)\n",
    "\n",
    "all_chunks=pd.DataFrame() #necesario crear un dataframe vacio\n",
    "\n",
    "for i, chunk in enumerate(c_ck2):\n",
    "    print(i)\n",
    "    df=chunk.dropna() #ponemos df para no sobreescribir\n",
    "    df=df[df['year']==2013]\n",
    "    del df['year']\n",
    "    small_chunk_result = df.groupby('arr_port').agg({'pax' :'sum'})\n",
    "    all_chunks=all_chunks.append(small_chunk_result)\n",
    "    \n",
    "top_airports=all_chunks.groupby('arr_port').agg({'pax' :'sum'}).sort_values(by='pax',ascending=False)"
   ]
  },
  {
   "cell_type": "markdown",
   "metadata": {},
   "source": [
    "The final solution"
   ]
  },
  {
   "cell_type": "code",
   "execution_count": 26,
   "metadata": {},
   "outputs": [
    {
     "data": {
      "text/html": [
       "<div>\n",
       "<style scoped>\n",
       "    .dataframe tbody tr th:only-of-type {\n",
       "        vertical-align: middle;\n",
       "    }\n",
       "\n",
       "    .dataframe tbody tr th {\n",
       "        vertical-align: top;\n",
       "    }\n",
       "\n",
       "    .dataframe thead th {\n",
       "        text-align: right;\n",
       "    }\n",
       "</style>\n",
       "<table border=\"1\" class=\"dataframe\">\n",
       "  <thead>\n",
       "    <tr style=\"text-align: right;\">\n",
       "      <th></th>\n",
       "      <th>pax</th>\n",
       "    </tr>\n",
       "    <tr>\n",
       "      <th>arr_port</th>\n",
       "      <th></th>\n",
       "    </tr>\n",
       "  </thead>\n",
       "  <tbody>\n",
       "    <tr>\n",
       "      <th>LHR</th>\n",
       "      <td>88809.0</td>\n",
       "    </tr>\n",
       "    <tr>\n",
       "      <th>MCO</th>\n",
       "      <td>70930.0</td>\n",
       "    </tr>\n",
       "    <tr>\n",
       "      <th>LAX</th>\n",
       "      <td>70530.0</td>\n",
       "    </tr>\n",
       "    <tr>\n",
       "      <th>LAS</th>\n",
       "      <td>69630.0</td>\n",
       "    </tr>\n",
       "    <tr>\n",
       "      <th>JFK</th>\n",
       "      <td>66270.0</td>\n",
       "    </tr>\n",
       "    <tr>\n",
       "      <th>CDG</th>\n",
       "      <td>64490.0</td>\n",
       "    </tr>\n",
       "    <tr>\n",
       "      <th>BKK</th>\n",
       "      <td>59460.0</td>\n",
       "    </tr>\n",
       "    <tr>\n",
       "      <th>MIA</th>\n",
       "      <td>58150.0</td>\n",
       "    </tr>\n",
       "    <tr>\n",
       "      <th>SFO</th>\n",
       "      <td>58000.0</td>\n",
       "    </tr>\n",
       "    <tr>\n",
       "      <th>DXB</th>\n",
       "      <td>55590.0</td>\n",
       "    </tr>\n",
       "  </tbody>\n",
       "</table>\n",
       "</div>"
      ],
      "text/plain": [
       "              pax\n",
       "arr_port         \n",
       "LHR       88809.0\n",
       "MCO       70930.0\n",
       "LAX       70530.0\n",
       "LAS       69630.0\n",
       "JFK       66270.0\n",
       "CDG       64490.0\n",
       "BKK       59460.0\n",
       "MIA       58150.0\n",
       "SFO       58000.0\n",
       "DXB       55590.0"
      ]
     },
     "execution_count": 26,
     "metadata": {},
     "output_type": "execute_result"
    }
   ],
   "source": [
    "top_airports.head(10)"
   ]
  },
  {
   "cell_type": "markdown",
   "metadata": {},
   "source": [
    "### Airport Names\n",
    "\n",
    "Using [neobase](https://github.com/alexprengere/neobase), the successor to GeoBases. It's a referential data library that particularly focuses on airports."
   ]
  },
  {
   "cell_type": "markdown",
   "metadata": {},
   "source": [
    "We import neobase"
   ]
  },
  {
   "cell_type": "code",
   "execution_count": 27,
   "metadata": {},
   "outputs": [],
   "source": [
    "from neobase import NeoBase"
   ]
  },
  {
   "cell_type": "code",
   "execution_count": 28,
   "metadata": {},
   "outputs": [],
   "source": [
    "b = NeoBase()"
   ]
  },
  {
   "cell_type": "code",
   "execution_count": 29,
   "metadata": {},
   "outputs": [
    {
     "data": {
      "text/plain": [
       "(('iata_code', 0, None),\n",
       " ('name', 6, None),\n",
       " ('lat', 8, None),\n",
       " ('lng', 9, None),\n",
       " ('page_rank', 12, <function neobase.neobase.NeoBase.<lambda>>),\n",
       " ('country_code', 16, None),\n",
       " ('country_name', 18, None),\n",
       " ('continent_name', 19, None),\n",
       " ('timezone', 31, None),\n",
       " ('city_code_list', 36, <function neobase.neobase.NeoBase.<lambda>>),\n",
       " ('city_name_list', 37, <function neobase.neobase.NeoBase.<lambda>>),\n",
       " ('location_type', 41, list),\n",
       " ('currency', 46, None))"
      ]
     },
     "execution_count": 29,
     "metadata": {},
     "output_type": "execute_result"
    }
   ],
   "source": [
    "b.FIELDS"
   ]
  },
  {
   "cell_type": "markdown",
   "metadata": {},
   "source": [
    "We can find the name airport of Alicante"
   ]
  },
  {
   "cell_type": "code",
   "execution_count": 30,
   "metadata": {},
   "outputs": [
    {
     "data": {
      "text/plain": [
       "'Alicante–Elche Airport'"
      ]
     },
     "execution_count": 30,
     "metadata": {},
     "output_type": "execute_result"
    }
   ],
   "source": [
    "b.get(\"ALC\")['name']"
   ]
  },
  {
   "cell_type": "markdown",
   "metadata": {},
   "source": [
    "There are many whitespaces!!! Be aware of this"
   ]
  },
  {
   "cell_type": "code",
   "execution_count": 31,
   "metadata": {},
   "outputs": [
    {
     "data": {
      "text/plain": [
       "['LHR     ',\n",
       " 'MCO     ',\n",
       " 'LAX     ',\n",
       " 'LAS     ',\n",
       " 'JFK     ',\n",
       " 'CDG     ',\n",
       " 'BKK     ',\n",
       " 'MIA     ',\n",
       " 'SFO     ',\n",
       " 'DXB     ']"
      ]
     },
     "execution_count": 31,
     "metadata": {},
     "output_type": "execute_result"
    }
   ],
   "source": [
    "list(top_airports.index)[0:10]"
   ]
  },
  {
   "cell_type": "code",
   "execution_count": 32,
   "metadata": {},
   "outputs": [
    {
     "data": {
      "text/html": [
       "<div>\n",
       "<style scoped>\n",
       "    .dataframe tbody tr th:only-of-type {\n",
       "        vertical-align: middle;\n",
       "    }\n",
       "\n",
       "    .dataframe tbody tr th {\n",
       "        vertical-align: top;\n",
       "    }\n",
       "\n",
       "    .dataframe thead th {\n",
       "        text-align: right;\n",
       "    }\n",
       "</style>\n",
       "<table border=\"1\" class=\"dataframe\">\n",
       "  <thead>\n",
       "    <tr style=\"text-align: right;\">\n",
       "      <th></th>\n",
       "      <th>pax</th>\n",
       "    </tr>\n",
       "    <tr>\n",
       "      <th>arr_port</th>\n",
       "      <th></th>\n",
       "    </tr>\n",
       "  </thead>\n",
       "  <tbody>\n",
       "    <tr>\n",
       "      <th>LHR</th>\n",
       "      <td>88809.0</td>\n",
       "    </tr>\n",
       "    <tr>\n",
       "      <th>MCO</th>\n",
       "      <td>70930.0</td>\n",
       "    </tr>\n",
       "    <tr>\n",
       "      <th>LAX</th>\n",
       "      <td>70530.0</td>\n",
       "    </tr>\n",
       "    <tr>\n",
       "      <th>LAS</th>\n",
       "      <td>69630.0</td>\n",
       "    </tr>\n",
       "    <tr>\n",
       "      <th>JFK</th>\n",
       "      <td>66270.0</td>\n",
       "    </tr>\n",
       "    <tr>\n",
       "      <th>CDG</th>\n",
       "      <td>64490.0</td>\n",
       "    </tr>\n",
       "    <tr>\n",
       "      <th>BKK</th>\n",
       "      <td>59460.0</td>\n",
       "    </tr>\n",
       "    <tr>\n",
       "      <th>MIA</th>\n",
       "      <td>58150.0</td>\n",
       "    </tr>\n",
       "    <tr>\n",
       "      <th>SFO</th>\n",
       "      <td>58000.0</td>\n",
       "    </tr>\n",
       "    <tr>\n",
       "      <th>DXB</th>\n",
       "      <td>55590.0</td>\n",
       "    </tr>\n",
       "  </tbody>\n",
       "</table>\n",
       "</div>"
      ],
      "text/plain": [
       "              pax\n",
       "arr_port         \n",
       "LHR       88809.0\n",
       "MCO       70930.0\n",
       "LAX       70530.0\n",
       "LAS       69630.0\n",
       "JFK       66270.0\n",
       "CDG       64490.0\n",
       "BKK       59460.0\n",
       "MIA       58150.0\n",
       "SFO       58000.0\n",
       "DXB       55590.0"
      ]
     },
     "execution_count": 32,
     "metadata": {},
     "output_type": "execute_result"
    }
   ],
   "source": [
    "top_airports.head(10)"
   ]
  },
  {
   "cell_type": "markdown",
   "metadata": {},
   "source": [
    "Distance between two airports"
   ]
  },
  {
   "cell_type": "code",
   "execution_count": 34,
   "metadata": {},
   "outputs": [
    {
     "data": {
      "text/plain": [
       "34.87480576468853"
      ]
     },
     "execution_count": 34,
     "metadata": {},
     "output_type": "execute_result"
    }
   ],
   "source": [
    "b.distance('ORY', 'CDG')"
   ]
  },
  {
   "cell_type": "code",
   "execution_count": 35,
   "metadata": {},
   "outputs": [
    {
     "data": {
      "text/plain": [
       "34.87"
      ]
     },
     "execution_count": 35,
     "metadata": {},
     "output_type": "execute_result"
    }
   ],
   "source": [
    "round(b.distance('ORY', 'CDG'),2)"
   ]
  },
  {
   "cell_type": "markdown",
   "metadata": {},
   "source": [
    "Location of ORY"
   ]
  },
  {
   "cell_type": "code",
   "execution_count": 36,
   "metadata": {},
   "outputs": [
    {
     "data": {
      "text/plain": [
       "LatLng(lat=48.72528, lng=2.35944)"
      ]
     },
     "execution_count": 36,
     "metadata": {},
     "output_type": "execute_result"
    }
   ],
   "source": [
    "b.get_location('ORY')"
   ]
  },
  {
   "cell_type": "markdown",
   "metadata": {},
   "source": [
    "### Whitespaces\n",
    "\n",
    "If we want to delete whitespaces from columns"
   ]
  },
  {
   "cell_type": "markdown",
   "metadata": {},
   "source": [
    "We reset index"
   ]
  },
  {
   "cell_type": "code",
   "execution_count": 43,
   "metadata": {},
   "outputs": [],
   "source": [
    "top_airports.reset_index(inplace=True)"
   ]
  },
  {
   "cell_type": "markdown",
   "metadata": {},
   "source": [
    "We check"
   ]
  },
  {
   "cell_type": "code",
   "execution_count": 44,
   "metadata": {},
   "outputs": [
    {
     "data": {
      "text/html": [
       "<div>\n",
       "<style scoped>\n",
       "    .dataframe tbody tr th:only-of-type {\n",
       "        vertical-align: middle;\n",
       "    }\n",
       "\n",
       "    .dataframe tbody tr th {\n",
       "        vertical-align: top;\n",
       "    }\n",
       "\n",
       "    .dataframe thead th {\n",
       "        text-align: right;\n",
       "    }\n",
       "</style>\n",
       "<table border=\"1\" class=\"dataframe\">\n",
       "  <thead>\n",
       "    <tr style=\"text-align: right;\">\n",
       "      <th></th>\n",
       "      <th>arr_port</th>\n",
       "      <th>pax</th>\n",
       "    </tr>\n",
       "  </thead>\n",
       "  <tbody>\n",
       "    <tr>\n",
       "      <th>0</th>\n",
       "      <td>LHR</td>\n",
       "      <td>88809.0</td>\n",
       "    </tr>\n",
       "    <tr>\n",
       "      <th>1</th>\n",
       "      <td>MCO</td>\n",
       "      <td>70930.0</td>\n",
       "    </tr>\n",
       "    <tr>\n",
       "      <th>2</th>\n",
       "      <td>LAX</td>\n",
       "      <td>70530.0</td>\n",
       "    </tr>\n",
       "    <tr>\n",
       "      <th>3</th>\n",
       "      <td>LAS</td>\n",
       "      <td>69630.0</td>\n",
       "    </tr>\n",
       "    <tr>\n",
       "      <th>4</th>\n",
       "      <td>JFK</td>\n",
       "      <td>66270.0</td>\n",
       "    </tr>\n",
       "  </tbody>\n",
       "</table>\n",
       "</div>"
      ],
      "text/plain": [
       "   arr_port      pax\n",
       "0  LHR       88809.0\n",
       "1  MCO       70930.0\n",
       "2  LAX       70530.0\n",
       "3  LAS       69630.0\n",
       "4  JFK       66270.0"
      ]
     },
     "execution_count": 44,
     "metadata": {},
     "output_type": "execute_result"
    }
   ],
   "source": [
    "top_airports.head()"
   ]
  },
  {
   "cell_type": "markdown",
   "metadata": {},
   "source": [
    "We delete whitespaces"
   ]
  },
  {
   "cell_type": "code",
   "execution_count": 48,
   "metadata": {},
   "outputs": [],
   "source": [
    "top_airports['arr_port2']=top_airports['arr_port'].map(lambda x: x.strip())"
   ]
  },
  {
   "cell_type": "code",
   "execution_count": 49,
   "metadata": {},
   "outputs": [
    {
     "data": {
      "text/html": [
       "<div>\n",
       "<style scoped>\n",
       "    .dataframe tbody tr th:only-of-type {\n",
       "        vertical-align: middle;\n",
       "    }\n",
       "\n",
       "    .dataframe tbody tr th {\n",
       "        vertical-align: top;\n",
       "    }\n",
       "\n",
       "    .dataframe thead th {\n",
       "        text-align: right;\n",
       "    }\n",
       "</style>\n",
       "<table border=\"1\" class=\"dataframe\">\n",
       "  <thead>\n",
       "    <tr style=\"text-align: right;\">\n",
       "      <th></th>\n",
       "      <th>arr_port</th>\n",
       "      <th>pax</th>\n",
       "      <th>arr_port2</th>\n",
       "    </tr>\n",
       "  </thead>\n",
       "  <tbody>\n",
       "    <tr>\n",
       "      <th>0</th>\n",
       "      <td>LHR</td>\n",
       "      <td>88809.0</td>\n",
       "      <td>LHR</td>\n",
       "    </tr>\n",
       "    <tr>\n",
       "      <th>1</th>\n",
       "      <td>MCO</td>\n",
       "      <td>70930.0</td>\n",
       "      <td>MCO</td>\n",
       "    </tr>\n",
       "    <tr>\n",
       "      <th>2</th>\n",
       "      <td>LAX</td>\n",
       "      <td>70530.0</td>\n",
       "      <td>LAX</td>\n",
       "    </tr>\n",
       "    <tr>\n",
       "      <th>3</th>\n",
       "      <td>LAS</td>\n",
       "      <td>69630.0</td>\n",
       "      <td>LAS</td>\n",
       "    </tr>\n",
       "    <tr>\n",
       "      <th>4</th>\n",
       "      <td>JFK</td>\n",
       "      <td>66270.0</td>\n",
       "      <td>JFK</td>\n",
       "    </tr>\n",
       "  </tbody>\n",
       "</table>\n",
       "</div>"
      ],
      "text/plain": [
       "   arr_port      pax arr_port2\n",
       "0  LHR       88809.0       LHR\n",
       "1  MCO       70930.0       MCO\n",
       "2  LAX       70530.0       LAX\n",
       "3  LAS       69630.0       LAS\n",
       "4  JFK       66270.0       JFK"
      ]
     },
     "execution_count": 49,
     "metadata": {},
     "output_type": "execute_result"
    }
   ],
   "source": [
    "top_airports.head()"
   ]
  },
  {
   "cell_type": "code",
   "execution_count": 50,
   "metadata": {},
   "outputs": [
    {
     "data": {
      "text/plain": [
       "'LHR'"
      ]
     },
     "execution_count": 50,
     "metadata": {},
     "output_type": "execute_result"
    }
   ],
   "source": [
    "top_airports['arr_port2'][0]"
   ]
  },
  {
   "cell_type": "markdown",
   "metadata": {},
   "source": [
    "Now, we should delete city airpot CPQ\n",
    "\n",
    "We check the length before and after the remove"
   ]
  },
  {
   "cell_type": "code",
   "execution_count": 51,
   "metadata": {},
   "outputs": [
    {
     "data": {
      "text/plain": [
       "2274"
      ]
     },
     "execution_count": 51,
     "metadata": {},
     "output_type": "execute_result"
    }
   ],
   "source": [
    "len(top_airports)"
   ]
  },
  {
   "cell_type": "code",
   "execution_count": 52,
   "metadata": {},
   "outputs": [],
   "source": [
    "top_airports2 = top_airports[      top_airports['arr_port2'] != 'CPQ'     ]"
   ]
  },
  {
   "cell_type": "code",
   "execution_count": 54,
   "metadata": {},
   "outputs": [
    {
     "data": {
      "text/plain": [
       "2273"
      ]
     },
     "execution_count": 54,
     "metadata": {},
     "output_type": "execute_result"
    }
   ],
   "source": [
    "len(top_airports2)"
   ]
  },
  {
   "cell_type": "code",
   "execution_count": 55,
   "metadata": {},
   "outputs": [
    {
     "name": "stderr",
     "output_type": "stream",
     "text": [
      "/home/dsc/anaconda3/lib/python3.6/site-packages/ipykernel_launcher.py:1: SettingWithCopyWarning: \n",
      "A value is trying to be set on a copy of a slice from a DataFrame.\n",
      "Try using .loc[row_indexer,col_indexer] = value instead\n",
      "\n",
      "See the caveats in the documentation: http://pandas.pydata.org/pandas-docs/stable/indexing.html#indexing-view-versus-copy\n",
      "  \"\"\"Entry point for launching an IPython kernel.\n"
     ]
    },
    {
     "data": {
      "text/html": [
       "<div>\n",
       "<style scoped>\n",
       "    .dataframe tbody tr th:only-of-type {\n",
       "        vertical-align: middle;\n",
       "    }\n",
       "\n",
       "    .dataframe tbody tr th {\n",
       "        vertical-align: top;\n",
       "    }\n",
       "\n",
       "    .dataframe thead th {\n",
       "        text-align: right;\n",
       "    }\n",
       "</style>\n",
       "<table border=\"1\" class=\"dataframe\">\n",
       "  <thead>\n",
       "    <tr style=\"text-align: right;\">\n",
       "      <th></th>\n",
       "      <th>arr_port</th>\n",
       "      <th>pax</th>\n",
       "      <th>arr_port2</th>\n",
       "      <th>Airport_Name</th>\n",
       "    </tr>\n",
       "  </thead>\n",
       "  <tbody>\n",
       "    <tr>\n",
       "      <th>0</th>\n",
       "      <td>LHR</td>\n",
       "      <td>88809.0</td>\n",
       "      <td>LHR</td>\n",
       "      <td>London Heathrow Airport</td>\n",
       "    </tr>\n",
       "    <tr>\n",
       "      <th>1</th>\n",
       "      <td>MCO</td>\n",
       "      <td>70930.0</td>\n",
       "      <td>MCO</td>\n",
       "      <td>Orlando International Airport</td>\n",
       "    </tr>\n",
       "    <tr>\n",
       "      <th>2</th>\n",
       "      <td>LAX</td>\n",
       "      <td>70530.0</td>\n",
       "      <td>LAX</td>\n",
       "      <td>Los Angeles International Airport</td>\n",
       "    </tr>\n",
       "    <tr>\n",
       "      <th>3</th>\n",
       "      <td>LAS</td>\n",
       "      <td>69630.0</td>\n",
       "      <td>LAS</td>\n",
       "      <td>McCarran International Airport</td>\n",
       "    </tr>\n",
       "    <tr>\n",
       "      <th>4</th>\n",
       "      <td>JFK</td>\n",
       "      <td>66270.0</td>\n",
       "      <td>JFK</td>\n",
       "      <td>John F. Kennedy International Airport</td>\n",
       "    </tr>\n",
       "  </tbody>\n",
       "</table>\n",
       "</div>"
      ],
      "text/plain": [
       "   arr_port      pax arr_port2                           Airport_Name\n",
       "0  LHR       88809.0       LHR                London Heathrow Airport\n",
       "1  MCO       70930.0       MCO          Orlando International Airport\n",
       "2  LAX       70530.0       LAX      Los Angeles International Airport\n",
       "3  LAS       69630.0       LAS         McCarran International Airport\n",
       "4  JFK       66270.0       JFK  John F. Kennedy International Airport"
      ]
     },
     "execution_count": 55,
     "metadata": {},
     "output_type": "execute_result"
    }
   ],
   "source": [
    "top_airports2['Airport_Name'] = top_airports2['arr_port'].map(lambda x: b.get(x.rstrip(), 'name'))\n",
    "top_airports2.head(5)"
   ]
  },
  {
   "cell_type": "markdown",
   "metadata": {},
   "source": [
    "Finally, we check the directory and save the file as csv"
   ]
  },
  {
   "cell_type": "code",
   "execution_count": 56,
   "metadata": {},
   "outputs": [
    {
     "data": {
      "text/plain": [
       "'/home/dsc/Data/challenge'"
      ]
     },
     "execution_count": 56,
     "metadata": {},
     "output_type": "execute_result"
    }
   ],
   "source": [
    "pwd"
   ]
  },
  {
   "cell_type": "code",
   "execution_count": 57,
   "metadata": {},
   "outputs": [],
   "source": [
    "top_airports2.to_csv('/home/dsc/Data/challenge/top_airports3.csv', sep='^', index=False)"
   ]
  }
 ],
 "metadata": {
  "kernelspec": {
   "display_name": "Python 3",
   "language": "python",
   "name": "python3"
  },
  "language_info": {
   "codemirror_mode": {
    "name": "ipython",
    "version": 3
   },
   "file_extension": ".py",
   "mimetype": "text/x-python",
   "name": "python",
   "nbconvert_exporter": "python",
   "pygments_lexer": "ipython3",
   "version": "3.6.8"
  }
 },
 "nbformat": 4,
 "nbformat_minor": 2
}
