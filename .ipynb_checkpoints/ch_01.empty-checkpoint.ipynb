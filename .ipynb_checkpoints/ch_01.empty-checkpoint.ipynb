{
 "cells": [
  {
   "cell_type": "markdown",
   "metadata": {},
   "source": [
    "# Count the number of lines in Python for each file"
   ]
  },
  {
   "cell_type": "code",
   "execution_count": 1,
   "metadata": {},
   "outputs": [
    {
     "data": {
      "text/plain": [
       "'/home/dsc/kschool_data_science'"
      ]
     },
     "execution_count": 1,
     "metadata": {},
     "output_type": "execute_result"
    }
   ],
   "source": [
    "pwd #we can use without ! because it is a magic command"
   ]
  },
  {
   "cell_type": "markdown",
   "metadata": {},
   "source": [
    "## 1) Command Line\n",
    "\n",
    "Use shell commands with the `!` notation to count the number of lines in `bookings.csv.bz2` and `searches.csv.bz2`."
   ]
  },
  {
   "cell_type": "markdown",
   "metadata": {},
   "source": [
    "Where are those files?"
   ]
  },
  {
   "cell_type": "code",
   "execution_count": 7,
   "metadata": {},
   "outputs": [
    {
     "name": "stdout",
     "output_type": "stream",
     "text": [
      "/home/dsc/Data/challenge\n"
     ]
    }
   ],
   "source": [
    "cd ~/Data/challenge/\n"
   ]
  },
  {
   "cell_type": "code",
   "execution_count": 8,
   "metadata": {},
   "outputs": [
    {
     "name": "stdout",
     "output_type": "stream",
     "text": [
      "total 1990460\n",
      "-rwxr-x--- 1 dsc dsc 554970628 mar 13  2018 bookings.csv.bz2\n",
      "-rw-r--r-- 1 dsc dsc 860971283 feb  2 12:32 bookings.no_dup.csv\n",
      "-rw-r--r-- 1 dsc dsc   2119069 feb  1 11:38 bookings_sample2.csv\n",
      "-rw-r--r-- 1 dsc dsc    535893 feb  1 17:15 bookings_sample_clase.csv.bz2\n",
      "-rw-r--r-- 1 dsc dsc   2119069 ene 31 22:38 bookings_sample.csv\n",
      "-rwxr-x--- 1 dsc dsc 483188920 mar 13  2018 searches.csv.bz2\n",
      "-rw-r--r-- 1 dsc dsc 133026386 feb  2 12:33 searches.no_dup.csv\n",
      "-rw-r--r-- 1 dsc dsc    244720 feb  1 17:17 searches_sample_clase.csv.bz2\n",
      "-rw-r--r-- 1 dsc dsc    910597 feb  1 00:00 searches_sample.csv\n",
      "-rw-r--r-- 1 dsc dsc    102798 feb  2 09:16 top_airports2.csv\n",
      "-rw-r--r-- 1 dsc dsc        72 feb  1 21:03 Untitled.ipynb\n"
     ]
    }
   ],
   "source": [
    "! ls -l"
   ]
  },
  {
   "cell_type": "markdown",
   "metadata": {},
   "source": [
    "\n",
    "\n",
    "We have found our zips. Both of them are bz2 type: this means that they only contain one file in each case.\n",
    "\n",
    "For this reason, we use bzat > This command permits to check bz2 files. \n",
    "\n",
    "In this case, it is recommend to work with a sample of the total file because of their magnitude. However, it would be possible to work like this:\n",
    "!bzcat bookings.csv.bz2 | wc -l "
   ]
  },
  {
   "cell_type": "code",
   "execution_count": 9,
   "metadata": {},
   "outputs": [
    {
     "name": "stdout",
     "output_type": "stream",
     "text": [
      "\n",
      "bzcat: I/O or other error, bailing out.  Possible reason follows.\n",
      "bzcat: Broken pipe\n",
      "\tInput file = bookings.csv.bz2, output file = (stdout)\n"
     ]
    }
   ],
   "source": [
    "!bzcat bookings.csv.bz2 | head -10000 > bookings_sample_clase_git.csv"
   ]
  },
  {
   "cell_type": "markdown",
   "metadata": {},
   "source": [
    "We check if the file is contain in the folder."
   ]
  },
  {
   "cell_type": "code",
   "execution_count": 11,
   "metadata": {},
   "outputs": [
    {
     "name": "stdout",
     "output_type": "stream",
     "text": [
      "bookings.csv.bz2\t       searches.csv.bz2\n",
      "bookings.no_dup.csv\t       searches.no_dup.csv\n",
      "bookings_sample2.csv\t       searches_sample_clase.csv.bz2\n",
      "bookings_sample_clase.csv.bz2  searches_sample.csv\n",
      "bookings_sample_clase_git.csv  top_airports2.csv\n",
      "bookings_sample.csv\t       Untitled.ipynb\n"
     ]
    }
   ],
   "source": [
    "! ls"
   ]
  },
  {
   "cell_type": "markdown",
   "metadata": {},
   "source": [
    "After unzipping the file and working with a sample, we zip again in order to maintain the structure."
   ]
  },
  {
   "cell_type": "code",
   "execution_count": 13,
   "metadata": {},
   "outputs": [],
   "source": [
    "!bzip2 -f bookings_sample_clase_git.csv"
   ]
  },
  {
   "cell_type": "markdown",
   "metadata": {},
   "source": [
    "We check again if the file is running correctly"
   ]
  },
  {
   "cell_type": "code",
   "execution_count": 14,
   "metadata": {},
   "outputs": [
    {
     "name": "stdout",
     "output_type": "stream",
     "text": [
      "bookings.csv.bz2\t\t   searches.csv.bz2\n",
      "bookings.no_dup.csv\t\t   searches.no_dup.csv\n",
      "bookings_sample2.csv\t\t   searches_sample_clase.csv.bz2\n",
      "bookings_sample_clase.csv.bz2\t   searches_sample.csv\n",
      "bookings_sample_clase_git.csv.bz2  top_airports2.csv\n",
      "bookings_sample.csv\t\t   Untitled.ipynb\n"
     ]
    }
   ],
   "source": [
    "! ls"
   ]
  },
  {
   "cell_type": "markdown",
   "metadata": {},
   "source": [
    "Finally, we count the lines of this sample"
   ]
  },
  {
   "cell_type": "code",
   "execution_count": 18,
   "metadata": {},
   "outputs": [
    {
     "name": "stdout",
     "output_type": "stream",
     "text": [
      "10000\n"
     ]
    }
   ],
   "source": [
    "!bzcat bookings_sample_clase_git.csv.bz2 | wc -l"
   ]
  },
  {
   "cell_type": "markdown",
   "metadata": {},
   "source": [
    "As we observe from the result, the word count return 10000 lines as our sample contais. It is correct this mode of developping.\n",
    "\n",
    "Now, we are going to compress all the steps in one cell."
   ]
  },
  {
   "cell_type": "code",
   "execution_count": 16,
   "metadata": {},
   "outputs": [
    {
     "name": "stdout",
     "output_type": "stream",
     "text": [
      "total 1990984\n",
      "-rwxr-x--- 1 dsc dsc 554970628 mar 13  2018 bookings.csv.bz2\n",
      "-rw-r--r-- 1 dsc dsc 860971283 feb  2 12:32 bookings.no_dup.csv\n",
      "-rw-r--r-- 1 dsc dsc   2119069 feb  1 11:38 bookings_sample2.csv\n",
      "-rw-r--r-- 1 dsc dsc    535893 feb  1 17:15 bookings_sample_clase.csv.bz2\n",
      "-rw-r--r-- 1 dsc dsc    535893 feb  4 20:54 bookings_sample_clase_git.csv.bz2\n",
      "-rw-r--r-- 1 dsc dsc   2119069 ene 31 22:38 bookings_sample.csv\n",
      "-rwxr-x--- 1 dsc dsc 483188920 mar 13  2018 searches.csv.bz2\n",
      "-rw-r--r-- 1 dsc dsc 133026386 feb  2 12:33 searches.no_dup.csv\n",
      "-rw-r--r-- 1 dsc dsc    244720 feb  4 21:02 searches_sample_clase.csv.bz2\n",
      "-rw-r--r-- 1 dsc dsc    910597 feb  1 00:00 searches_sample.csv\n",
      "-rw-r--r-- 1 dsc dsc    102798 feb  2 09:16 top_airports2.csv\n",
      "-rw-r--r-- 1 dsc dsc        72 feb  1 21:03 Untitled.ipynb\n"
     ]
    }
   ],
   "source": [
    "%%bash\n",
    "bzcat searches.csv.bz2 | head -10000 > searches_sample_clase.csv\n",
    "bzip2 -f searches_sample_clase.csv\n",
    "ls -l"
   ]
  },
  {
   "cell_type": "code",
   "execution_count": 19,
   "metadata": {},
   "outputs": [
    {
     "name": "stdout",
     "output_type": "stream",
     "text": [
      "10000\n"
     ]
    }
   ],
   "source": [
    "!bzcat bookings_sample_clase_git.csv.bz2 | wc -l"
   ]
  },
  {
   "cell_type": "markdown",
   "metadata": {},
   "source": [
    "## 2) Python:"
   ]
  },
  {
   "cell_type": "markdown",
   "metadata": {},
   "source": [
    "We have 2 options:\n",
    "\n",
    "* uncompressing the whole file, then reading from the result.\n",
    "\n",
    "* without uncompressing: better, because we don't expend as much storage or litter our HDD.\n"
   ]
  },
  {
   "cell_type": "markdown",
   "metadata": {},
   "source": [
    "#### Python without uncompressing"
   ]
  },
  {
   "cell_type": "code",
   "execution_count": null,
   "metadata": {},
   "outputs": [],
   "source": []
  }
 ],
 "metadata": {
  "kernelspec": {
   "display_name": "Python 3",
   "language": "python",
   "name": "python3"
  },
  "language_info": {
   "codemirror_mode": {
    "name": "ipython",
    "version": 3
   },
   "file_extension": ".py",
   "mimetype": "text/x-python",
   "name": "python",
   "nbconvert_exporter": "python",
   "pygments_lexer": "ipython3",
   "version": "3.6.4"
  }
 },
 "nbformat": 4,
 "nbformat_minor": 2
}
