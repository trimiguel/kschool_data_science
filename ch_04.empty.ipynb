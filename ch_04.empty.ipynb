{
 "cells": [
  {
   "cell_type": "markdown",
   "metadata": {},
   "source": [
    "## Match searches with bookings\n",
    "\n",
    "- For every search in the searches file, find out whether the search ended up in a booking or not (using the info in the bookings file). For instance, search and booking origin and destination should match. \n",
    "\n",
    "- For the bookings file, origin and destination are the columns dep_port and arr_port, respectively. \n",
    "\n",
    "- Generate a CSV file with the search data, and an additional field, containing 1 if the search ended up in a booking, and 0 otherwise.\n",
    "\n"
   ]
  },
  {
   "cell_type": "raw",
   "metadata": {},
   "source": [
    "1) Get familiar with data\n",
    "2) Prepare the data for processing\n",
    "\n",
    "3) Make action plan\n",
    "4) Develop the code that works with a sample\n",
    "\n",
    "5) Adjust the code to work with Big data\n",
    "6) Test big data approach on a sample\n",
    "\n",
    "7) Run program with big data"
   ]
  },
  {
   "cell_type": "markdown",
   "metadata": {},
   "source": [
    "## 2) Prepare the data for processing"
   ]
  },
  {
   "cell_type": "markdown",
   "metadata": {},
   "source": [
    "### Booking"
   ]
  },
  {
   "cell_type": "markdown",
   "metadata": {},
   "source": [
    "#### We didnt check for duplicates so far... What if the file is has duplicated lines?"
   ]
  },
  {
   "cell_type": "markdown",
   "metadata": {},
   "source": [
    "http://stackoverflow.com/questions/24251219/pandas-read-csv-low-memory-and-dtype-options"
   ]
  },
  {
   "cell_type": "code",
   "execution_count": null,
   "metadata": {
    "collapsed": true
   },
   "outputs": [],
   "source": []
  },
  {
   "cell_type": "markdown",
   "metadata": {},
   "source": [
    "### * Duplicates"
   ]
  },
  {
   "cell_type": "code",
   "execution_count": null,
   "metadata": {},
   "outputs": [],
   "source": []
  },
  {
   "cell_type": "markdown",
   "metadata": {},
   "source": [
    "#### We have seen that we have white space in some columns...."
   ]
  },
  {
   "cell_type": "code",
   "execution_count": null,
   "metadata": {
    "collapsed": true
   },
   "outputs": [],
   "source": []
  },
  {
   "cell_type": "markdown",
   "metadata": {},
   "source": [
    "###  Search"
   ]
  },
  {
   "cell_type": "code",
   "execution_count": null,
   "metadata": {},
   "outputs": [],
   "source": []
  },
  {
   "cell_type": "markdown",
   "metadata": {},
   "source": [
    "## 3) Make action plan"
   ]
  },
  {
   "cell_type": "markdown",
   "metadata": {},
   "source": [
    "Generate a CSV file with the search data, and an additional field, containing 1 if the search ended up in a booking, and 0 otherwise.\n",
    "\n",
    "1) remove duplicates\n",
    "\n",
    "2) parse dates from string to datetime\n",
    "\n",
    "3) remove whitespaces\n",
    "\n",
    "        a) from colum names\n",
    "        \n",
    "        b) from content\n",
    "        \n",
    "4) remove NaN\n",
    "\n",
    "5) define the model\n",
    "\n",
    "    if there is one booking for a given O&D done at the same day as the search (for a given O&D), ALL searches of the day (for a given 0&D) might have resulted from the same source and will be set with 1.\n",
    "    This is regardless of the boarding time of the plane... So if I was looking for plane for the first 4 days of December for a given O&D all those searches would be set to 1 not just the one correspoding to the correct boarding time\n",
    "\n",
    "        match\n",
    "        Search : [search_date, O&D] \n",
    "        Booking: [creation_date, O&D]\n",
    "\n",
    "6) execute the model\n",
    "\n",
    "        a) Group by bookings on [cre_date, O&D] so that we dont have duplicates \n",
    "        (and we can have number of bookings for the day)\n",
    "        or we can just drop the duplicates\n",
    "        b) search left join bookings adding \"Booked\" column\n",
    "        c) test if the merge was done right\n",
    "        d) fill NaN of \"booked\" column with 0\n",
    "        e) pull all values of booked column >1 to 1"
   ]
  },
  {
   "cell_type": "markdown",
   "metadata": {
    "collapsed": true
   },
   "source": [
    "more complex... get number of segments from searches\n",
    "match search_date, and then split all O&D of all segments, and match the date of first flight of each segment (seg1Date, seg2Date)\n",
    "with boarding time and O&D and act_date of booking"
   ]
  },
  {
   "cell_type": "markdown",
   "metadata": {},
   "source": [
    "What do we have?"
   ]
  },
  {
   "cell_type": "code",
   "execution_count": null,
   "metadata": {},
   "outputs": [],
   "source": []
  },
  {
   "cell_type": "markdown",
   "metadata": {},
   "source": [
    "Why is it that the join has returned empty????\n",
    "\n",
    "\n",
    "The data in two of the columns also has embedded whitespace, just like the column names."
   ]
  },
  {
   "cell_type": "code",
   "execution_count": null,
   "metadata": {},
   "outputs": [],
   "source": []
  },
  {
   "cell_type": "markdown",
   "metadata": {},
   "source": [
    "Now it seems we got everything we need and not more: we haven't caused duplication or loss of records. We are ready to extend the approach to the whole dataset.\n",
    "\n",
    "The problem text specifies that we need to write a csv out. Therefore, we don't even need to build the whole DataFrame in memory, we just need to write the partial results out as we get them. We can use `mode='a'` in order to append each chunk to the same file- we just need to be careful to write the header only once."
   ]
  },
  {
   "cell_type": "code",
   "execution_count": null,
   "metadata": {},
   "outputs": [],
   "source": []
  }
 ],
 "metadata": {
  "kernelspec": {
   "display_name": "Python 3",
   "language": "python",
   "name": "python3"
  },
  "language_info": {
   "codemirror_mode": {
    "name": "ipython",
    "version": 3
   },
   "file_extension": ".py",
   "mimetype": "text/x-python",
   "name": "python",
   "nbconvert_exporter": "python",
   "pygments_lexer": "ipython3",
   "version": "3.6.2"
  }
 },
 "nbformat": 4,
 "nbformat_minor": 1
}
