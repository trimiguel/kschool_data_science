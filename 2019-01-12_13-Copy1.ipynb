{
 "cells": [
  {
   "cell_type": "markdown",
   "metadata": {},
   "source": [
    "## Por qué mola el Jupyter Notebook?\n",
    "\n",
    "### porque podemos escribir texto con formato\n",
    "\n",
    "como __este__ o _este_\n",
    "\n",
    "### y tambien mates!\n",
    "\n",
    "dentro de un texto: $\\mu = \\frac{\\sum_{i=0}^{i=n}{x_i}}{n}$, por ejemplo\n",
    "\n",
    "o como parrafo independiente\n",
    "\n",
    "$$\\mu = \\frac{\\sum_{i=0}^{i=n}{x_i}}{n}$$\n",
    "\n",
    "### o insertar enlaces e imagenes\n",
    "\n",
    "[rata topo desnuda](https://www.sciencemag.org/sites/default/files/styles/inline__450w__no_aspect/public/rat_16x9.jpg?itok=mm1kmwg1)\n",
    "\n",
    "![rata topo desnuda](https://www.sciencemag.org/sites/default/files/styles/inline__450w__no_aspect/public/rat_16x9.jpg?itok=mm1kmwg1)"
   ]
  },
  {
   "cell_type": "markdown",
   "metadata": {},
   "source": [
    "Podemos plotear asi (ver la documentacion de [matplotlib](https://matplotlib.org/contents.html))"
   ]
  },
  {
   "cell_type": "code",
   "execution_count": 25,
   "metadata": {},
   "outputs": [
    {
     "data": {
      "text/plain": [
       "[<matplotlib.lines.Line2D at 0x7f5892476ef0>]"
      ]
     },
     "execution_count": 25,
     "metadata": {},
     "output_type": "execute_result"
    },
    {
     "data": {
      "image/png": "[encoded data removed]",
      "text/plain": [
       "<Figure size 432x288 with 1 Axes>"
      ]
     },
     "metadata": {
      "needs_background": "light"
     },
     "output_type": "display_data"
    }
   ],
   "source": [
    "import matplotlib.(pyplot as plt\n",
    "import numpy as np\n",
    "%matplotlib inline\n",
    ")\n",
    "xs = np.linspace(0, 2 * np.pi, 100)\n",
    "ys = np.sin(xs)\n",
    "\n",
    "plt.plot(xs, ys)\n",
    "plt.plot(xs, np.cos(xs)) "
   ]
  },
  {
   "cell_type": "markdown",
   "metadata": {},
   "source": [
    "# Uso básico del notebook\n",
    "\n",
    "Recordad, tiene dos modos: el \"azulito\" para operar sobre celdas completas y el \"verdecito\" para editar el contenido de una celda."
   ]
  },
  {
   "cell_type": "code",
   "execution_count": 7,
   "metadata": {},
   "outputs": [],
   "source": [
    "x = 2\n"
   ]
  },
  {
   "cell_type": "code",
   "execution_count": 8,
   "metadata": {},
   "outputs": [],
   "source": [
    "y = x / 2"
   ]
  },
  {
   "cell_type": "code",
   "execution_count": 9,
   "metadata": {},
   "outputs": [],
   "source": [
    "z = y  + 3"
   ]
  },
  {
   "cell_type": "code",
   "execution_count": 10,
   "metadata": {},
   "outputs": [
    {
     "data": {
      "text/plain": [
       "4.0"
      ]
     },
     "execution_count": 10,
     "metadata": {},
     "output_type": "execute_result"
    }
   ],
   "source": [
    "z"
   ]
  },
  {
   "cell_type": "code",
   "execution_count": 12,
   "metadata": {},
   "outputs": [
    {
     "name": "stdout",
     "output_type": "stream",
     "text": [
      "holi que tal\n"
     ]
    }
   ],
   "source": [
    "print('holi', 'que', 'tal')"
   ]
  },
  {
   "cell_type": "code",
   "execution_count": 13,
   "metadata": {},
   "outputs": [
    {
     "name": "stdout",
     "output_type": "stream",
     "text": [
      "holi! que! tal\n"
     ]
    }
   ],
   "source": [
    "print('holi', 'que', 'tal', sep='! ')"
   ]
  },
  {
   "cell_type": "code",
   "execution_count": 14,
   "metadata": {},
   "outputs": [
    {
     "name": "stdout",
     "output_type": "stream",
     "text": [
      "Im inside the cell!\n"
     ]
    },
    {
     "data": {
      "text/plain": [
       "4"
      ]
     },
     "execution_count": 14,
     "metadata": {},
     "output_type": "execute_result"
    }
   ],
   "source": [
    "print('Im inside the cell!')\n",
    "\n",
    "x = 2\n",
    "\n",
    "x ** 2"
   ]
  },
  {
   "cell_type": "code",
   "execution_count": 17,
   "metadata": {},
   "outputs": [
    {
     "name": "stdout",
     "output_type": "stream",
     "text": [
      "Im inside the cell!\n"
     ]
    }
   ],
   "source": [
    "print('Im inside the cell!')\n",
    "\n",
    "x = 2\n",
    "\n",
    "y = x ** 2"
   ]
  },
  {
   "cell_type": "markdown",
   "metadata": {},
   "source": [
    "# Funciones\n",
    "\n",
    "Las definimos con `def` y devuelven un único valor."
   ]
  },
  {
   "cell_type": "code",
   "execution_count": 26,
   "metadata": {},
   "outputs": [],
   "source": [
    "def distance(point_1, point_2):\n",
    "    \n",
    "    x = point_2[0] - point_1[0]\n",
    "    y = point_2[1] - point_1[1]\n",
    "    \n",
    "    return (x ** 2 + y ** 2) ** 0.5"
   ]
  },
  {
   "cell_type": "code",
   "execution_count": 27,
   "metadata": {},
   "outputs": [
    {
     "data": {
      "text/plain": [
       "<function __main__.distance(point_1, point_2)>"
      ]
     },
     "execution_count": 27,
     "metadata": {},
     "output_type": "execute_result"
    }
   ],
   "source": [
    "distance"
   ]
  },
  {
   "cell_type": "code",
   "execution_count": 28,
   "metadata": {},
   "outputs": [
    {
     "data": {
      "text/plain": [
       "3.1622776601683795"
      ]
     },
     "execution_count": 28,
     "metadata": {},
     "output_type": "execute_result"
    }
   ],
   "source": [
    "distance((5,3), (2, 4)) "
   ]
  },
  {
   "cell_type": "code",
   "execution_count": 29,
   "metadata": {},
   "outputs": [
    {
     "data": {
      "text/plain": [
       "3.1622776601683795"
      ]
     },
     "execution_count": 29,
     "metadata": {},
     "output_type": "execute_result"
    }
   ],
   "source": [
    "distance([5,3], [2, 4])  "
   ]
  },
  {
   "cell_type": "markdown",
   "metadata": {},
   "source": [
    "## Docstrings"
   ]
  },
  {
   "cell_type": "code",
   "execution_count": 32,
   "metadata": {},
   "outputs": [
    {
     "name": "stdout",
     "output_type": "stream",
     "text": [
      "Help on function distance in module __main__:\n",
      "\n",
      "distance(point_1, point_2)\n",
      "    Returns the Euclidean distance between two two-dimensional points\n",
      "\n"
     ]
    }
   ],
   "source": [
    "def distance(point_1, point_2):\n",
    "    'Returns the Euclidean distance between two two-dimensional points'\n",
    "    \n",
    "    x = point_2[0] - point_1[0]\n",
    "    y = point_2[1] - point_1[1]\n",
    "    \n",
    "    return (x ** 2 + y ** 2) ** 0.5\n",
    "\n",
    "help(distance)"
   ]
  },
  {
   "cell_type": "code",
   "execution_count": 36,
   "metadata": {},
   "outputs": [
    {
     "ename": "SyntaxError",
     "evalue": "EOL while scanning string literal (<ipython-input-36-3b3e84fb583c>, line 2)",
     "output_type": "error",
     "traceback": [
      "\u001b[0;36m  File \u001b[0;32m\"<ipython-input-36-3b3e84fb583c>\"\u001b[0;36m, line \u001b[0;32m2\u001b[0m\n\u001b[0;31m    'Returns the Euclidean distance between two two-dimensional points\u001b[0m\n\u001b[0m                                                                      ^\u001b[0m\n\u001b[0;31mSyntaxError\u001b[0m\u001b[0;31m:\u001b[0m EOL while scanning string literal\n"
     ]
    }
   ],
   "source": [
    "def distance(point_1, point_2):\n",
    "    'Returns the Euclidean distance between two two-dimensional points\n",
    "    A very useful function'\n",
    "    \n",
    "    x = point_2[0] - point_1[0]\n",
    "    y = point_2[1] - point_1[1]\n",
    "    \n",
    "    return (x ** 2 + y ** 2) ** 0.5\n",
    "\n",
    "help(distance)"
   ]
  },
  {
   "cell_type": "code",
   "execution_count": 35,
   "metadata": {},
   "outputs": [
    {
     "name": "stdout",
     "output_type": "stream",
     "text": [
      "Help on function distance in module __main__:\n",
      "\n",
      "distance(point_1, point_2)\n",
      "    Returns the Euclidean distance between two two-dimensional points\n",
      "    A very useful function\n",
      "\n"
     ]
    }
   ],
   "source": [
    "def distance(point_1, point_2):\n",
    "    '''Returns the Euclidean distance between two two-dimensional points\n",
    "    A very useful function'''\n",
    "    \n",
    "    x = point_2[0] - point_1[0]\n",
    "    y = point_2[1] - point_1[1]\n",
    "    \n",
    "    return (x ** 2 + y ** 2) ** 0.5\n",
    "\n",
    "help(distance)"
   ]
  },
  {
   "cell_type": "markdown",
   "metadata": {},
   "source": [
    "## Keyword arguments"
   ]
  },
  {
   "cell_type": "code",
   "execution_count": 38,
   "metadata": {},
   "outputs": [
    {
     "data": {
      "text/plain": [
       "5.830951894845301"
      ]
     },
     "execution_count": 38,
     "metadata": {},
     "output_type": "execute_result"
    }
   ],
   "source": [
    "def distance(point_1, point_2=(0, 0)):\n",
    "    '''Returns the Euclidean distance between two two-dimensional points\n",
    "    A very useful function'''\n",
    "    \n",
    "    x = point_2[0] - point_1[0]\n",
    "    y = point_2[1] - point_1[1]\n",
    "    \n",
    "    return (x ** 2 + y ** 2) ** 0.5\n",
    "\n",
    "distance((5,3))"
   ]
  },
  {
   "cell_type": "code",
   "execution_count": 39,
   "metadata": {},
   "outputs": [
    {
     "data": {
      "text/plain": [
       "3.1622776601683795"
      ]
     },
     "execution_count": 39,
     "metadata": {},
     "output_type": "execute_result"
    }
   ],
   "source": [
    "distance([5,3], [2, 4])  "
   ]
  },
  {
   "cell_type": "markdown",
   "metadata": {},
   "source": [
    "## Empaquetar y desempaquetar valores de retorno"
   ]
  },
  {
   "cell_type": "code",
   "execution_count": 48,
   "metadata": {},
   "outputs": [
    {
     "data": {
      "text/plain": [
       "(2, 3)"
      ]
     },
     "execution_count": 48,
     "metadata": {},
     "output_type": "execute_result"
    }
   ],
   "source": [
    "def multiple():\n",
    "    x = 2\n",
    "    y = 3\n",
    "    \n",
    "    return x, y\n",
    "\n",
    "multiple()"
   ]
  },
  {
   "cell_type": "code",
   "execution_count": 49,
   "metadata": {},
   "outputs": [
    {
     "data": {
      "text/plain": [
       "(2, 3)"
      ]
     },
     "execution_count": 49,
     "metadata": {},
     "output_type": "execute_result"
    }
   ],
   "source": [
    "t = multiple()\n",
    "t"
   ]
  },
  {
   "cell_type": "code",
   "execution_count": 52,
   "metadata": {},
   "outputs": [
    {
     "data": {
      "text/plain": [
       "3"
      ]
     },
     "execution_count": 52,
     "metadata": {},
     "output_type": "execute_result"
    }
   ],
   "source": [
    "a,b = multiple()\n",
    "b"
   ]
  },
  {
   "cell_type": "markdown",
   "metadata": {},
   "source": [
    "Si una función no tiene un `return`, siempre devuelve `None`"
   ]
  },
  {
   "cell_type": "code",
   "execution_count": 54,
   "metadata": {},
   "outputs": [],
   "source": [
    "def noreturn():\n",
    "    x = 2\n",
    "    y = 3\n",
    "    \n",
    "noreturn()"
   ]
  },
  {
   "cell_type": "code",
   "execution_count": 55,
   "metadata": {},
   "outputs": [
    {
     "name": "stdout",
     "output_type": "stream",
     "text": [
      "None\n"
     ]
    }
   ],
   "source": [
    "print(noreturn())"
   ]
  },
  {
   "cell_type": "markdown",
   "metadata": {},
   "source": [
    "## Scope global y local"
   ]
  },
  {
   "cell_type": "code",
   "execution_count": 60,
   "metadata": {},
   "outputs": [
    {
     "data": {
      "text/plain": [
       "(2, 3)"
      ]
     },
     "execution_count": 60,
     "metadata": {},
     "output_type": "execute_result"
    }
   ],
   "source": [
    "x = 6.022e23\n",
    "\n",
    "multiple()"
   ]
  },
  {
   "cell_type": "code",
   "execution_count": 65,
   "metadata": {},
   "outputs": [
    {
     "name": "stdout",
     "output_type": "stream",
     "text": [
      "42\n",
      "6.022e+23\n"
     ]
    }
   ],
   "source": [
    "x = 6.022e23\n",
    "def scopes():\n",
    "    x = 42\n",
    "    print(x)\n",
    "    \n",
    "scopes()\n",
    "print(x)"
   ]
  },
  {
   "cell_type": "code",
   "execution_count": 66,
   "metadata": {},
   "outputs": [
    {
     "name": "stdout",
     "output_type": "stream",
     "text": [
      "6.022e+23\n",
      "6.022e+23\n"
     ]
    }
   ],
   "source": [
    "x = 6.022e23\n",
    "def scopes():\n",
    "    print(x)\n",
    "    \n",
    "scopes()\n",
    "print(x)"
   ]
  },
  {
   "cell_type": "markdown",
   "metadata": {},
   "source": [
    "## El keyword `pass`\n",
    "\n",
    "No hace nada. Nos puede servir cuando Python requiere un bloque de código pero no estamos listos para escribir nada todavía."
   ]
  },
  {
   "cell_type": "code",
   "execution_count": 69,
   "metadata": {},
   "outputs": [
    {
     "ename": "IndentationError",
     "evalue": "expected an indented block (<ipython-input-69-b25d60158d32>, line 3)",
     "output_type": "error",
     "traceback": [
      "\u001b[0;36m  File \u001b[0;32m\"<ipython-input-69-b25d60158d32>\"\u001b[0;36m, line \u001b[0;32m3\u001b[0m\n\u001b[0;31m    def another_function_to_implement():\u001b[0m\n\u001b[0m      ^\u001b[0m\n\u001b[0;31mIndentationError\u001b[0m\u001b[0;31m:\u001b[0m expected an indented block\n"
     ]
    }
   ],
   "source": [
    "def function_to_implement():\n",
    "    \n",
    "    \n",
    "def another_function_to_implement():"
   ]
  },
  {
   "cell_type": "code",
   "execution_count": 70,
   "metadata": {},
   "outputs": [],
   "source": [
    "def function_to_implement():\n",
    "    pass\n",
    "    \n",
    "def another_function_to_implement():\n",
    "    pass"
   ]
  },
  {
   "cell_type": "markdown",
   "metadata": {},
   "source": [
    "### Devolver `None` explícitamente"
   ]
  },
  {
   "cell_type": "code",
   "execution_count": 75,
   "metadata": {},
   "outputs": [
    {
     "data": {
      "text/plain": [
       "3.0"
      ]
     },
     "execution_count": 75,
     "metadata": {},
     "output_type": "execute_result"
    }
   ],
   "source": [
    "def my_sqrt(a):\n",
    "    if a < 0:\n",
    "        return None\n",
    "    else:\n",
    "        return a ** 0.5\n",
    "    \n",
    "my_sqrt(9)"
   ]
  },
  {
   "cell_type": "code",
   "execution_count": 76,
   "metadata": {},
   "outputs": [],
   "source": [
    "my_sqrt(-9)"
   ]
  },
  {
   "cell_type": "markdown",
   "metadata": {},
   "source": [
    "# Módulos\n",
    "\n",
    "Archivos de texto con extensión `.py` que usamos para organizar nuestro código."
   ]
  },
  {
   "cell_type": "code",
   "execution_count": 78,
   "metadata": {
    "collapsed": true
   },
   "outputs": [
    {
     "data": {
      "text/plain": [
       "['BPF',\n",
       " 'LOG4',\n",
       " 'NV_MAGICCONST',\n",
       " 'RECIP_BPF',\n",
       " 'Random',\n",
       " 'SG_MAGICCONST',\n",
       " 'SystemRandom',\n",
       " 'TWOPI',\n",
       " '_BuiltinMethodType',\n",
       " '_MethodType',\n",
       " '_Sequence',\n",
       " '_Set',\n",
       " '__all__',\n",
       " '__builtins__',\n",
       " '__cached__',\n",
       " '__doc__',\n",
       " '__file__',\n",
       " '__loader__',\n",
       " '__name__',\n",
       " '__package__',\n",
       " '__spec__',\n",
       " '_acos',\n",
       " '_bisect',\n",
       " '_ceil',\n",
       " '_cos',\n",
       " '_e',\n",
       " '_exp',\n",
       " '_inst',\n",
       " '_itertools',\n",
       " '_log',\n",
       " '_pi',\n",
       " '_random',\n",
       " '_sha512',\n",
       " '_sin',\n",
       " '_sqrt',\n",
       " '_test',\n",
       " '_test_generator',\n",
       " '_urandom',\n",
       " '_warn',\n",
       " 'betavariate',\n",
       " 'choice',\n",
       " 'choices',\n",
       " 'expovariate',\n",
       " 'gammavariate',\n",
       " 'gauss',\n",
       " 'getrandbits',\n",
       " 'getstate',\n",
       " 'lognormvariate',\n",
       " 'normalvariate',\n",
       " 'paretovariate',\n",
       " 'randint',\n",
       " 'random',\n",
       " 'randrange',\n",
       " 'sample',\n",
       " 'seed',\n",
       " 'setstate',\n",
       " 'shuffle',\n",
       " 'triangular',\n",
       " 'uniform',\n",
       " 'vonmisesvariate',\n",
       " 'weibullvariate']"
      ]
     },
     "execution_count": 78,
     "metadata": {},
     "output_type": "execute_result"
    }
   ],
   "source": [
    "import random\n",
    "\n",
    "dir(random)"
   ]
  },
  {
   "cell_type": "code",
   "execution_count": 86,
   "metadata": {},
   "outputs": [
    {
     "data": {
      "text/plain": [
       "4"
      ]
     },
     "execution_count": 86,
     "metadata": {},
     "output_type": "execute_result"
    }
   ],
   "source": [
    "random.randint(1, 6)"
   ]
  },
  {
   "cell_type": "markdown",
   "metadata": {},
   "source": [
    "He creado un archivo `hello.py` que contiene varias definiciones. Ahora puedo importarlas:"
   ]
  },
  {
   "cell_type": "code",
   "execution_count": 87,
   "metadata": {},
   "outputs": [
    {
     "name": "stdout",
     "output_type": "stream",
     "text": [
      "hello world!\n"
     ]
    }
   ],
   "source": [
    "import hello"
   ]
  },
  {
   "cell_type": "code",
   "execution_count": 88,
   "metadata": {},
   "outputs": [
    {
     "data": {
      "text/plain": [
       "True"
      ]
     },
     "execution_count": 88,
     "metadata": {},
     "output_type": "execute_result"
    }
   ],
   "source": [
    "hello.polite"
   ]
  },
  {
   "cell_type": "code",
   "execution_count": 89,
   "metadata": {},
   "outputs": [
    {
     "name": "stdout",
     "output_type": "stream",
     "text": [
      "Beautfiul morning, citizen!\n"
     ]
    }
   ],
   "source": [
    "hello.good_morning()"
   ]
  },
  {
   "cell_type": "code",
   "execution_count": 91,
   "metadata": {},
   "outputs": [
    {
     "data": {
      "text/plain": [
       "<function math.sin>"
      ]
     },
     "execution_count": 91,
     "metadata": {},
     "output_type": "execute_result"
    }
   ],
   "source": [
    "from math import sin as seno\n",
    "\n",
    "seno"
   ]
  },
  {
   "cell_type": "markdown",
   "metadata": {},
   "source": [
    "Esta forma de importar esta permitida pero esta muy fea"
   ]
  },
  {
   "cell_type": "code",
   "execution_count": 101,
   "metadata": {},
   "outputs": [
    {
     "data": {
      "text/plain": [
       "-0.14550003380861354"
      ]
     },
     "execution_count": 101,
     "metadata": {},
     "output_type": "execute_result"
    }
   ],
   "source": [
    "from math import *\n",
    "from numpy import *\n",
    "\n",
    "sin(9)\n",
    "cos(8)"
   ]
  },
  {
   "cell_type": "code",
   "execution_count": 103,
   "metadata": {},
   "outputs": [
    {
     "data": {
      "text/plain": [
       "numpy.ufunc"
      ]
     },
     "execution_count": 103,
     "metadata": {},
     "output_type": "execute_result"
    }
   ],
   "source": [
    "type(sin)"
   ]
  },
  {
   "cell_type": "markdown",
   "metadata": {},
   "source": [
    "Para saber cuál es el directorio de trabajo actual (current working directory):"
   ]
  },
  {
   "cell_type": "code",
   "execution_count": 106,
   "metadata": {},
   "outputs": [
    {
     "data": {
      "text/plain": [
       "'/home/dani/repos/master-data-science/05_python_fundamentals'"
      ]
     },
     "execution_count": 106,
     "metadata": {},
     "output_type": "execute_result"
    }
   ],
   "source": [
    "import os \n",
    "\n",
    "os.getcwd()"
   ]
  },
  {
   "cell_type": "markdown",
   "metadata": {},
   "source": [
    "# Quick exercises 1"
   ]
  },
  {
   "cell_type": "code",
   "execution_count": 109,
   "metadata": {},
   "outputs": [
    {
     "name": "stdout",
     "output_type": "stream",
     "text": [
      "6\n",
      "4\n",
      "4\n",
      "9\n"
     ]
    }
   ],
   "source": [
    "def max_of_three(a, b, c):\n",
    "    \n",
    "    if a >= b and a >= c:\n",
    "        return a\n",
    "    elif b >= c:\n",
    "        return b\n",
    "    else:\n",
    "        return c\n",
    "    \n",
    "print(max_of_three(2, 4, 6))\n",
    "print(max_of_three(2, 4, 2))\n",
    "print(max_of_three(2, 4, 4))\n",
    "print(max_of_three(9, 4, 6))\n"
   ]
  },
  {
   "cell_type": "code",
   "execution_count": 112,
   "metadata": {},
   "outputs": [
    {
     "name": "stdout",
     "output_type": "stream",
     "text": [
      "Antonio will reach 100 years in 2067\n"
     ]
    }
   ],
   "source": [
    "def centenario(name, year):\n",
    "    if not isinstance(year, int):\n",
    "        year = int(year)\n",
    "        \n",
    "    print(name, 'will reach 100 years in', year + 100)\n",
    "    \n",
    "centenario('Antonio', 1967)"
   ]
  },
  {
   "cell_type": "code",
   "execution_count": 120,
   "metadata": {},
   "outputs": [
    {
     "name": "stdout",
     "output_type": "stream",
     "text": [
      "Antonio will reach 100 years in 2067\n"
     ]
    }
   ],
   "source": [
    "def centenario(name, year):\n",
    "    if not isinstance(year, int):\n",
    "        year = int(year)\n",
    "        \n",
    "    later = year + 100\n",
    "    \n",
    "    print(name + ' will reach 100 years in ' + str(later))\n",
    "    \n",
    "centenario('Antonio', '1967')"
   ]
  },
  {
   "cell_type": "code",
   "execution_count": 123,
   "metadata": {},
   "outputs": [
    {
     "name": "stdout",
     "output_type": "stream",
     "text": [
      "Antonio will reach 100 years in 2067\n"
     ]
    }
   ],
   "source": [
    "def centenario(name, year):\n",
    "    if not isinstance(year, int):\n",
    "        year = int(year)\n",
    "        \n",
    "    later = year + 100\n",
    "    message = '%s will reach 100 years in %d' % (name, later)\n",
    "    print(message)\n",
    "    \n",
    "centenario('Antonio', '1967')"
   ]
  },
  {
   "cell_type": "markdown",
   "metadata": {},
   "source": [
    "# Data types "
   ]
  },
  {
   "cell_type": "markdown",
   "metadata": {},
   "source": [
    "Tipos numéricos"
   ]
  },
  {
   "cell_type": "code",
   "execution_count": 124,
   "metadata": {},
   "outputs": [
    {
     "data": {
      "text/plain": [
       "int"
      ]
     },
     "execution_count": 124,
     "metadata": {},
     "output_type": "execute_result"
    }
   ],
   "source": [
    "k = 1298\n",
    "type(k)"
   ]
  },
  {
   "cell_type": "code",
   "execution_count": 137,
   "metadata": {},
   "outputs": [
    {
     "data": {
      "text/plain": [
       "int"
      ]
     },
     "execution_count": 137,
     "metadata": {},
     "output_type": "execute_result"
    }
   ],
   "source": [
    "k = 18731971398312871239821736912873961827918273 ** 91\n",
    "type(k)"
   ]
  },
  {
   "cell_type": "code",
   "execution_count": 140,
   "metadata": {},
   "outputs": [
    {
     "data": {
      "text/plain": [
       "complex"
      ]
     },
     "execution_count": 140,
     "metadata": {},
     "output_type": "execute_result"
    }
   ],
   "source": [
    "i = 3 + 5j\n",
    "type(i)"
   ]
  },
  {
   "cell_type": "markdown",
   "metadata": {},
   "source": [
    "## Strings\n",
    "\n",
    "Delimitadas con comillas simples o dobles indistintamente"
   ]
  },
  {
   "cell_type": "code",
   "execution_count": 150,
   "metadata": {},
   "outputs": [
    {
     "data": {
      "text/plain": [
       "'a string'"
      ]
     },
     "execution_count": 150,
     "metadata": {},
     "output_type": "execute_result"
    }
   ],
   "source": [
    "'a string'"
   ]
  },
  {
   "cell_type": "code",
   "execution_count": 151,
   "metadata": {},
   "outputs": [
    {
     "data": {
      "text/plain": [
       "'a string'"
      ]
     },
     "execution_count": 151,
     "metadata": {},
     "output_type": "execute_result"
    }
   ],
   "source": [
    "\"a string\""
   ]
  },
  {
   "cell_type": "code",
   "execution_count": 152,
   "metadata": {},
   "outputs": [
    {
     "data": {
      "text/plain": [
       "'\"Murder\", she wrote'"
      ]
     },
     "execution_count": 152,
     "metadata": {},
     "output_type": "execute_result"
    }
   ],
   "source": [
    "'\"Murder\", she wrote'"
   ]
  },
  {
   "cell_type": "markdown",
   "metadata": {},
   "source": [
    "### El carácter `\\` "
   ]
  },
  {
   "cell_type": "code",
   "execution_count": 154,
   "metadata": {},
   "outputs": [
    {
     "data": {
      "text/plain": [
       "'Stephen King\\'s \"Carrey\"'"
      ]
     },
     "execution_count": 154,
     "metadata": {},
     "output_type": "execute_result"
    }
   ],
   "source": [
    "'Stephen King\\'s \"Carrey\"'"
   ]
  },
  {
   "cell_type": "code",
   "execution_count": 156,
   "metadata": {},
   "outputs": [
    {
     "name": "stdout",
     "output_type": "stream",
     "text": [
      "Stephen King's \"Carrey\"\n"
     ]
    }
   ],
   "source": [
    "print('Stephen King\\'s \"Carrey\"')"
   ]
  },
  {
   "cell_type": "code",
   "execution_count": 157,
   "metadata": {},
   "outputs": [
    {
     "name": "stdout",
     "output_type": "stream",
     "text": [
      "a\ttab\tseparated\ttable\n"
     ]
    }
   ],
   "source": [
    "print('a\\ttab\\tseparated\\ttable')"
   ]
  },
  {
   "cell_type": "code",
   "execution_count": 158,
   "metadata": {},
   "outputs": [
    {
     "name": "stdout",
     "output_type": "stream",
     "text": [
      "a\n",
      "tab\n",
      "separated\n",
      "table\n"
     ]
    }
   ],
   "source": [
    "print('a\\ntab\\nseparated\\ntable')"
   ]
  },
  {
   "cell_type": "code",
   "execution_count": 159,
   "metadata": {},
   "outputs": [
    {
     "data": {
      "text/plain": [
       "'para escribir \\nstrings en multiples\\nlineas'"
      ]
     },
     "execution_count": 159,
     "metadata": {},
     "output_type": "execute_result"
    }
   ],
   "source": [
    "'''para escribir \n",
    "strings en multiples\n",
    "lineas'''"
   ]
  },
  {
   "cell_type": "code",
   "execution_count": 161,
   "metadata": {},
   "outputs": [
    {
     "ename": "TypeError",
     "evalue": "'str' object does not support item assignment",
     "output_type": "error",
     "traceback": [
      "\u001b[0;31m---------------------------------------------------------------------------\u001b[0m",
      "\u001b[0;31mTypeError\u001b[0m                                 Traceback (most recent call last)",
      "\u001b[0;32m<ipython-input-161-a71cf004ebf3>\u001b[0m in \u001b[0;36m<module>\u001b[0;34m\u001b[0m\n\u001b[1;32m      1\u001b[0m \u001b[0mscary_book\u001b[0m \u001b[0;34m=\u001b[0m \u001b[0;34m'Stephen King\\'s \"Carrey\"'\u001b[0m\u001b[0;34m\u001b[0m\u001b[0;34m\u001b[0m\u001b[0m\n\u001b[0;32m----> 2\u001b[0;31m \u001b[0mscary_book\u001b[0m\u001b[0;34m[\u001b[0m\u001b[0;36m0\u001b[0m\u001b[0;34m]\u001b[0m \u001b[0;34m=\u001b[0m \u001b[0;34m's'\u001b[0m\u001b[0;34m\u001b[0m\u001b[0;34m\u001b[0m\u001b[0m\n\u001b[0m",
      "\u001b[0;31mTypeError\u001b[0m: 'str' object does not support item assignment"
     ]
    }
   ],
   "source": [
    "scary_book = 'Stephen King\\'s \"Carrey\"'\n",
    "scary_book[0] = 's'"
   ]
  },
  {
   "cell_type": "markdown",
   "metadata": {},
   "source": [
    "### Concatenar strings"
   ]
  },
  {
   "cell_type": "code",
   "execution_count": 162,
   "metadata": {},
   "outputs": [
    {
     "data": {
      "text/plain": [
       "'Stephen King\\'s \"Carrey\" is scary'"
      ]
     },
     "execution_count": 162,
     "metadata": {},
     "output_type": "execute_result"
    }
   ],
   "source": [
    "sentence = scary_book + ' is scary'\n",
    "sentence"
   ]
  },
  {
   "cell_type": "markdown",
   "metadata": {},
   "source": [
    "### Métodos de strings"
   ]
  },
  {
   "cell_type": "code",
   "execution_count": 163,
   "metadata": {},
   "outputs": [
    {
     "data": {
      "text/plain": [
       "'STEPHEN KING\\'S \"CARREY\" IS SCARY'"
      ]
     },
     "execution_count": 163,
     "metadata": {},
     "output_type": "execute_result"
    }
   ],
   "source": [
    "sentence.upper()"
   ]
  },
  {
   "cell_type": "code",
   "execution_count": 164,
   "metadata": {},
   "outputs": [
    {
     "data": {
      "text/plain": [
       "'Stephen King\\'s \"Carrey\" is scary'"
      ]
     },
     "execution_count": 164,
     "metadata": {},
     "output_type": "execute_result"
    }
   ],
   "source": [
    "sentence"
   ]
  },
  {
   "cell_type": "code",
   "execution_count": 165,
   "metadata": {},
   "outputs": [
    {
     "data": {
      "text/plain": [
       "'stephen king\\'s \"carrey\" is scary'"
      ]
     },
     "execution_count": 165,
     "metadata": {},
     "output_type": "execute_result"
    }
   ],
   "source": [
    "sentence.lower()"
   ]
  },
  {
   "cell_type": "code",
   "execution_count": 166,
   "metadata": {},
   "outputs": [
    {
     "data": {
      "text/plain": [
       "8"
      ]
     },
     "execution_count": 166,
     "metadata": {},
     "output_type": "execute_result"
    }
   ],
   "source": [
    "sentence.find('King')"
   ]
  },
  {
   "cell_type": "code",
   "execution_count": 167,
   "metadata": {},
   "outputs": [
    {
     "data": {
      "text/plain": [
       "-1"
      ]
     },
     "execution_count": 167,
     "metadata": {},
     "output_type": "execute_result"
    }
   ],
   "source": [
    "sentence.find('Kinglon')"
   ]
  },
  {
   "cell_type": "code",
   "execution_count": 168,
   "metadata": {},
   "outputs": [
    {
     "ename": "ValueError",
     "evalue": "substring not found",
     "output_type": "error",
     "traceback": [
      "\u001b[0;31m---------------------------------------------------------------------------\u001b[0m",
      "\u001b[0;31mValueError\u001b[0m                                Traceback (most recent call last)",
      "\u001b[0;32m<ipython-input-168-dc9832ae96cb>\u001b[0m in \u001b[0;36m<module>\u001b[0;34m\u001b[0m\n\u001b[0;32m----> 1\u001b[0;31m \u001b[0msentence\u001b[0m\u001b[0;34m.\u001b[0m\u001b[0mindex\u001b[0m\u001b[0;34m(\u001b[0m\u001b[0;34m'Kinglon'\u001b[0m\u001b[0;34m)\u001b[0m\u001b[0;34m\u001b[0m\u001b[0;34m\u001b[0m\u001b[0m\n\u001b[0m",
      "\u001b[0;31mValueError\u001b[0m: substring not found"
     ]
    }
   ],
   "source": [
    "sentence.index('Kinglon')"
   ]
  },
  {
   "cell_type": "code",
   "execution_count": 169,
   "metadata": {},
   "outputs": [
    {
     "data": {
      "text/plain": [
       "'Stephen King\\'S \"Carrey\" Is Scary'"
      ]
     },
     "execution_count": 169,
     "metadata": {},
     "output_type": "execute_result"
    }
   ],
   "source": [
    "sentence.title()"
   ]
  },
  {
   "cell_type": "code",
   "execution_count": 170,
   "metadata": {},
   "outputs": [
    {
     "data": {
      "text/plain": [
       "3"
      ]
     },
     "execution_count": 170,
     "metadata": {},
     "output_type": "execute_result"
    }
   ],
   "source": [
    "sentence.count('e')"
   ]
  },
  {
   "cell_type": "code",
   "execution_count": 171,
   "metadata": {},
   "outputs": [
    {
     "data": {
      "text/plain": [
       "True"
      ]
     },
     "execution_count": 171,
     "metadata": {},
     "output_type": "execute_result"
    }
   ],
   "source": [
    "'AAAAAAH'.isupper()"
   ]
  },
  {
   "cell_type": "code",
   "execution_count": 172,
   "metadata": {},
   "outputs": [
    {
     "data": {
      "text/plain": [
       "False"
      ]
     },
     "execution_count": 172,
     "metadata": {},
     "output_type": "execute_result"
    }
   ],
   "source": [
    "'2.3'.isdigit()"
   ]
  },
  {
   "cell_type": "code",
   "execution_count": 174,
   "metadata": {},
   "outputs": [
    {
     "data": {
      "text/plain": [
       "True"
      ]
     },
     "execution_count": 174,
     "metadata": {},
     "output_type": "execute_result"
    }
   ],
   "source": [
    "'23'.isnumeric()"
   ]
  },
  {
   "cell_type": "code",
   "execution_count": 176,
   "metadata": {},
   "outputs": [
    {
     "data": {
      "text/plain": [
       "False"
      ]
     },
     "execution_count": 176,
     "metadata": {},
     "output_type": "execute_result"
    }
   ],
   "source": [
    "'2.3'.isdecimal()"
   ]
  },
  {
   "cell_type": "markdown",
   "metadata": {},
   "source": [
    "`\\t` es tabulado"
   ]
  },
  {
   "cell_type": "code",
   "execution_count": 179,
   "metadata": {},
   "outputs": [
    {
     "name": "stdout",
     "output_type": "stream",
     "text": [
      "name\toccupation\tsalary\n"
     ]
    }
   ],
   "source": [
    "header = 'name\\toccupation\\tsalary'\n",
    "print(header)"
   ]
  },
  {
   "cell_type": "code",
   "execution_count": 181,
   "metadata": {},
   "outputs": [
    {
     "data": {
      "text/plain": [
       "['name', 'occupation', 'salary']"
      ]
     },
     "execution_count": 181,
     "metadata": {},
     "output_type": "execute_result"
    }
   ],
   "source": [
    "fields = header.split('\\t')\n",
    "fields"
   ]
  },
  {
   "cell_type": "code",
   "execution_count": 183,
   "metadata": {},
   "outputs": [
    {
     "data": {
      "text/plain": [
       "'name,occupation,salary'"
      ]
     },
     "execution_count": 183,
     "metadata": {},
     "output_type": "execute_result"
    }
   ],
   "source": [
    "','.join(fields)"
   ]
  },
  {
   "cell_type": "code",
   "execution_count": 185,
   "metadata": {},
   "outputs": [
    {
     "data": {
      "text/plain": [
       "'nameXXXXoccupationXXXXsalary'"
      ]
     },
     "execution_count": 185,
     "metadata": {},
     "output_type": "execute_result"
    }
   ],
   "source": [
    "'XXXX'.join(fields)"
   ]
  },
  {
   "cell_type": "code",
   "execution_count": 187,
   "metadata": {},
   "outputs": [
    {
     "data": {
      "text/plain": [
       "'Daniel Mateos'"
      ]
     },
     "execution_count": 187,
     "metadata": {},
     "output_type": "execute_result"
    }
   ],
   "source": [
    "'Daniel' + ' Mateos'"
   ]
  },
  {
   "cell_type": "code",
   "execution_count": 191,
   "metadata": {},
   "outputs": [
    {
     "data": {
      "text/plain": [
       "['D', 'a', 'n', 'i']"
      ]
     },
     "execution_count": 191,
     "metadata": {},
     "output_type": "execute_result"
    }
   ],
   "source": [
    "name = 'Dani'\n",
    "list(name)"
   ]
  },
  {
   "cell_type": "markdown",
   "metadata": {},
   "source": [
    "### Formatear strings"
   ]
  },
  {
   "cell_type": "code",
   "execution_count": 192,
   "metadata": {},
   "outputs": [
    {
     "data": {
      "text/plain": [
       "'Dani is the greatest teacher ever'"
      ]
     },
     "execution_count": 192,
     "metadata": {},
     "output_type": "execute_result"
    }
   ],
   "source": [
    "'%s is the greatest teacher ever' % name"
   ]
  },
  {
   "cell_type": "code",
   "execution_count": 197,
   "metadata": {},
   "outputs": [
    {
     "data": {
      "text/plain": [
       "'Dani is the greatest teacher in the next 2 classes'"
      ]
     },
     "execution_count": 197,
     "metadata": {},
     "output_type": "execute_result"
    }
   ],
   "source": [
    "'%s is the greatest teacher in the next %d classes' % (name, 2)"
   ]
  },
  {
   "cell_type": "code",
   "execution_count": 198,
   "metadata": {},
   "outputs": [
    {
     "data": {
      "text/plain": [
       "'Dani is the greatest teacher in the next 2.000000 classes'"
      ]
     },
     "execution_count": 198,
     "metadata": {},
     "output_type": "execute_result"
    }
   ],
   "source": [
    "'%s is the greatest teacher in the next %f classes' % (name, 2)"
   ]
  },
  {
   "cell_type": "markdown",
   "metadata": {},
   "source": [
    "### String indexing and slicing"
   ]
  },
  {
   "cell_type": "code",
   "execution_count": 203,
   "metadata": {},
   "outputs": [
    {
     "data": {
      "text/plain": [
       "'Stephen King\\'s \"Carrey\" is scary'"
      ]
     },
     "execution_count": 203,
     "metadata": {},
     "output_type": "execute_result"
    }
   ],
   "source": [
    "sentence"
   ]
  },
  {
   "cell_type": "code",
   "execution_count": 204,
   "metadata": {},
   "outputs": [
    {
     "data": {
      "text/plain": [
       "'S'"
      ]
     },
     "execution_count": 204,
     "metadata": {},
     "output_type": "execute_result"
    }
   ],
   "source": [
    "sentence[0] "
   ]
  },
  {
   "cell_type": "code",
   "execution_count": 205,
   "metadata": {},
   "outputs": [
    {
     "ename": "IndexError",
     "evalue": "string index out of range",
     "output_type": "error",
     "traceback": [
      "\u001b[0;31m---------------------------------------------------------------------------\u001b[0m",
      "\u001b[0;31mIndexError\u001b[0m                                Traceback (most recent call last)",
      "\u001b[0;32m<ipython-input-205-aa5f24e61d5b>\u001b[0m in \u001b[0;36m<module>\u001b[0;34m\u001b[0m\n\u001b[0;32m----> 1\u001b[0;31m \u001b[0msentence\u001b[0m\u001b[0;34m[\u001b[0m\u001b[0;36m100\u001b[0m\u001b[0;34m]\u001b[0m\u001b[0;34m\u001b[0m\u001b[0;34m\u001b[0m\u001b[0m\n\u001b[0m",
      "\u001b[0;31mIndexError\u001b[0m: string index out of range"
     ]
    }
   ],
   "source": [
    "sentence[100] "
   ]
  },
  {
   "cell_type": "code",
   "execution_count": 209,
   "metadata": {},
   "outputs": [
    {
     "data": {
      "text/plain": [
       "'Stephen King'"
      ]
     },
     "execution_count": 209,
     "metadata": {},
     "output_type": "execute_result"
    }
   ],
   "source": [
    "sentence[0:12] "
   ]
  },
  {
   "cell_type": "code",
   "execution_count": 254,
   "metadata": {},
   "outputs": [
    {
     "data": {
      "text/plain": [
       "'Stephen King\\'s \"Carrey\" is scary'"
      ]
     },
     "execution_count": 254,
     "metadata": {},
     "output_type": "execute_result"
    }
   ],
   "source": [
    "sentence[-1000:100]"
   ]
  },
  {
   "cell_type": "code",
   "execution_count": 213,
   "metadata": {},
   "outputs": [
    {
     "data": {
      "text/plain": [
       "'\\'s \"Carrey\" is scary'"
      ]
     },
     "execution_count": 213,
     "metadata": {},
     "output_type": "execute_result"
    }
   ],
   "source": [
    "sentence[12:]  "
   ]
  },
  {
   "cell_type": "code",
   "execution_count": 214,
   "metadata": {},
   "outputs": [
    {
     "data": {
      "text/plain": [
       "'Stephen King\\'s \"Carrey\" is scary'"
      ]
     },
     "execution_count": 214,
     "metadata": {},
     "output_type": "execute_result"
    }
   ],
   "source": [
    "sentence[:] "
   ]
  },
  {
   "cell_type": "code",
   "execution_count": 215,
   "metadata": {},
   "outputs": [
    {
     "data": {
      "text/plain": [
       "'y'"
      ]
     },
     "execution_count": 215,
     "metadata": {},
     "output_type": "execute_result"
    }
   ],
   "source": [
    "sentence[-1]"
   ]
  },
  {
   "cell_type": "code",
   "execution_count": 217,
   "metadata": {},
   "outputs": [
    {
     "data": {
      "text/plain": [
       "'r'"
      ]
     },
     "execution_count": 217,
     "metadata": {},
     "output_type": "execute_result"
    }
   ],
   "source": [
    "sentence[-2]"
   ]
  },
  {
   "cell_type": "code",
   "execution_count": 218,
   "metadata": {},
   "outputs": [
    {
     "data": {
      "text/plain": [
       "'s scary'"
      ]
     },
     "execution_count": 218,
     "metadata": {},
     "output_type": "execute_result"
    }
   ],
   "source": [
    "sentence[-7:] "
   ]
  },
  {
   "cell_type": "code",
   "execution_count": 221,
   "metadata": {},
   "outputs": [
    {
     "data": {
      "text/plain": [
       "'Spni'"
      ]
     },
     "execution_count": 221,
     "metadata": {},
     "output_type": "execute_result"
    }
   ],
   "source": [
    "sentence[0:12:3] "
   ]
  },
  {
   "cell_type": "code",
   "execution_count": 225,
   "metadata": {},
   "outputs": [
    {
     "data": {
      "text/plain": [
       "'yracs si \"yerraC\" s\\'gniK nehpetS'"
      ]
     },
     "execution_count": 225,
     "metadata": {},
     "output_type": "execute_result"
    }
   ],
   "source": [
    "sentence[::-1] "
   ]
  },
  {
   "cell_type": "markdown",
   "metadata": {},
   "source": [
    "# Booleans"
   ]
  },
  {
   "cell_type": "code",
   "execution_count": 234,
   "metadata": {},
   "outputs": [
    {
     "data": {
      "text/plain": [
       "False"
      ]
     },
     "execution_count": 234,
     "metadata": {},
     "output_type": "execute_result"
    }
   ],
   "source": [
    "False"
   ]
  },
  {
   "cell_type": "code",
   "execution_count": 235,
   "metadata": {},
   "outputs": [
    {
     "data": {
      "text/plain": [
       "False"
      ]
     },
     "execution_count": 235,
     "metadata": {},
     "output_type": "execute_result"
    }
   ],
   "source": [
    "True and False"
   ]
  },
  {
   "cell_type": "code",
   "execution_count": 255,
   "metadata": {},
   "outputs": [
    {
     "data": {
      "text/plain": [
       "False"
      ]
     },
     "execution_count": 255,
     "metadata": {},
     "output_type": "execute_result"
    }
   ],
   "source": [
    "True & False"
   ]
  },
  {
   "cell_type": "code",
   "execution_count": 237,
   "metadata": {},
   "outputs": [
    {
     "data": {
      "text/plain": [
       "False"
      ]
     },
     "execution_count": 237,
     "metadata": {},
     "output_type": "execute_result"
    }
   ],
   "source": [
    "True and False or False"
   ]
  },
  {
   "cell_type": "markdown",
   "metadata": {},
   "source": [
    "## Evaluación perezosa de operadores booleanos"
   ]
  },
  {
   "cell_type": "code",
   "execution_count": 260,
   "metadata": {},
   "outputs": [
    {
     "ename": "NameError",
     "evalue": "name 'supercaligraficespialidocious' is not defined",
     "output_type": "error",
     "traceback": [
      "\u001b[0;31m---------------------------------------------------------------------------\u001b[0m",
      "\u001b[0;31mNameError\u001b[0m                                 Traceback (most recent call last)",
      "\u001b[0;32m<ipython-input-260-25a885362817>\u001b[0m in \u001b[0;36m<module>\u001b[0;34m\u001b[0m\n\u001b[0;32m----> 1\u001b[0;31m \u001b[0msupercaligraficespialidocious\u001b[0m\u001b[0;34m\u001b[0m\u001b[0;34m\u001b[0m\u001b[0m\n\u001b[0m",
      "\u001b[0;31mNameError\u001b[0m: name 'supercaligraficespialidocious' is not defined"
     ]
    }
   ],
   "source": [
    "supercaligraficespialidocious"
   ]
  },
  {
   "cell_type": "code",
   "execution_count": 261,
   "metadata": {},
   "outputs": [
    {
     "data": {
      "text/plain": [
       "True"
      ]
     },
     "execution_count": 261,
     "metadata": {},
     "output_type": "execute_result"
    }
   ],
   "source": [
    "True or supercaligraficespialidocious"
   ]
  },
  {
   "cell_type": "code",
   "execution_count": 262,
   "metadata": {},
   "outputs": [
    {
     "ename": "NameError",
     "evalue": "name 'supercaligraficespialidocious' is not defined",
     "output_type": "error",
     "traceback": [
      "\u001b[0;31m---------------------------------------------------------------------------\u001b[0m",
      "\u001b[0;31mNameError\u001b[0m                                 Traceback (most recent call last)",
      "\u001b[0;32m<ipython-input-262-e054fcd1cebf>\u001b[0m in \u001b[0;36m<module>\u001b[0;34m\u001b[0m\n\u001b[0;32m----> 1\u001b[0;31m \u001b[0;32mFalse\u001b[0m \u001b[0;32mor\u001b[0m \u001b[0msupercaligraficespialidocious\u001b[0m\u001b[0;34m\u001b[0m\u001b[0;34m\u001b[0m\u001b[0m\n\u001b[0m",
      "\u001b[0;31mNameError\u001b[0m: name 'supercaligraficespialidocious' is not defined"
     ]
    }
   ],
   "source": [
    "False or supercaligraficespialidocious"
   ]
  },
  {
   "cell_type": "code",
   "execution_count": 263,
   "metadata": {},
   "outputs": [
    {
     "data": {
      "text/plain": [
       "True"
      ]
     },
     "execution_count": 263,
     "metadata": {},
     "output_type": "execute_result"
    }
   ],
   "source": [
    "True or print('holi')"
   ]
  },
  {
   "cell_type": "code",
   "execution_count": 266,
   "metadata": {},
   "outputs": [
    {
     "name": "stdout",
     "output_type": "stream",
     "text": [
      "holi\n"
     ]
    }
   ],
   "source": [
    "False or print('holi')"
   ]
  },
  {
   "cell_type": "code",
   "execution_count": 256,
   "metadata": {},
   "outputs": [
    {
     "data": {
      "text/plain": [
       "False"
      ]
     },
     "execution_count": 256,
     "metadata": {},
     "output_type": "execute_result"
    }
   ],
   "source": [
    "True & False | False"
   ]
  },
  {
   "cell_type": "code",
   "execution_count": 238,
   "metadata": {},
   "outputs": [
    {
     "data": {
      "text/plain": [
       "False"
      ]
     },
     "execution_count": 238,
     "metadata": {},
     "output_type": "execute_result"
    }
   ],
   "source": [
    "(3 > 4) and (0 > 4)"
   ]
  },
  {
   "cell_type": "code",
   "execution_count": 240,
   "metadata": {},
   "outputs": [
    {
     "data": {
      "text/plain": [
       "True"
      ]
     },
     "execution_count": 240,
     "metadata": {},
     "output_type": "execute_result"
    }
   ],
   "source": [
    "False and False or True"
   ]
  },
  {
   "cell_type": "markdown",
   "metadata": {},
   "source": [
    "### Equivalencia booleana de otros tipos"
   ]
  },
  {
   "cell_type": "code",
   "execution_count": 243,
   "metadata": {},
   "outputs": [
    {
     "data": {
      "text/plain": [
       "3"
      ]
     },
     "execution_count": 243,
     "metadata": {},
     "output_type": "execute_result"
    }
   ],
   "source": [
    "0 or 3"
   ]
  },
  {
   "cell_type": "code",
   "execution_count": 244,
   "metadata": {},
   "outputs": [
    {
     "data": {
      "text/plain": [
       "True"
      ]
     },
     "execution_count": 244,
     "metadata": {},
     "output_type": "execute_result"
    }
   ],
   "source": [
    "bool(3)"
   ]
  },
  {
   "cell_type": "code",
   "execution_count": 245,
   "metadata": {},
   "outputs": [
    {
     "data": {
      "text/plain": [
       "False"
      ]
     },
     "execution_count": 245,
     "metadata": {},
     "output_type": "execute_result"
    }
   ],
   "source": [
    "bool(0)"
   ]
  },
  {
   "cell_type": "code",
   "execution_count": 246,
   "metadata": {},
   "outputs": [
    {
     "data": {
      "text/plain": [
       "True"
      ]
     },
     "execution_count": 246,
     "metadata": {},
     "output_type": "execute_result"
    }
   ],
   "source": [
    "bool([1,2,2,3])"
   ]
  },
  {
   "cell_type": "code",
   "execution_count": 247,
   "metadata": {},
   "outputs": [
    {
     "data": {
      "text/plain": [
       "False"
      ]
     },
     "execution_count": 247,
     "metadata": {},
     "output_type": "execute_result"
    }
   ],
   "source": [
    "bool([])"
   ]
  },
  {
   "cell_type": "code",
   "execution_count": 248,
   "metadata": {},
   "outputs": [
    {
     "data": {
      "text/plain": [
       "False"
      ]
     },
     "execution_count": 248,
     "metadata": {},
     "output_type": "execute_result"
    }
   ],
   "source": [
    "bool('')"
   ]
  },
  {
   "cell_type": "code",
   "execution_count": 249,
   "metadata": {},
   "outputs": [
    {
     "data": {
      "text/plain": [
       "True"
      ]
     },
     "execution_count": 249,
     "metadata": {},
     "output_type": "execute_result"
    }
   ],
   "source": [
    "bool('natural')"
   ]
  },
  {
   "cell_type": "code",
   "execution_count": 250,
   "metadata": {},
   "outputs": [],
   "source": [
    "if 0:\n",
    "    print('something')"
   ]
  },
  {
   "cell_type": "code",
   "execution_count": 146,
   "metadata": {},
   "outputs": [
    {
     "name": "stdout",
     "output_type": "stream",
     "text": [
      "something\n"
     ]
    }
   ],
   "source": [
    "if 1:\n",
    "    print('something')"
   ]
  },
  {
   "cell_type": "markdown",
   "metadata": {},
   "source": [
    "# Quick Exercises 2\n",
    "\n",
    "* Write a function to calculate the number of words, number of lines, and length of a string the same way the wc command does in the command line"
   ]
  },
  {
   "cell_type": "code",
   "execution_count": 291,
   "metadata": {},
   "outputs": [
    {
     "name": "stdout",
     "output_type": "stream",
     "text": [
      "3 17 86\n",
      "None\n"
     ]
    }
   ],
   "source": [
    "def wc(string):\n",
    "    \n",
    "    lines = len(string.split('\\n'))\n",
    "    words = len(string.split())\n",
    "    chars = len(string)\n",
    "            \n",
    "    print(lines, words, chars)\n",
    "\n",
    "quijote = '''En un lugar de la Mancha\n",
    "de cuyo nombre no quiero acordarme \n",
    "vivia un hidalgo etc etc '''\n",
    "\n",
    "result = wc(quijote) \n",
    "print(result)"
   ]
  },
  {
   "cell_type": "code",
   "execution_count": 289,
   "metadata": {},
   "outputs": [
    {
     "name": "stdout",
     "output_type": "stream",
     "text": [
      "(3, 17, 86)\n"
     ]
    },
    {
     "data": {
      "text/plain": [
       "5.666666666666667"
      ]
     },
     "execution_count": 289,
     "metadata": {},
     "output_type": "execute_result"
    }
   ],
   "source": [
    "def wc(string):\n",
    "    \n",
    "    lines = len(string.split('\\n'))\n",
    "    words = len(string.split())\n",
    "    chars = len(string)\n",
    "            \n",
    "    return lines, words, chars\n",
    "\n",
    "quijote = '''En un lugar de la Mancha\n",
    "de cuyo nombre no quiero acordarme \n",
    "vivia un hidalgo etc etc '''\n",
    "\n",
    "result = wc(quijote) \n",
    "print(result)\n",
    "l, w, c = result\n",
    "\n",
    "average_words = w / l\n",
    "average_words"
   ]
  },
  {
   "cell_type": "code",
   "execution_count": 285,
   "metadata": {},
   "outputs": [
    {
     "data": {
      "text/plain": [
       "['a', 'string']"
      ]
     },
     "execution_count": 285,
     "metadata": {},
     "output_type": "execute_result"
    }
   ],
   "source": [
    "'a     string'.split()"
   ]
  },
  {
   "cell_type": "markdown",
   "metadata": {},
   "source": [
    "* Write a Python program to remove the nth index character from a string. If the input string is empty print warning."
   ]
  },
  {
   "cell_type": "code",
   "execution_count": 296,
   "metadata": {},
   "outputs": [
    {
     "name": "stdout",
     "output_type": "stream",
     "text": [
      "Warning\n"
     ]
    },
    {
     "data": {
      "text/plain": [
       "'Quijano'"
      ]
     },
     "execution_count": 296,
     "metadata": {},
     "output_type": "execute_result"
    }
   ],
   "source": [
    "def remove_char_at_n(string, n):\n",
    "    if len(string) == 0:\n",
    "        print('Warning')\n",
    "    else:\n",
    "        return string[:n] + string[n+1:]\n",
    "    \n",
    "remove_char_at_n('', 8)\n",
    "remove_char_at_n('Quijano', 19)"
   ]
  },
  {
   "cell_type": "markdown",
   "metadata": {},
   "source": [
    "# Using the shell from within IPython\n",
    "\n",
    "with `!`, we can send commands to the underlying operating system.\n",
    "\n",
    "Remember that you can use the [Windows subsystem for Linux](https://docs.microsoft.com/en-us/windows/wsl/install-win10) to run a Linux shell within Windows without the performance compromises of a Virtual Machine. \n",
    "\n",
    "You can install conda within that subsystem, for example."
   ]
  },
  {
   "cell_type": "code",
   "execution_count": 297,
   "metadata": {},
   "outputs": [
    {
     "name": "stdout",
     "output_type": "stream",
     "text": [
      "/home/dani/repos/master-data-science/05_python_fundamentals\n"
     ]
    }
   ],
   "source": [
    "! pwd"
   ]
  },
  {
   "cell_type": "code",
   "execution_count": 298,
   "metadata": {},
   "outputs": [
    {
     "name": "stdout",
     "output_type": "stream",
     "text": [
      "sáb ene 12 10:33:48 CET 2019\n"
     ]
    }
   ],
   "source": [
    "! date"
   ]
  },
  {
   "cell_type": "code",
   "execution_count": 299,
   "metadata": {},
   "outputs": [
    {
     "name": "stdout",
     "output_type": "stream",
     "text": [
      "2019-01-12_13.ipynb\t__pycache__\n",
      "edition_IV_notebooks\tpython_fundamentals_class.pptx\n",
      "edition_VIII_notebooks\tpython_fundamentals_ejercicios_resueltos.pptx\n",
      "environment.yml\t\tquijote\n",
      "hello.py\t\tREADME.md\n"
     ]
    }
   ],
   "source": [
    "! ls"
   ]
  },
  {
   "cell_type": "code",
   "execution_count": 300,
   "metadata": {},
   "outputs": [
    {
     "name": "stdout",
     "output_type": "stream",
     "text": [
      "name: master_p2\n",
      "channels: !!python/tuple\n",
      "- defaults\n",
      "dependencies:\n",
      "- backports=1.0=py27_0\n",
      "- backports_abc=0.5=py27_0\n",
      "- bleach=1.5.0=py27_0\n",
      "- cairo=1.14.8=0\n",
      "- configparser=3.5.0=py27_0\n",
      "- cycler=0.10.0=py27_0\n"
     ]
    }
   ],
   "source": [
    "! head environment.yml"
   ]
  },
  {
   "cell_type": "markdown",
   "metadata": {},
   "source": [
    "Flexibility and power with Linux! The following incantation counts the number of characters in the 10th line of the `environment.yml` file:"
   ]
  },
  {
   "cell_type": "code",
   "execution_count": 306,
   "metadata": {},
   "outputs": [
    {
     "name": "stdout",
     "output_type": "stream",
     "text": [
      "23\n"
     ]
    }
   ],
   "source": [
    "! head environment.yml | tail -n 1 | wc -c "
   ]
  },
  {
   "cell_type": "code",
   "execution_count": 303,
   "metadata": {},
   "outputs": [
    {
     "name": "stdout",
     "output_type": "stream",
     "text": [
      "/home/dani/repos/master-data-science/05_python_fundamentals\n"
     ]
    }
   ],
   "source": [
    "! cd /home/dani/repos/\n",
    "! pwd"
   ]
  },
  {
   "cell_type": "code",
   "execution_count": 307,
   "metadata": {},
   "outputs": [
    {
     "name": "stdout",
     "output_type": "stream",
     "text": [
      "/home/dani/repos\n",
      "/home/dani/repos\n"
     ]
    }
   ],
   "source": [
    "%cd /home/dani/repos/\n",
    "! pwd"
   ]
  },
  {
   "cell_type": "code",
   "execution_count": 308,
   "metadata": {},
   "outputs": [
    {
     "name": "stdout",
     "output_type": "stream",
     "text": [
      "Directory history (kept in _dh)\n",
      "0: /home/dani/repos/master-data-science/05_python_fundamentals\n",
      "1: /home/dani/repos\n"
     ]
    }
   ],
   "source": [
    "%dhist"
   ]
  },
  {
   "cell_type": "code",
   "execution_count": 309,
   "metadata": {},
   "outputs": [
    {
     "data": {
      "text/plain": [
       "['/home/dani/repos/master-data-science/05_python_fundamentals',\n",
       " '/home/dani/repos']"
      ]
     },
     "execution_count": 309,
     "metadata": {},
     "output_type": "execute_result"
    }
   ],
   "source": [
    "_dh"
   ]
  },
  {
   "cell_type": "code",
   "execution_count": 311,
   "metadata": {},
   "outputs": [
    {
     "name": "stdout",
     "output_type": "stream",
     "text": [
      "/home/dani/repos/master-data-science/05_python_fundamentals\n"
     ]
    }
   ],
   "source": [
    "%cd {_dh[0]} "
   ]
  },
  {
   "cell_type": "markdown",
   "metadata": {},
   "source": [
    "You can use curly braces to substitute the value of a Python expression within a shell command:"
   ]
  },
  {
   "cell_type": "code",
   "execution_count": 314,
   "metadata": {},
   "outputs": [
    {
     "name": "stdout",
     "output_type": "stream",
     "text": [
      "quijote\n"
     ]
    }
   ],
   "source": [
    "! echo quijote"
   ]
  },
  {
   "cell_type": "code",
   "execution_count": 315,
   "metadata": {},
   "outputs": [
    {
     "name": "stdout",
     "output_type": "stream",
     "text": [
      "En un lugar de la Mancha\n",
      "/bin/sh: 2: de: not found\n",
      "/bin/sh: 3: vivia: not found\n"
     ]
    }
   ],
   "source": [
    "! echo {quijote}  "
   ]
  },
  {
   "cell_type": "code",
   "execution_count": 316,
   "metadata": {},
   "outputs": [
    {
     "name": "stdout",
     "output_type": "stream",
     "text": [
      "/home/dani/anaconda3/envs/master2019/bin:/home/dani/anaconda3/envs/master2019/bin:/usr/local/cuda/bin:/home/dani/anaconda3/bin:/usr/local/sbin:/usr/local/bin:/usr/sbin:/usr/bin:/sbin:/bin:/usr/games:/usr/local/games:/snap/bin:/usr/local/bin/popcorntime:/opt/go/bin:/usr/local/spark/bin\n"
     ]
    }
   ],
   "source": [
    "! echo $PATH"
   ]
  },
  {
   "cell_type": "code",
   "execution_count": 317,
   "metadata": {},
   "outputs": [
    {
     "name": "stdout",
     "output_type": "stream",
     "text": [
      "\n"
     ]
    }
   ],
   "source": [
    "! echo $TOCOTO"
   ]
  },
  {
   "cell_type": "code",
   "execution_count": 318,
   "metadata": {},
   "outputs": [
    {
     "name": "stdout",
     "output_type": "stream",
     "text": [
      "En un lugar de la Mancha\n",
      "/bin/sh: 2: de: not found\n",
      "/bin/sh: 3: vivia: not found\n"
     ]
    }
   ],
   "source": [
    "! echo $quijote"
   ]
  },
  {
   "cell_type": "code",
   "execution_count": 319,
   "metadata": {},
   "outputs": [
    {
     "name": "stdout",
     "output_type": "stream",
     "text": [
      "288493873028852398739253829029106548736\n"
     ]
    }
   ],
   "source": [
    "! echo {56 ** 22}"
   ]
  },
  {
   "cell_type": "code",
   "execution_count": 320,
   "metadata": {},
   "outputs": [
    {
     "name": "stdout",
     "output_type": "stream",
     "text": [
      "a\n"
     ]
    }
   ],
   "source": [
    "! echo {quijote.split('\\n')[0][-1]}"
   ]
  },
  {
   "cell_type": "markdown",
   "metadata": {},
   "source": [
    "#  Line and Cell magics\n",
    "\n",
    "\"Metacommands\" that allow us to interact with IPython. They are not Python! other interpreters will throw a SyntaxError if we use them in regular Python progrmas. They are intended only for interactive use."
   ]
  },
  {
   "cell_type": "code",
   "execution_count": 321,
   "metadata": {},
   "outputs": [
    {
     "data": {
      "application/json": {
       "cell": {
        "!": "OSMagics",
        "HTML": "Other",
        "SVG": "Other",
        "bash": "Other",
        "capture": "ExecutionMagics",
        "debug": "ExecutionMagics",
        "file": "Other",
        "html": "DisplayMagics",
        "javascript": "DisplayMagics",
        "js": "DisplayMagics",
        "latex": "DisplayMagics",
        "markdown": "DisplayMagics",
        "perl": "Other",
        "prun": "ExecutionMagics",
        "pypy": "Other",
        "python": "Other",
        "python2": "Other",
        "python3": "Other",
        "ruby": "Other",
        "script": "ScriptMagics",
        "sh": "Other",
        "svg": "DisplayMagics",
        "sx": "OSMagics",
        "system": "OSMagics",
        "time": "ExecutionMagics",
        "timeit": "ExecutionMagics",
        "writefile": "OSMagics"
       },
       "line": {
        "alias": "OSMagics",
        "alias_magic": "BasicMagics",
        "autoawait": "AsyncMagics",
        "autocall": "AutoMagics",
        "automagic": "AutoMagics",
        "autosave": "KernelMagics",
        "bookmark": "OSMagics",
        "cat": "Other",
        "cd": "OSMagics",
        "clear": "KernelMagics",
        "colors": "BasicMagics",
        "config": "ConfigMagics",
        "connect_info": "KernelMagics",
        "cp": "Other",
        "debug": "ExecutionMagics",
        "dhist": "OSMagics",
        "dirs": "OSMagics",
        "doctest_mode": "BasicMagics",
        "ed": "Other",
        "edit": "KernelMagics",
        "env": "OSMagics",
        "gui": "BasicMagics",
        "hist": "Other",
        "history": "HistoryMagics",
        "killbgscripts": "ScriptMagics",
        "ldir": "Other",
        "less": "KernelMagics",
        "lf": "Other",
        "lk": "Other",
        "ll": "Other",
        "load": "CodeMagics",
        "load_ext": "ExtensionMagics",
        "loadpy": "CodeMagics",
        "logoff": "LoggingMagics",
        "logon": "LoggingMagics",
        "logstart": "LoggingMagics",
        "logstate": "LoggingMagics",
        "logstop": "LoggingMagics",
        "ls": "Other",
        "lsmagic": "BasicMagics",
        "lx": "Other",
        "macro": "ExecutionMagics",
        "magic": "BasicMagics",
        "man": "KernelMagics",
        "matplotlib": "PylabMagics",
        "mkdir": "Other",
        "more": "KernelMagics",
        "mv": "Other",
        "notebook": "BasicMagics",
        "page": "BasicMagics",
        "pastebin": "CodeMagics",
        "pdb": "ExecutionMagics",
        "pdef": "NamespaceMagics",
        "pdoc": "NamespaceMagics",
        "pfile": "NamespaceMagics",
        "pinfo": "NamespaceMagics",
        "pinfo2": "NamespaceMagics",
        "pip": "BasicMagics",
        "popd": "OSMagics",
        "pprint": "BasicMagics",
        "precision": "BasicMagics",
        "prun": "ExecutionMagics",
        "psearch": "NamespaceMagics",
        "psource": "NamespaceMagics",
        "pushd": "OSMagics",
        "pwd": "OSMagics",
        "pycat": "OSMagics",
        "pylab": "PylabMagics",
        "qtconsole": "KernelMagics",
        "quickref": "BasicMagics",
        "recall": "HistoryMagics",
        "rehashx": "OSMagics",
        "reload_ext": "ExtensionMagics",
        "rep": "Other",
        "rerun": "HistoryMagics",
        "reset": "NamespaceMagics",
        "reset_selective": "NamespaceMagics",
        "rm": "Other",
        "rmdir": "Other",
        "run": "ExecutionMagics",
        "save": "CodeMagics",
        "sc": "OSMagics",
        "set_env": "OSMagics",
        "store": "StoreMagics",
        "sx": "OSMagics",
        "system": "OSMagics",
        "tb": "ExecutionMagics",
        "time": "ExecutionMagics",
        "timeit": "ExecutionMagics",
        "unalias": "OSMagics",
        "unload_ext": "ExtensionMagics",
        "who": "NamespaceMagics",
        "who_ls": "NamespaceMagics",
        "whos": "NamespaceMagics",
        "xdel": "NamespaceMagics",
        "xmode": "BasicMagics"
       }
      },
      "text/plain": [
       "Available line magics:\n",
       "%alias  %alias_magic  %autoawait  %autocall  %automagic  %autosave  %bookmark  %cat  %cd  %clear  %colors  %config  %connect_info  %cp  %debug  %dhist  %dirs  %doctest_mode  %ed  %edit  %env  %gui  %hist  %history  %killbgscripts  %ldir  %less  %lf  %lk  %ll  %load  %load_ext  %loadpy  %logoff  %logon  %logstart  %logstate  %logstop  %ls  %lsmagic  %lx  %macro  %magic  %man  %matplotlib  %mkdir  %more  %mv  %notebook  %page  %pastebin  %pdb  %pdef  %pdoc  %pfile  %pinfo  %pinfo2  %popd  %pprint  %precision  %prun  %psearch  %psource  %pushd  %pwd  %pycat  %pylab  %qtconsole  %quickref  %recall  %rehashx  %reload_ext  %rep  %rerun  %reset  %reset_selective  %rm  %rmdir  %run  %save  %sc  %set_env  %store  %sx  %system  %tb  %time  %timeit  %unalias  %unload_ext  %who  %who_ls  %whos  %xdel  %xmode\n",
       "\n",
       "Available cell magics:\n",
       "%%!  %%HTML  %%SVG  %%bash  %%capture  %%debug  %%file  %%html  %%javascript  %%js  %%latex  %%markdown  %%perl  %%prun  %%pypy  %%python  %%python2  %%python3  %%ruby  %%script  %%sh  %%svg  %%sx  %%system  %%time  %%timeit  %%writefile\n",
       "\n",
       "Automagic is ON, % prefix IS NOT needed for line magics."
      ]
     },
     "execution_count": 321,
     "metadata": {},
     "output_type": "execute_result"
    }
   ],
   "source": [
    "%lsmagic"
   ]
  },
  {
   "cell_type": "code",
   "execution_count": 331,
   "metadata": {},
   "outputs": [],
   "source": [
    "%whos?"
   ]
  },
  {
   "cell_type": "code",
   "execution_count": 332,
   "metadata": {},
   "outputs": [
    {
     "name": "stdout",
     "output_type": "stream",
     "text": [
      "Variable                        Type                          Data/Info\n",
      "-----------------------------------------------------------------------\n",
      "ALLOW_THREADS                   int                           1\n",
      "AxisError                       type                          <class 'numpy.core._internal.AxisError'>\n",
      "BUFSIZE                         int                           8192\n",
      "CLIP                            int                           0\n",
      "ComplexWarning                  type                          <class 'numpy.core.numeric.ComplexWarning'>\n",
      "DataSource                      type                          <class 'numpy.lib._datasource.DataSource'>\n",
      "ERR_CALL                        int                           3\n",
      "ERR_DEFAULT                     int                           521\n",
      "ERR_IGNORE                      int                           0\n",
      "ERR_LOG                         int                           5\n",
      "ERR_PRINT                       int                           4\n",
      "ERR_RAISE                       int                           2\n",
      "ERR_WARN                        int                           1\n",
      "FLOATING_POINT_SUPPORT          int                           1\n",
      "FPE_DIVIDEBYZERO                int                           1\n",
      "FPE_INVALID                     int                           8\n",
      "FPE_OVERFLOW                    int                           2\n",
      "FPE_UNDERFLOW                   int                           4\n",
      "False_                          bool_                         False\n",
      "Inf                             float                         inf\n",
      "Infinity                        float                         inf\n",
      "MAXDIMS                         int                           32\n",
      "MAY_SHARE_BOUNDS                int                           0\n",
      "MAY_SHARE_EXACT                 int                           -1\n",
      "MachAr                          type                          <class 'numpy.core.machar.MachAr'>\n",
      "ModuleDeprecationWarning        type                          <class 'numpy._globals.ModuleDeprecationWarning'>\n",
      "NAN                             float                         nan\n",
      "NINF                            float                         -inf\n",
      "NZERO                           float                         -0.0\n",
      "NaN                             float                         nan\n",
      "PINF                            float                         inf\n",
      "PZERO                           float                         0.0\n",
      "PackageLoader                   type                          <class 'numpy._import_tools.PackageLoader'>\n",
      "RAISE                           int                           2\n",
      "RankWarning                     type                          <class 'numpy.lib.polynomial.RankWarning'>\n",
      "SHIFT_DIVIDEBYZERO              int                           0\n",
      "SHIFT_INVALID                   int                           9\n",
      "SHIFT_OVERFLOW                  int                           3\n",
      "SHIFT_UNDERFLOW                 int                           6\n",
      "ScalarType                      tuple                         n=32\n",
      "TooHardError                    type                          <class 'numpy.core._internal.TooHardError'>\n",
      "True_                           bool_                         True\n",
      "UFUNC_BUFSIZE_DEFAULT           int                           8192\n",
      "UFUNC_PYVALS_NAME               str                           UFUNC_PYVALS\n",
      "VisibleDeprecationWarning       type                          <class 'numpy._globals.Vi<...>sibleDeprecationWarning'>\n",
      "WRAP                            int                           1\n",
      "a                               int                           2\n",
      "absolute                        ufunc                         <ufunc 'absolute'>\n",
      "acos                            builtin_function_or_method    <built-in function acos>\n",
      "acosh                           builtin_function_or_method    <built-in function acosh>\n",
      "add                             ufunc                         <ufunc 'add'>\n",
      "add_docstring                   builtin_function_or_method    <built-in function add_docstring>\n",
      "add_newdoc                      function                      <function add_newdoc at 0x7f58b4abbd90>\n",
      "add_newdoc_ufunc                builtin_function_or_method    <built-in function _add_newdoc_ufunc>\n",
      "add_newdocs                     module                        <module 'numpy.add_newdoc<...>es/numpy/add_newdocs.py'>\n",
      "alen                            function                      <function alen at 0x7f58b4bc90d0>\n",
      "all                             function                      <function all at 0x7f58b4bc8d90>\n",
      "allclose                        function                      <function allclose at 0x7f58b5664d90>\n",
      "alltrue                         function                      <function alltrue at 0x7f58b4bc97b8>\n",
      "amax                            function                      <function amax at 0x7f58b4bc8f28>\n",
      "amin                            function                      <function amin at 0x7f58b4bc9048>\n",
      "angle                           function                      <function angle at 0x7f58b4aba730>\n",
      "another_function_to_implement   function                      <function another_functio<...>lement at 0x7f5891eca048>\n",
      "any                             function                      <function any at 0x7f58b4bc8d08>\n",
      "append                          function                      <function append at 0x7f58b4abd048>\n",
      "apply_along_axis                function                      <function apply_along_axis at 0x7f58b4ae3510>\n",
      "apply_over_axes                 function                      <function apply_over_axes at 0x7f58b4ae3598>\n",
      "arange                          builtin_function_or_method    <built-in function arange>\n",
      "arccos                          ufunc                         <ufunc 'arccos'>\n",
      "arccosh                         ufunc                         <ufunc 'arccosh'>\n",
      "arcsin                          ufunc                         <ufunc 'arcsin'>\n",
      "arcsinh                         ufunc                         <ufunc 'arcsinh'>\n",
      "arctan                          ufunc                         <ufunc 'arctan'>\n",
      "arctan2                         ufunc                         <ufunc 'arctan2'>\n",
      "arctanh                         ufunc                         <ufunc 'arctanh'>\n",
      "argmax                          function                      <function argmax at 0x7f58b4bc8620>\n",
      "argmin                          function                      <function argmin at 0x7f58b4bc86a8>\n",
      "argpartition                    function                      <function argpartition at 0x7f58b4bc8488>\n",
      "argsort                         function                      <function argsort at 0x7f58b4bc8598>\n",
      "argwhere                        function                      <function argwhere at 0x7f58b5664268>\n",
      "around                          function                      <function around at 0x7f58b4bc9378>\n",
      "array                           builtin_function_or_method    <built-in function array>\n",
      "array2string                    function                      <function array2string at 0x7f58b4bdc510>\n",
      "array_equal                     function                      <function array_equal at 0x7f58b5664ea0>\n",
      "array_equiv                     function                      <function array_equiv at 0x7f58b5664f28>\n",
      "array_repr                      function                      <function array_repr at 0x7f58b4bde950>\n",
      "array_split                     function                      <function array_split at 0x7f58b4ae3840>\n",
      "array_str                       function                      <function array_str at 0x7f58b4bde9d8>\n",
      "asanyarray                      function                      <function asanyarray at 0x7f58b4badf28>\n",
      "asarray                         function                      <function asarray at 0x7f58b4badea0>\n",
      "asarray_chkfinite               function                      <function asarray_chkfinite at 0x7f58b4aba378>\n",
      "ascontiguousarray               function                      <function ascontiguousarray at 0x7f58b5664048>\n",
      "asfarray                        function                      <function asfarray at 0x7f58b4b17048>\n",
      "asfortranarray                  function                      <function asfortranarray at 0x7f58b56640d0>\n",
      "asin                            builtin_function_or_method    <built-in function asin>\n",
      "asinh                           builtin_function_or_method    <built-in function asinh>\n",
      "asmatrix                        function                      <function asmatrix at 0x7f58b4abd400>\n",
      "asscalar                        function                      <function asscalar at 0x7f58b4b17598>\n",
      "atan                            builtin_function_or_method    <built-in function atan>\n",
      "atan2                           builtin_function_or_method    <built-in function atan2>\n",
      "atanh                           builtin_function_or_method    <built-in function atanh>\n",
      "atleast_1d                      function                      <function atleast_1d at 0x7f58b4b82bf8>\n",
      "atleast_2d                      function                      <function atleast_2d at 0x7f58b4b8e1e0>\n",
      "atleast_3d                      function                      <function atleast_3d at 0x7f58b4b8e268>\n",
      "average                         function                      <function average at 0x7f58b4aba2f0>\n",
      "average_words                   float                         5.666666666666667\n",
      "b                               int                           3\n",
      "bartlett                        function                      <function bartlett at 0x7f58b4abb378>\n",
      "base_repr                       function                      <function base_repr at 0x7f58b5664b70>\n",
      "binary_repr                     function                      <function binary_repr at 0x7f58b5664ae8>\n",
      "bincount                        builtin_function_or_method    <built-in function bincount>\n",
      "bitwise_and                     ufunc                         <ufunc 'bitwise_and'>\n",
      "bitwise_not                     ufunc                         <ufunc 'invert'>\n",
      "bitwise_or                      ufunc                         <ufunc 'bitwise_or'>\n",
      "bitwise_xor                     ufunc                         <ufunc 'bitwise_xor'>\n",
      "blackman                        function                      <function blackman at 0x7f58b4abb2f0>\n",
      "block                           function                      <function block at 0x7f58b4b8e598>\n",
      "bmat                            function                      <function bmat at 0x7f58b4ad66a8>\n",
      "bool8                           type                          <class 'numpy.bool_'>\n",
      "bool_                           type                          <class 'numpy.bool_'>\n",
      "broadcast                       type                          <class 'numpy.broadcast'>\n",
      "broadcast_arrays                function                      <function broadcast_arrays at 0x7f58b4ad6ae8>\n",
      "broadcast_to                    function                      <function broadcast_to at 0x7f58b4ad69d8>\n",
      "busday_count                    builtin_function_or_method    <built-in function busday_count>\n",
      "busday_offset                   builtin_function_or_method    <built-in function busday_offset>\n",
      "busdaycalendar                  type                          <class 'numpy.busdaycalendar'>\n",
      "byte                            type                          <class 'numpy.int8'>\n",
      "byte_bounds                     function                      <function byte_bounds at 0x7f58b4b08268>\n",
      "bytes0                          type                          <class 'numpy.bytes_'>\n",
      "bytes_                          type                          <class 'numpy.bytes_'>\n",
      "c                               int                           86\n",
      "c_                              CClass                        <numpy.lib.index_tricks.C<...>object at 0x7f58b4acfba8>\n",
      "can_cast                        builtin_function_or_method    <built-in function can_cast>\n",
      "cast                            _typedict                     {<class 'numpy.bool_'>: <<...>mbda> at 0x7f58b4ba9378>}\n",
      "cbrt                            ufunc                         <ufunc 'cbrt'>\n",
      "cdouble                         type                          <class 'numpy.complex128'>\n",
      "ceil                            ufunc                         <ufunc 'ceil'>\n",
      "centenario                      function                      <function centenario at 0x7f5891cf7ae8>\n",
      "cfloat                          type                          <class 'numpy.complex128'>\n",
      "char                            module                        <module 'numpy.core.defch<...>py/core/defchararray.py'>\n",
      "character                       type                          <class 'numpy.character'>\n",
      "chararray                       type                          <class 'numpy.core.defchararray.chararray'>\n",
      "choose                          function                      <function choose at 0x7f58b4bc8158>\n",
      "clip                            function                      <function clip at 0x7f58b4bc8bf8>\n",
      "clongdouble                     type                          <class 'numpy.complex256'>\n",
      "clongfloat                      type                          <class 'numpy.complex256'>\n",
      "column_stack                    function                      <function column_stack at 0x7f58b4ae36a8>\n",
      "common_type                     function                      <function common_type at 0x7f58b4b176a8>\n",
      "compare_chararrays              builtin_function_or_method    <built-in function compare_chararrays>\n",
      "complex128                      type                          <class 'numpy.complex128'>\n",
      "complex256                      type                          <class 'numpy.complex256'>\n",
      "complex64                       type                          <class 'numpy.complex64'>\n",
      "complex_                        type                          <class 'numpy.complex128'>\n",
      "complexfloating                 type                          <class 'numpy.complexfloating'>\n",
      "compress                        function                      <function compress at 0x7f58b4bc8b70>\n",
      "concatenate                     builtin_function_or_method    <built-in function concatenate>\n",
      "conj                            ufunc                         <ufunc 'conjugate'>\n",
      "conjugate                       ufunc                         <ufunc 'conjugate'>\n",
      "convolve                        function                      <function convolve at 0x7f58b5664488>\n",
      "copy                            function                      <function copy at 0x7f58b4aba510>\n",
      "copysign                        ufunc                         <ufunc 'copysign'>\n",
      "copyto                          builtin_function_or_method    <built-in function copyto>\n",
      "corrcoef                        function                      <function corrcoef at 0x7f58b4abb268>\n",
      "correlate                       function                      <function correlate at 0x7f58b5664400>\n",
      "cos                             ufunc                         <ufunc 'cos'>\n",
      "cosh                            ufunc                         <ufunc 'cosh'>\n",
      "count_nonzero                   function                      <function count_nonzero at 0x7f58b4bade18>\n",
      "cov                             function                      <function cov at 0x7f58b4abaea0>\n",
      "cross                           function                      <function cross at 0x7f58b56648c8>\n",
      "csingle                         type                          <class 'numpy.complex64'>\n",
      "ctypeslib                       module                        <module 'numpy.ctypeslib'<...>ages/numpy/ctypeslib.py'>\n",
      "cumprod                         function                      <function cumprod at 0x7f58b4bc91e0>\n",
      "cumproduct                      function                      <function cumproduct at 0x7f58b4bc96a8>\n",
      "cumsum                          function                      <function cumsum at 0x7f58b4bc8e18>\n",
      "datetime64                      type                          <class 'numpy.datetime64'>\n",
      "datetime_as_string              builtin_function_or_method    <built-in function datetime_as_string>\n",
      "datetime_data                   builtin_function_or_method    <built-in function datetime_data>\n",
      "deg2rad                         ufunc                         <ufunc 'deg2rad'>\n",
      "degrees                         ufunc                         <ufunc 'degrees'>\n",
      "delete                          function                      <function delete at 0x7f58b4abbea0>\n",
      "deprecate                       function                      <function deprecate at 0x7f58b4aeaf28>\n",
      "deprecate_with_doc              function                      <function <lambda> at 0x7f58b4b081e0>\n",
      "diag                            function                      <function diag at 0x7f58b4ab52f0>\n",
      "diag_indices                    function                      <function diag_indices at 0x7f58b4ad7598>\n",
      "diag_indices_from               function                      <function diag_indices_from at 0x7f58b4ad7620>\n",
      "diagflat                        function                      <function diagflat at 0x7f58b4ab5378>\n",
      "diagonal                        function                      <function diagonal at 0x7f58b4bc88c8>\n",
      "diff                            function                      <function diff at 0x7f58b4aba620>\n",
      "digitize                        builtin_function_or_method    <built-in function digitize>\n",
      "disp                            function                      <function disp at 0x7f58b4abab70>\n",
      "distance                        function                      <function distance at 0x7f5891ed5488>\n",
      "divide                          ufunc                         <ufunc 'true_divide'>\n",
      "divmod                          ufunc                         <ufunc 'divmod'>\n",
      "dot                             builtin_function_or_method    <built-in function dot>\n",
      "double                          type                          <class 'numpy.float64'>\n",
      "dsplit                          function                      <function dsplit at 0x7f58b4ae3a60>\n",
      "dstack                          function                      <function dstack at 0x7f58b4ae3730>\n",
      "dtype                           type                          <class 'numpy.dtype'>\n",
      "e                               float                         2.718281828459045\n",
      "ediff1d                         function                      <function ediff1d at 0x7f58b4a72d90>\n",
      "einsum                          function                      <function einsum at 0x7f58b4b8eb70>\n",
      "einsum_path                     function                      <function einsum_path at 0x7f58b4b8eae8>\n",
      "emath                           module                        <module 'numpy.lib.scimat<...>es/numpy/lib/scimath.py'>\n",
      "empty                           builtin_function_or_method    <built-in function empty>\n",
      "empty_like                      builtin_function_or_method    <built-in function empty_like>\n",
      "equal                           ufunc                         <ufunc 'equal'>\n",
      "erf                             ufunc                         <ufunc 'erf'>\n",
      "erfc                            builtin_function_or_method    <built-in function erfc>\n",
      "errstate                        type                          <class 'numpy.core.numeric.errstate'>\n",
      "euler_gamma                     float                         0.5772156649015329\n",
      "exp                             ufunc                         <ufunc 'exp'>\n",
      "exp2                            ufunc                         <ufunc 'exp2'>\n",
      "expand_dims                     function                      <function expand_dims at 0x7f58b4ae3620>\n",
      "expm1                           ufunc                         <ufunc 'expm1'>\n",
      "extract                         function                      <function extract at 0x7f58b4abaa60>\n",
      "eye                             function                      <function eye at 0x7f58b4ab5268>\n",
      "fabs                            ufunc                         <ufunc 'fabs'>\n",
      "factorial                       builtin_function_or_method    <built-in function factorial>\n",
      "fastCopyAndTranspose            builtin_function_or_method    <built-in function _fastCopyAndTranspose>\n",
      "fft                             module                        <module 'numpy.fft' from <...>s/numpy/fft/__init__.py'>\n",
      "fields                          list                          n=3\n",
      "fill_diagonal                   function                      <function fill_diagonal at 0x7f58b4ad6b70>\n",
      "find_common_type                function                      <function find_common_type at 0x7f58bdd1de18>\n",
      "finfo                           type                          <class 'numpy.core.getlimits.finfo'>\n",
      "fix                             function                      <function fix at 0x7f58b4b8ed90>\n",
      "flatiter                        type                          <class 'numpy.flatiter'>\n",
      "flatnonzero                     function                      <function flatnonzero at 0x7f58b56642f0>\n",
      "flexible                        type                          <class 'numpy.flexible'>\n",
      "flip                            function                      <function flip at 0x7f58b4aba1e0>\n",
      "fliplr                          function                      <function fliplr at 0x7f58b4ab5158>\n",
      "flipud                          function                      <function flipud at 0x7f58b4ab51e0>\n",
      "float128                        type                          <class 'numpy.float128'>\n",
      "float16                         type                          <class 'numpy.float16'>\n",
      "float32                         type                          <class 'numpy.float32'>\n",
      "float64                         type                          <class 'numpy.float64'>\n",
      "float_                          type                          <class 'numpy.float64'>\n",
      "float_power                     ufunc                         <ufunc 'float_power'>\n",
      "floating                        type                          <class 'numpy.floating'>\n",
      "floor                           ufunc                         <ufunc 'floor'>\n",
      "floor_divide                    ufunc                         <ufunc 'floor_divide'>\n",
      "fmax                            ufunc                         <ufunc 'fmax'>\n",
      "fmin                            ufunc                         <ufunc 'fmin'>\n",
      "fmod                            ufunc                         <ufunc 'fmod'>\n",
      "format_float_positional         function                      <function format_float_po<...>tional at 0x7f58b4bdcb70>\n",
      "format_float_scientific         function                      <function format_float_sc<...>ntific at 0x7f58b4bdc840>\n",
      "format_parser                   type                          <class 'numpy.core.records.format_parser'>\n",
      "frexp                           ufunc                         <ufunc 'frexp'>\n",
      "frombuffer                      builtin_function_or_method    <built-in function frombuffer>\n",
      "fromfile                        builtin_function_or_method    <built-in function fromfile>\n",
      "fromfunction                    function                      <function fromfunction at 0x7f58b56649d8>\n",
      "fromiter                        builtin_function_or_method    <built-in function fromiter>\n",
      "frompyfunc                      builtin_function_or_method    <built-in function frompyfunc>\n",
      "fromregex                       function                      <function fromregex at 0x7f58b4a25400>\n",
      "fromstring                      builtin_function_or_method    <built-in function fromstring>\n",
      "fsum                            builtin_function_or_method    <built-in function fsum>\n",
      "full                            function                      <function full at 0x7f58b4badd08>\n",
      "full_like                       function                      <function full_like at 0x7f58b4badd90>\n",
      "function_to_implement           function                      <function function_to_imp<...>lement at 0x7f5893763ae8>\n",
      "fv                              function                      <function fv at 0x7f58b4a258c8>\n",
      "gamma                           builtin_function_or_method    <built-in function gamma>\n",
      "gcd                             ufunc                         <ufunc 'gcd'>\n",
      "generic                         type                          <class 'numpy.generic'>\n",
      "genfromtxt                      function                      <function genfromtxt at 0x7f58b4a25488>\n",
      "geomspace                       function                      <function geomspace at 0x7f58b4b7be18>\n",
      "get_array_wrap                  function                      <function get_array_wrap at 0x7f58b4ae3b70>\n",
      "get_include                     function                      <function get_include at 0x7f58b4aeae18>\n",
      "get_printoptions                function                      <function get_printoptions at 0x7f58b4bc9f28>\n",
      "getbufsize                      function                      <function getbufsize at 0x7f58b4bb91e0>\n",
      "geterr                          function                      <function geterr at 0x7f58b4bb90d0>\n",
      "geterrcall                      function                      <function geterrcall at 0x7f58b4bb92f0>\n",
      "geterrobj                       builtin_function_or_method    <built-in function geterrobj>\n",
      "gradient                        function                      <function gradient at 0x7f58b4aba598>\n",
      "greater                         ufunc                         <ufunc 'greater'>\n",
      "greater_equal                   ufunc                         <ufunc 'greater_equal'>\n",
      "half                            type                          <class 'numpy.float16'>\n",
      "hamming                         function                      <function hamming at 0x7f58b4abb488>\n",
      "hanning                         function                      <function hanning at 0x7f58b4abb400>\n",
      "header                          str                           name\toccupation\tsalary\n",
      "heaviside                       ufunc                         <ufunc 'heaviside'>\n",
      "hello                           module                        <module 'hello' from '/ho<...>n_fundamentals/hello.py'>\n",
      "histogram                       function                      <function histogram at 0x7f58b4aba0d0>\n",
      "histogram2d                     function                      <function histogram2d at 0x7f58b4ab5620>\n",
      "histogram_bin_edges             function                      <function histogram_bin_edges at 0x7f58b4aba048>\n",
      "histogramdd                     function                      <function histogramdd at 0x7f58b4aba158>\n",
      "hsplit                          function                      <function hsplit at 0x7f58b4ae3950>\n",
      "hstack                          function                      <function hstack at 0x7f58b4b8e378>\n",
      "hypot                           ufunc                         <ufunc 'hypot'>\n",
      "i                               complex                       (3+5j)\n",
      "i0                              function                      <function i0 at 0x7f58b4abb6a8>\n",
      "identity                        function                      <function identity at 0x7f58b5664d08>\n",
      "iinfo                           type                          <class 'numpy.core.getlimits.iinfo'>\n",
      "imag                            function                      <function imag at 0x7f58b4b17158>\n",
      "in1d                            function                      <function in1d at 0x7f58b4a79158>\n",
      "index_exp                       IndexExpression               <numpy.lib.index_tricks.I<...>object at 0x7f58b4acfcf8>\n",
      "indices                         function                      <function indices at 0x7f58b5664950>\n",
      "inexact                         type                          <class 'numpy.inexact'>\n",
      "inf                             float                         inf\n",
      "info                            function                      <function info at 0x7f58b4b08510>\n",
      "infty                           float                         inf\n",
      "inner                           builtin_function_or_method    <built-in function inner>\n",
      "insert                          function                      <function insert at 0x7f58b4abbf28>\n",
      "int0                            type                          <class 'numpy.int64'>\n",
      "int16                           type                          <class 'numpy.int16'>\n",
      "int32                           type                          <class 'numpy.int32'>\n",
      "int64                           type                          <class 'numpy.int64'>\n",
      "int8                            type                          <class 'numpy.int8'>\n",
      "int_                            type                          <class 'numpy.int64'>\n",
      "int_asbuffer                    builtin_function_or_method    <built-in function int_asbuffer>\n",
      "intc                            type                          <class 'numpy.int32'>\n",
      "integer                         type                          <class 'numpy.integer'>\n",
      "interp                          function                      <function interp at 0x7f58b4aba6a8>\n",
      "intersect1d                     function                      <function intersect1d at 0x7f58b4a79048>\n",
      "intp                            type                          <class 'numpy.int64'>\n",
      "invert                          ufunc                         <ufunc 'invert'>\n",
      "ipmt                            function                      <function ipmt at 0x7f58b4a25a60>\n",
      "irr                             function                      <function irr at 0x7f58b4a25d90>\n",
      "is_busday                       builtin_function_or_method    <built-in function is_busday>\n",
      "isclose                         function                      <function isclose at 0x7f58b5664e18>\n",
      "iscomplex                       function                      <function iscomplex at 0x7f58b4b171e0>\n",
      "iscomplexobj                    function                      <function iscomplexobj at 0x7f58b4b172f0>\n",
      "isfinite                        ufunc                         <ufunc 'isfinite'>\n",
      "isfortran                       function                      <function isfortran at 0x7f58b56641e0>\n",
      "isin                            function                      <function isin at 0x7f58b4a791e0>\n",
      "isinf                           ufunc                         <ufunc 'isinf'>\n",
      "isnan                           ufunc                         <ufunc 'isnan'>\n",
      "isnat                           ufunc                         <ufunc 'isnat'>\n",
      "isneginf                        function                      <function isneginf at 0x7f58b4b0df28>\n",
      "isposinf                        function                      <function isposinf at 0x7f58b4b0de18>\n",
      "isreal                          function                      <function isreal at 0x7f58b4b17268>\n",
      "isrealobj                       function                      <function isrealobj at 0x7f58b4b17378>\n",
      "isscalar                        function                      <function isscalar at 0x7f58b5664a60>\n",
      "issctype                        function                      <function issctype at 0x7f58b4ba7268>\n",
      "issubclass_                     function                      <function issubclass_ at 0x7f58b4ba7378>\n",
      "issubdtype                      function                      <function issubdtype at 0x7f58b4ba7488>\n",
      "issubsctype                     function                      <function issubsctype at 0x7f58b4ba7400>\n",
      "iterable                        function                      <function iterable at 0x7f58b4aba268>\n",
      "ix_                             function                      <function ix_ at 0x7f58b4b17840>\n",
      "k                               int                           6384063896233825865031118<...>9105173045368187781459777\n",
      "kaiser                          function                      <function kaiser at 0x7f58b4abb730>\n",
      "kron                            function                      <function kron at 0x7f58b4ae3bf8>\n",
      "l                               int                           3\n",
      "lcm                             ufunc                         <ufunc 'lcm'>\n",
      "ldexp                           ufunc                         <ufunc 'ldexp'>\n",
      "left_shift                      ufunc                         <ufunc 'left_shift'>\n",
      "less                            ufunc                         <ufunc 'less'>\n",
      "less_equal                      ufunc                         <ufunc 'less_equal'>\n",
      "lexsort                         builtin_function_or_method    <built-in function lexsort>\n",
      "lgamma                          builtin_function_or_method    <built-in function lgamma>\n",
      "linalg                          module                        <module 'numpy.linalg' fr<...>umpy/linalg/__init__.py'>\n",
      "linspace                        function                      <function linspace at 0x7f58b4b7bd08>\n",
      "little_endian                   bool                          True\n",
      "load                            function                      <function load at 0x7f58b4a29840>\n",
      "loads                           function                      <function loads at 0x7f58b4a79620>\n",
      "loadtxt                         function                      <function loadtxt at 0x7f58b4a252f0>\n",
      "log                             ufunc                         <ufunc 'log'>\n",
      "log10                           ufunc                         <ufunc 'log10'>\n",
      "log1p                           ufunc                         <ufunc 'log1p'>\n",
      "log2                            ufunc                         <ufunc 'log2'>\n",
      "logaddexp                       ufunc                         <ufunc 'logaddexp'>\n",
      "logaddexp2                      ufunc                         <ufunc 'logaddexp2'>\n",
      "logical_and                     ufunc                         <ufunc 'logical_and'>\n",
      "logical_not                     ufunc                         <ufunc 'logical_not'>\n",
      "logical_or                      ufunc                         <ufunc 'logical_or'>\n",
      "logical_xor                     ufunc                         <ufunc 'logical_xor'>\n",
      "logspace                        function                      <function logspace at 0x7f58b4b7bd90>\n",
      "long                            type                          <class 'int'>\n",
      "longcomplex                     type                          <class 'numpy.complex256'>\n",
      "longdouble                      type                          <class 'numpy.float128'>\n",
      "longfloat                       type                          <class 'numpy.float128'>\n",
      "longlong                        type                          <class 'numpy.int64'>\n",
      "lookfor                         function                      <function lookfor at 0x7f58b4b08620>\n",
      "ma                              module                        <module 'numpy.ma' from '<...>es/numpy/ma/__init__.py'>\n",
      "mafromtxt                       function                      <function mafromtxt at 0x7f58b4a25598>\n",
      "mask_indices                    function                      <function mask_indices at 0x7f58b4ab56a8>\n",
      "mat                             function                      <function asmatrix at 0x7f58b4abd400>\n",
      "math                            module                        <module 'math' from '/hom<...>36m-x86_64-linux-gnu.so'>\n",
      "matmul                          builtin_function_or_method    <built-in function matmul>\n",
      "matrix                          type                          <class 'numpy.matrixlib.defmatrix.matrix'>\n",
      "max_of_three                    function                      <function max_of_three at 0x7f589375c1e0>\n",
      "maximum                         ufunc                         <ufunc 'maximum'>\n",
      "maximum_sctype                  function                      <function maximum_sctype at 0x7f58b4ba71e0>\n",
      "may_share_memory                builtin_function_or_method    <built-in function may_share_memory>\n",
      "mean                            function                      <function mean at 0x7f58b4bc9488>\n",
      "median                          function                      <function median at 0x7f58b4abb950>\n",
      "memmap                          type                          <class 'numpy.core.memmap.memmap'>\n",
      "meshgrid                        function                      <function meshgrid at 0x7f58b4abbe18>\n",
      "mgrid                           nd_grid                       <numpy.lib.index_tricks.n<...>object at 0x7f58b4b13a90>\n",
      "min_scalar_type                 builtin_function_or_method    <built-in function min_scalar_type>\n",
      "minimum                         ufunc                         <ufunc 'minimum'>\n",
      "mintypecode                     function                      <function mintypecode at 0x7f58b56b4378>\n",
      "mirr                            function                      <function mirr at 0x7f58b4a25ea0>\n",
      "mod                             ufunc                         <ufunc 'remainder'>\n",
      "modf                            ufunc                         <ufunc 'modf'>\n",
      "moveaxis                        function                      <function moveaxis at 0x7f58b56647b8>\n",
      "msort                           function                      <function msort at 0x7f58b4abb840>\n",
      "multiple                        function                      <function multiple at 0x7f5891ed5d08>\n",
      "multiply                        ufunc                         <ufunc 'multiply'>\n",
      "my_sqrt                         function                      <function my_sqrt at 0x7f5891eca378>\n",
      "name                            str                           Dani\n",
      "nan                             float                         nan\n",
      "nan_to_num                      function                      <function nan_to_num at 0x7f58b4b17488>\n",
      "nanargmax                       function                      <function nanargmax at 0x7f58b4add950>\n",
      "nanargmin                       function                      <function nanargmin at 0x7f58b4add8c8>\n",
      "nancumprod                      function                      <function nancumprod at 0x7f58b4addb70>\n",
      "nancumsum                       function                      <function nancumsum at 0x7f58b4addae8>\n",
      "nanmax                          function                      <function nanmax at 0x7f58b4add840>\n",
      "nanmean                         function                      <function nanmean at 0x7f58b4addbf8>\n",
      "nanmedian                       function                      <function nanmedian at 0x7f58b4adde18>\n",
      "nanmin                          function                      <function nanmin at 0x7f58b4add7b8>\n",
      "nanpercentile                   function                      <function nanpercentile at 0x7f58b4addea0>\n",
      "nanprod                         function                      <function nanprod at 0x7f58b4adda60>\n",
      "nanquantile                     function                      <function nanquantile at 0x7f58b4addf28>\n",
      "nanstd                          function                      <function nanstd at 0x7f58b4ae3268>\n",
      "nansum                          function                      <function nansum at 0x7f58b4add9d8>\n",
      "nanvar                          function                      <function nanvar at 0x7f58b4ae31e0>\n",
      "nbytes                          _typedict                     {<class 'numpy.bool_'>: 1<...> 'numpy.timedelta64'>: 8}\n",
      "ndarray                         type                          <class 'numpy.ndarray'>\n",
      "ndenumerate                     type                          <class 'numpy.lib.index_tricks.ndenumerate'>\n",
      "ndfromtxt                       function                      <function ndfromtxt at 0x7f58b4a25510>\n",
      "ndim                            function                      <function ndim at 0x7f58b4bc9268>\n",
      "ndindex                         type                          <class 'numpy.lib.index_tricks.ndindex'>\n",
      "nditer                          type                          <class 'numpy.nditer'>\n",
      "negative                        ufunc                         <ufunc 'negative'>\n",
      "nested_iters                    builtin_function_or_method    <built-in function nested_iters>\n",
      "newaxis                         NoneType                      None\n",
      "nextafter                       ufunc                         <ufunc 'nextafter'>\n",
      "nonzero                         function                      <function nonzero at 0x7f58b4bc8a60>\n",
      "noreturn                        function                      <function noreturn at 0x7f5891ed5bf8>\n",
      "not_equal                       ufunc                         <ufunc 'not_equal'>\n",
      "np                              module                        <module 'numpy' from '/ho<...>kages/numpy/__init__.py'>\n",
      "nper                            function                      <function nper at 0x7f58b4a259d8>\n",
      "npv                             function                      <function npv at 0x7f58b4a25e18>\n",
      "number                          type                          <class 'numpy.number'>\n",
      "obj2sctype                      function                      <function obj2sctype at 0x7f58b4ba72f0>\n",
      "object0                         type                          <class 'numpy.object_'>\n",
      "object_                         type                          <class 'numpy.object_'>\n",
      "ogrid                           nd_grid                       <numpy.lib.index_tricks.n<...>object at 0x7f58b4b13b00>\n",
      "ones                            function                      <function ones at 0x7f58b4badbf8>\n",
      "ones_like                       function                      <function ones_like at 0x7f58b4badc80>\n",
      "os                              module                        <module 'os' from '/home/<...>019/lib/python3.6/os.py'>\n",
      "outer                           function                      <function outer at 0x7f58b5664510>\n",
      "packbits                        builtin_function_or_method    <built-in function packbits>\n",
      "pad                             function                      <function pad at 0x7f58b4a36488>\n",
      "partition                       function                      <function partition at 0x7f58b4bc8400>\n",
      "percentile                      function                      <function percentile at 0x7f58b4abba60>\n",
      "pi                              float                         3.141592653589793\n",
      "piecewise                       function                      <function piecewise at 0x7f58b4aba400>\n",
      "pkgload                         function                      <function pkgload at 0x7f58b569eb70>\n",
      "place                           function                      <function place at 0x7f58b4abaae8>\n",
      "plt                             module                        <module 'matplotlib.pyplo<...>es/matplotlib/pyplot.py'>\n",
      "pmt                             function                      <function pmt at 0x7f58b4a25950>\n",
      "poly                            function                      <function poly at 0x7f58b4a6d620>\n",
      "poly1d                          type                          <class 'numpy.lib.polynomial.poly1d'>\n",
      "polyadd                         function                      <function polyadd at 0x7f58b4a6d950>\n",
      "polyder                         function                      <function polyder at 0x7f58b4a6d7b8>\n",
      "polydiv                         function                      <function polydiv at 0x7f58b4a6dae8>\n",
      "polyfit                         function                      <function polyfit at 0x7f58b4a6d840>\n",
      "polyint                         function                      <function polyint at 0x7f58b4a6d730>\n",
      "polymul                         function                      <function polymul at 0x7f58b4a6da60>\n",
      "polysub                         function                      <function polysub at 0x7f58b4a6d9d8>\n",
      "polyval                         function                      <function polyval at 0x7f58b4a6d8c8>\n",
      "positive                        ufunc                         <ufunc 'positive'>\n",
      "pow                             builtin_function_or_method    <built-in function pow>\n",
      "power                           ufunc                         <ufunc 'power'>\n",
      "ppmt                            function                      <function ppmt at 0x7f58b4a25b70>\n",
      "printoptions                    function                      <function printoptions at 0x7f58b4bdc0d0>\n",
      "prod                            function                      <function prod at 0x7f58b4bc9158>\n",
      "product                         function                      <function product at 0x7f58b4bc9620>\n",
      "promote_types                   builtin_function_or_method    <built-in function promote_types>\n",
      "ptp                             function                      <function ptp at 0x7f58b4bc8ea0>\n",
      "put                             function                      <function put at 0x7f58b4bc8268>\n",
      "put_along_axis                  function                      <function put_along_axis at 0x7f58b4ae3488>\n",
      "putmask                         builtin_function_or_method    <built-in function putmask>\n",
      "pv                              function                      <function pv at 0x7f58b4a25bf8>\n",
      "quantile                        function                      <function quantile at 0x7f58b4abbae8>\n",
      "quijote                         str                           En un lugar de la Mancha\\<...>vivia un hidalgo etc etc \n",
      "r_                              RClass                        <numpy.lib.index_tricks.R<...>object at 0x7f58b4acfb38>\n",
      "rad2deg                         ufunc                         <ufunc 'rad2deg'>\n",
      "radians                         ufunc                         <ufunc 'radians'>\n",
      "random                          module                        <module 'numpy.random' fr<...>umpy/random/__init__.py'>\n",
      "rank                            function                      <function rank at 0x7f58b4bc9840>\n",
      "rate                            function                      <function rate at 0x7f58b4a25d08>\n",
      "ravel                           function                      <function ravel at 0x7f58b4bc89d8>\n",
      "ravel_multi_index               builtin_function_or_method    <built-in function ravel_multi_index>\n",
      "real                            function                      <function real at 0x7f58b4b170d0>\n",
      "real_if_close                   function                      <function real_if_close at 0x7f58b4b17510>\n",
      "rec                             module                        <module 'numpy.core.recor<...>s/numpy/core/records.py'>\n",
      "recarray                        type                          <class 'numpy.recarray'>\n",
      "recfromcsv                      function                      <function recfromcsv at 0x7f58b4a256a8>\n",
      "recfromtxt                      function                      <function recfromtxt at 0x7f58b4a25620>\n",
      "reciprocal                      ufunc                         <ufunc 'reciprocal'>\n",
      "record                          type                          <class 'numpy.record'>\n",
      "remainder                       ufunc                         <ufunc 'remainder'>\n",
      "remove_char_at_n                function                      <function remove_char_at_n at 0x7f58903f39d8>\n",
      "repeat                          function                      <function repeat at 0x7f58b4bc81e0>\n",
      "require                         function                      <function require at 0x7f58b5664158>\n",
      "reshape                         function                      <function reshape at 0x7f58b4bc80d0>\n",
      "resize                          function                      <function resize at 0x7f58b4bc87b8>\n",
      "result                          NoneType                      None\n",
      "result_type                     builtin_function_or_method    <built-in function result_type>\n",
      "right_shift                     ufunc                         <ufunc 'right_shift'>\n",
      "rint                            ufunc                         <ufunc 'rint'>\n",
      "roll                            function                      <function roll at 0x7f58b5664620>\n",
      "rollaxis                        function                      <function rollaxis at 0x7f58b56646a8>\n",
      "roots                           function                      <function roots at 0x7f58b4a6d6a8>\n",
      "rot90                           function                      <function rot90 at 0x7f58b4b17f28>\n",
      "round_                          function                      <function round_ at 0x7f58b4bc9400>\n",
      "row_stack                       function                      <function vstack at 0x7f58b4b8e2f0>\n",
      "s_                              IndexExpression               <numpy.lib.index_tricks.I<...>object at 0x7f58b4acfd30>\n",
      "safe_eval                       function                      <function safe_eval at 0x7f58b4b087b8>\n",
      "save                            function                      <function save at 0x7f58b4a25048>\n",
      "savetxt                         function                      <function savetxt at 0x7f58b4a25378>\n",
      "savez                           function                      <function savez at 0x7f58b4a250d0>\n",
      "savez_compressed                function                      <function savez_compressed at 0x7f58b4a25158>\n",
      "scary_book                      str                           Stephen King's \"Carrey\"\n",
      "scopes                          function                      <function scopes at 0x7f5891ed5378>\n",
      "sctype2char                     function                      <function sctype2char at 0x7f58b4ba7620>\n",
      "sctypeDict                      dict                          n=157\n",
      "sctypeNA                        dict                          n=88\n",
      "sctypes                         dict                          n=5\n",
      "searchsorted                    function                      <function searchsorted at 0x7f58b4bc8730>\n",
      "select                          function                      <function select at 0x7f58b4aba488>\n",
      "seno                            builtin_function_or_method    <built-in function sin>\n",
      "sentence                        str                           Stephen King's \"Carrey\" is scary\n",
      "set_numeric_ops                 builtin_function_or_method    <built-in function set_numeric_ops>\n",
      "set_printoptions                function                      <function set_printoptions at 0x7f58b4bc9ea0>\n",
      "set_string_function             function                      <function set_string_function at 0x7f58b4bdeae8>\n",
      "setbufsize                      function                      <function setbufsize at 0x7f58b4bb9158>\n",
      "setdiff1d                       function                      <function setdiff1d at 0x7f58b4a792f0>\n",
      "seterr                          function                      <function seterr at 0x7f58b4bb9048>\n",
      "seterrcall                      function                      <function seterrcall at 0x7f58b4bb9268>\n",
      "seterrobj                       builtin_function_or_method    <built-in function seterrobj>\n",
      "setxor1d                        function                      <function setxor1d at 0x7f58b4a790d0>\n",
      "shape                           function                      <function shape at 0x7f58b4bc8ae8>\n",
      "shares_memory                   builtin_function_or_method    <built-in function shares_memory>\n",
      "short                           type                          <class 'numpy.int16'>\n",
      "show_config                     function                      <function show at 0x7f58b56a5048>\n",
      "sign                            ufunc                         <ufunc 'sign'>\n",
      "signbit                         ufunc                         <ufunc 'signbit'>\n",
      "signedinteger                   type                          <class 'numpy.signedinteger'>\n",
      "sin                             ufunc                         <ufunc 'sin'>\n",
      "sinc                            function                      <function sinc at 0x7f58b4abb7b8>\n",
      "single                          type                          <class 'numpy.float32'>\n",
      "singlecomplex                   type                          <class 'numpy.complex64'>\n",
      "sinh                            ufunc                         <ufunc 'sinh'>\n",
      "size                            function                      <function size at 0x7f58b4bc92f0>\n",
      "sometrue                        function                      <function sometrue at 0x7f58b4bc9730>\n",
      "sort                            function                      <function sort at 0x7f58b4bc8510>\n",
      "sort_complex                    function                      <function sort_complex at 0x7f58b4aba840>\n",
      "source                          function                      <function source at 0x7f58b4b08598>\n",
      "spacing                         ufunc                         <ufunc 'spacing'>\n",
      "split                           function                      <function split at 0x7f58b4ae38c8>\n",
      "sqrt                            ufunc                         <ufunc 'sqrt'>\n",
      "square                          ufunc                         <ufunc 'square'>\n",
      "squeeze                         function                      <function squeeze at 0x7f58b4bc8840>\n",
      "stack                           function                      <function stack at 0x7f58b4b8e400>\n",
      "std                             function                      <function std at 0x7f58b4bc9510>\n",
      "str0                            type                          <class 'numpy.str_'>\n",
      "str_                            type                          <class 'numpy.str_'>\n",
      "string                          str                           En un lugar de la Mancha\\<...>vivia un hidalgo etc etc \n",
      "string_                         type                          <class 'numpy.bytes_'>\n",
      "subtract                        ufunc                         <ufunc 'subtract'>\n",
      "sum                             function                      <function sum at 0x7f58b4bc8c80>\n",
      "swapaxes                        function                      <function swapaxes at 0x7f58b4bc82f0>\n",
      "t                               tuple                         n=2\n",
      "take                            function                      <function take at 0x7f58b4bc8048>\n",
      "take_along_axis                 function                      <function take_along_axis at 0x7f58b4ae3400>\n",
      "tan                             ufunc                         <ufunc 'tan'>\n",
      "tanh                            ufunc                         <ufunc 'tanh'>\n",
      "tau                             float                         6.283185307179586\n",
      "tensordot                       function                      <function tensordot at 0x7f58b5664598>\n",
      "tile                            function                      <function tile at 0x7f58b4ae3c80>\n",
      "timedelta64                     type                          <class 'numpy.timedelta64'>\n",
      "trace                           function                      <function trace at 0x7f58b4bc8950>\n",
      "tracemalloc_domain              int                           389047\n",
      "transpose                       function                      <function transpose at 0x7f58b4bc8378>\n",
      "trapz                           function                      <function trapz at 0x7f58b4abbd08>\n",
      "tri                             function                      <function tri at 0x7f58b4ab5400>\n",
      "tril                            function                      <function tril at 0x7f58b4ab5488>\n",
      "tril_indices                    function                      <function tril_indices at 0x7f58b4ab5730>\n",
      "tril_indices_from               function                      <function tril_indices_from at 0x7f58b4ab57b8>\n",
      "trim_zeros                      function                      <function trim_zeros at 0x7f58b4aba8c8>\n",
      "triu                            function                      <function triu at 0x7f58b4ab5510>\n",
      "triu_indices                    function                      <function triu_indices at 0x7f58b4ab5840>\n",
      "triu_indices_from               function                      <function triu_indices_from at 0x7f58b4ab58c8>\n",
      "true_divide                     ufunc                         <ufunc 'true_divide'>\n",
      "trunc                           ufunc                         <ufunc 'trunc'>\n",
      "typeDict                        dict                          n=157\n",
      "typeNA                          dict                          n=88\n",
      "typecodes                       dict                          n=9\n",
      "typename                        function                      <function typename at 0x7f58b4b17620>\n",
      "ubyte                           type                          <class 'numpy.uint8'>\n",
      "ufunc                           type                          <class 'numpy.ufunc'>\n",
      "uint                            type                          <class 'numpy.uint64'>\n",
      "uint0                           type                          <class 'numpy.uint64'>\n",
      "uint16                          type                          <class 'numpy.uint16'>\n",
      "uint32                          type                          <class 'numpy.uint32'>\n",
      "uint64                          type                          <class 'numpy.uint64'>\n",
      "uint8                           type                          <class 'numpy.uint8'>\n",
      "uintc                           type                          <class 'numpy.uint32'>\n",
      "uintp                           type                          <class 'numpy.uint64'>\n",
      "ulonglong                       type                          <class 'numpy.uint64'>\n",
      "unicode                         type                          <class 'str'>\n",
      "unicode_                        type                          <class 'numpy.str_'>\n",
      "union1d                         function                      <function union1d at 0x7f58b4a79268>\n",
      "unique                          function                      <function unique at 0x7f58b4a72ea0>\n",
      "unpackbits                      builtin_function_or_method    <built-in function unpackbits>\n",
      "unravel_index                   builtin_function_or_method    <built-in function unravel_index>\n",
      "unsignedinteger                 type                          <class 'numpy.unsignedinteger'>\n",
      "unwrap                          function                      <function unwrap at 0x7f58b4aba7b8>\n",
      "ushort                          type                          <class 'numpy.uint16'>\n",
      "vander                          function                      <function vander at 0x7f58b4ab5598>\n",
      "var                             function                      <function var at 0x7f58b4bc9598>\n",
      "vdot                            builtin_function_or_method    <built-in function vdot>\n",
      "vectorize                       type                          <class 'numpy.lib.function_base.vectorize'>\n",
      "void                            type                          <class 'numpy.void'>\n",
      "void0                           type                          <class 'numpy.void'>\n",
      "vsplit                          function                      <function vsplit at 0x7f58b4ae39d8>\n",
      "vstack                          function                      <function vstack at 0x7f58b4b8e2f0>\n",
      "w                               int                           17\n",
      "wc                              function                      <function wc at 0x7f58903f3f28>\n",
      "where                           builtin_function_or_method    <built-in function where>\n",
      "who                             function                      <function who at 0x7f58b4b082f0>\n",
      "x                               float                         6.022e+23\n",
      "xs                              ndarray                       100: 100 elems, type `float64`, 800 bytes\n",
      "y                               float                         6.022e+23\n",
      "ys                              ndarray                       100: 100 elems, type `float64`, 800 bytes\n",
      "z                               float                         4.0\n",
      "zeros                           builtin_function_or_method    <built-in function zeros>\n",
      "zeros_like                      function                      <function zeros_like at 0x7f58b4badb70>\n"
     ]
    }
   ],
   "source": [
    "%whos"
   ]
  },
  {
   "cell_type": "code",
   "execution_count": 1,
   "metadata": {},
   "outputs": [],
   "source": [
    "x = 2"
   ]
  },
  {
   "cell_type": "code",
   "execution_count": 2,
   "metadata": {},
   "outputs": [
    {
     "name": "stdout",
     "output_type": "stream",
     "text": [
      "Variable   Type    Data/Info\n",
      "----------------------------\n",
      "x          int     2\n"
     ]
    }
   ],
   "source": [
    "%whos"
   ]
  },
  {
   "cell_type": "code",
   "execution_count": 4,
   "metadata": {},
   "outputs": [
    {
     "name": "stdout",
     "output_type": "stream",
     "text": [
      "Downloads\n"
     ]
    }
   ],
   "source": [
    "%%bash\n",
    "cd /home/dani\n",
    "ls . | head -n5 | tail -n1"
   ]
  },
  {
   "cell_type": "code",
   "execution_count": 5,
   "metadata": {},
   "outputs": [],
   "source": [
    "%quickref"
   ]
  },
  {
   "cell_type": "code",
   "execution_count": 6,
   "metadata": {},
   "outputs": [
    {
     "name": "stdout",
     "output_type": "stream",
     "text": [
      "x = 2\n",
      "%whos\n",
      "%%bash\n",
      "cd /home/dani\n",
      "ls .\n",
      "%%bash\n",
      "cd /home/dani\n",
      "ls . | head -n5 | tail -n1\n",
      "%quickref\n",
      "%history\n"
     ]
    }
   ],
   "source": [
    "%history"
   ]
  },
  {
   "cell_type": "code",
   "execution_count": 8,
   "metadata": {},
   "outputs": [],
   "source": [
    "%history -n 4 -f fourth_cell.sh"
   ]
  },
  {
   "cell_type": "code",
   "execution_count": 10,
   "metadata": {},
   "outputs": [
    {
     "name": "stdout",
     "output_type": "stream",
     "text": [
      "1599/1: y\n",
      "1599/2:\n",
      "x = 2\n",
      "\n",
      "y = x ** 3\n",
      "1599/3: y\n",
      "1599/4: z = y  + 3\n",
      "1599/5: z\n",
      "1600/1: x = 2\n"
     ]
    }
   ],
   "source": [
    "%history -n ~3/1-~2/1"
   ]
  },
  {
   "cell_type": "code",
   "execution_count": 14,
   "metadata": {},
   "outputs": [
    {
     "name": "stdout",
     "output_type": "stream",
     "text": [
      "Variable   Type    Data/Info\n",
      "----------------------------\n",
      "x          int     2\n"
     ]
    }
   ],
   "source": [
    "%whos"
   ]
  },
  {
   "cell_type": "markdown",
   "metadata": {},
   "source": [
    "# Capturing the output of shell commands"
   ]
  },
  {
   "cell_type": "code",
   "execution_count": 16,
   "metadata": {},
   "outputs": [],
   "source": [
    "a = ! ls /home/dani"
   ]
  },
  {
   "cell_type": "code",
   "execution_count": 18,
   "metadata": {},
   "outputs": [
    {
     "data": {
      "text/plain": [
       "['2018_T2', 'anaconda3', 'Desktop', 'Documents']"
      ]
     },
     "execution_count": 18,
     "metadata": {},
     "output_type": "execute_result"
    }
   ],
   "source": [
    "a[:4]"
   ]
  },
  {
   "cell_type": "code",
   "execution_count": 19,
   "metadata": {},
   "outputs": [
    {
     "data": {
      "text/plain": [
       "IPython.utils.text.SList"
      ]
     },
     "execution_count": 19,
     "metadata": {},
     "output_type": "execute_result"
    }
   ],
   "source": [
    "type(a)"
   ]
  },
  {
   "cell_type": "code",
   "execution_count": 21,
   "metadata": {},
   "outputs": [
    {
     "name": "stdout",
     "output_type": "stream",
     "text": [
      "Help on method grep in module IPython.utils.text:\n",
      "\n",
      "grep(pattern, prune=False, field=None) method of IPython.utils.text.SList instance\n",
      "    Return all strings matching 'pattern' (a regex or callable)\n",
      "    \n",
      "    This is case-insensitive. If prune is true, return all items\n",
      "    NOT matching the pattern.\n",
      "    \n",
      "    If field is specified, the match must occur in the specified\n",
      "    whitespace-separated field.\n",
      "    \n",
      "    Examples::\n",
      "    \n",
      "        a.grep( lambda x: x.startswith('C') )\n",
      "        a.grep('Cha.*log', prune=1)\n",
      "        a.grep('chm', field=-1)\n",
      "\n"
     ]
    }
   ],
   "source": [
    "help(a.grep)"
   ]
  },
  {
   "cell_type": "markdown",
   "metadata": {},
   "source": [
    "# File operations in Python"
   ]
  },
  {
   "cell_type": "code",
   "execution_count": 22,
   "metadata": {},
   "outputs": [],
   "source": [
    "! curl -s http://www.gutenberg.org/files/76/76-0.txt > Finn.txt"
   ]
  },
  {
   "cell_type": "code",
   "execution_count": 23,
   "metadata": {},
   "outputs": [
    {
     "name": "stdout",
     "output_type": "stream",
     "text": [
      "﻿\n",
      "The Project Gutenberg EBook of Adventures of Huckleberry Finn, Complete\n",
      "by Mark Twain (Samuel Clemens)\n",
      "\n",
      "This eBook is for the use of anyone anywhere at no cost and with almost\n",
      "no restrictions whatsoever. You may copy it, give it away or re-use\n",
      "it under the terms of the Project Gutenberg License included with this\n",
      "eBook or online at www.gutenberg.net\n",
      "\n",
      "Title: Adventures of Huckleberry Finn, Complete\n"
     ]
    }
   ],
   "source": [
    "!head Finn.txt"
   ]
  },
  {
   "cell_type": "code",
   "execution_count": 25,
   "metadata": {},
   "outputs": [
    {
     "data": {
      "text/plain": [
       "<_io.TextIOWrapper name='Finn.txt' mode='r' encoding='UTF-8'>"
      ]
     },
     "execution_count": 25,
     "metadata": {},
     "output_type": "execute_result"
    }
   ],
   "source": [
    "file = open('Finn.txt')\n",
    "file"
   ]
  },
  {
   "cell_type": "code",
   "execution_count": 26,
   "metadata": {},
   "outputs": [
    {
     "data": {
      "text/plain": [
       "'\\ufeff\\n'"
      ]
     },
     "execution_count": 26,
     "metadata": {},
     "output_type": "execute_result"
    }
   ],
   "source": [
    "file.readline()"
   ]
  },
  {
   "cell_type": "code",
   "execution_count": 27,
   "metadata": {},
   "outputs": [
    {
     "data": {
      "text/plain": [
       "'The Project Gutenberg EBook of Adventures of Huckleberry Finn, Complete\\n'"
      ]
     },
     "execution_count": 27,
     "metadata": {},
     "output_type": "execute_result"
    }
   ],
   "source": [
    "file.readline()"
   ]
  },
  {
   "cell_type": "code",
   "execution_count": 28,
   "metadata": {},
   "outputs": [],
   "source": [
    "lines = file.readlines()"
   ]
  },
  {
   "cell_type": "code",
   "execution_count": 29,
   "metadata": {},
   "outputs": [
    {
     "data": {
      "text/plain": [
       "[]"
      ]
     },
     "execution_count": 29,
     "metadata": {},
     "output_type": "execute_result"
    }
   ],
   "source": [
    "file.readlines()"
   ]
  },
  {
   "cell_type": "code",
   "execution_count": 31,
   "metadata": {},
   "outputs": [
    {
     "data": {
      "text/plain": [
       "['\\ufeff\\n',\n",
       " 'The Project Gutenberg EBook of Adventures of Huckleberry Finn, Complete\\n',\n",
       " 'by Mark Twain (Samuel Clemens)\\n',\n",
       " '\\n',\n",
       " 'This eBook is for the use of anyone anywhere at no cost and with almost\\n',\n",
       " 'no restrictions whatsoever. You may copy it, give it away or re-use\\n',\n",
       " 'it under the terms of the Project Gutenberg License included with this\\n',\n",
       " 'eBook or online at www.gutenberg.net\\n',\n",
       " '\\n',\n",
       " 'Title: Adventures of Huckleberry Finn, Complete\\n']"
      ]
     },
     "execution_count": 31,
     "metadata": {},
     "output_type": "execute_result"
    }
   ],
   "source": [
    "file.seek(0)\n",
    "file.readlines()[:10]"
   ]
  },
  {
   "cell_type": "code",
   "execution_count": 32,
   "metadata": {},
   "outputs": [
    {
     "ename": "UnsupportedOperation",
     "evalue": "not writable",
     "output_type": "error",
     "traceback": [
      "\u001b[0;31m---------------------------------------------------------------------------\u001b[0m",
      "\u001b[0;31mUnsupportedOperation\u001b[0m                      Traceback (most recent call last)",
      "\u001b[0;32m<ipython-input-32-47f731f8fb95>\u001b[0m in \u001b[0;36m<module>\u001b[0;34m\u001b[0m\n\u001b[0;32m----> 1\u001b[0;31m \u001b[0mfile\u001b[0m\u001b[0;34m.\u001b[0m\u001b[0mwrite\u001b[0m\u001b[0;34m(\u001b[0m\u001b[0;34m'holi'\u001b[0m\u001b[0;34m)\u001b[0m\u001b[0;34m\u001b[0m\u001b[0;34m\u001b[0m\u001b[0m\n\u001b[0m",
      "\u001b[0;31mUnsupportedOperation\u001b[0m: not writable"
     ]
    }
   ],
   "source": [
    "file.write('holi')"
   ]
  },
  {
   "cell_type": "code",
   "execution_count": 33,
   "metadata": {},
   "outputs": [
    {
     "ename": "FileNotFoundError",
     "evalue": "[Errno 2] No such file or directory: 'newfile.txt'",
     "output_type": "error",
     "traceback": [
      "\u001b[0;31m---------------------------------------------------------------------------\u001b[0m",
      "\u001b[0;31mFileNotFoundError\u001b[0m                         Traceback (most recent call last)",
      "\u001b[0;32m<ipython-input-33-96c06631d74a>\u001b[0m in \u001b[0;36m<module>\u001b[0;34m\u001b[0m\n\u001b[0;32m----> 1\u001b[0;31m \u001b[0mopen\u001b[0m\u001b[0;34m(\u001b[0m\u001b[0;34m'newfile.txt'\u001b[0m\u001b[0;34m,\u001b[0m \u001b[0mmode\u001b[0m\u001b[0;34m=\u001b[0m\u001b[0;34m'r'\u001b[0m\u001b[0;34m)\u001b[0m\u001b[0;34m\u001b[0m\u001b[0;34m\u001b[0m\u001b[0m\n\u001b[0m",
      "\u001b[0;31mFileNotFoundError\u001b[0m: [Errno 2] No such file or directory: 'newfile.txt'"
     ]
    }
   ],
   "source": [
    "open('newfile.txt', mode='r')"
   ]
  },
  {
   "cell_type": "code",
   "execution_count": 34,
   "metadata": {},
   "outputs": [
    {
     "data": {
      "text/plain": [
       "<_io.TextIOWrapper name='newfile.txt' mode='w' encoding='UTF-8'>"
      ]
     },
     "execution_count": 34,
     "metadata": {},
     "output_type": "execute_result"
    }
   ],
   "source": [
    "open('newfile.txt', mode='w')"
   ]
  },
  {
   "cell_type": "code",
   "execution_count": 39,
   "metadata": {},
   "outputs": [
    {
     "data": {
      "text/plain": [
       "['/home/dani/repos/master-data-science/05_python_fundamentals']"
      ]
     },
     "execution_count": 39,
     "metadata": {},
     "output_type": "execute_result"
    }
   ],
   "source": [
    "_dh"
   ]
  },
  {
   "cell_type": "markdown",
   "metadata": {},
   "source": [
    "# Quick exercises 3 "
   ]
  },
  {
   "cell_type": "markdown",
   "metadata": {},
   "source": [
    "### Exercise 1"
   ]
  },
  {
   "cell_type": "code",
   "execution_count": 40,
   "metadata": {},
   "outputs": [
    {
     "name": "stdout",
     "output_type": "stream",
     "text": [
      "/home/dani/repos/master-data-science/data/opentraveldata\n"
     ]
    }
   ],
   "source": [
    "%cd ../data/opentraveldata/"
   ]
  },
  {
   "cell_type": "code",
   "execution_count": 41,
   "metadata": {},
   "outputs": [
    {
     "name": "stdout",
     "output_type": "stream",
     "text": [
      "optd_aircraft.csv  optd_airlines.csv  optd_por_public.csv\n"
     ]
    }
   ],
   "source": [
    "!ls"
   ]
  },
  {
   "cell_type": "code",
   "execution_count": 42,
   "metadata": {},
   "outputs": [
    {
     "name": "stdout",
     "output_type": "stream",
     "text": [
      "/home/dani/repos/master-data-science/data/us_dot/otp\n",
      "\u001b[0m\u001b[01;32mOn_Time_On_Time_Performance_2015_1.zip\u001b[0m*\n",
      "\u001b[01;32mOn_Time_On_Time_Performance_2015_2.zip\u001b[0m*\n",
      "\u001b[01;32mOn_Time_On_Time_Performance_2015_3.zip\u001b[0m*\n",
      "\u001b[01;32mOn_Time_On_Time_Performance_2015_4.zip\u001b[0m*\n",
      "\u001b[01;32mOn_Time_On_Time_Performance_2015_5.zip\u001b[0m*\n",
      "\u001b[01;32mOn_Time_On_Time_Performance_2015_6.zip\u001b[0m*\n",
      "\u001b[01;32mOn_Time_On_Time_Performance_2015_7.zip\u001b[0m*\n",
      "\u001b[01;32mOn_Time_On_Time_Performance_2015_8.zip\u001b[0m*\n"
     ]
    }
   ],
   "source": [
    "%cd /home/dani/repos/master-data-science/data/us_dot/otp\n",
    "%ls"
   ]
  },
  {
   "cell_type": "code",
   "execution_count": 43,
   "metadata": {},
   "outputs": [
    {
     "name": "stdout",
     "output_type": "stream",
     "text": [
      "/home/dani/repos/master-data-science/data/us_dot/traffic\n",
      "\u001b[0m\u001b[01;32mT100_SEGMENT_ALL_CARRIER_2014.zip\u001b[0m*  \u001b[01;32mT100_SEGMENT_ALL_CARRIER_2015.zip\u001b[0m*\n"
     ]
    }
   ],
   "source": [
    "%cd /home/dani/repos/master-data-science/data/us_dot/traffic\n",
    "%ls"
   ]
  },
  {
   "cell_type": "code",
   "execution_count": 44,
   "metadata": {},
   "outputs": [
    {
     "name": "stdout",
     "output_type": "stream",
     "text": [
      "Directory history (kept in _dh)\n",
      "0: /home/dani/repos/master-data-science/05_python_fundamentals\n",
      "1: /home/dani/repos/master-data-science/data/opentraveldata\n",
      "2: /home/dani/repos/master-data-science/data/us_dot/otp\n",
      "3: /home/dani/repos/master-data-science/data/us_dot/traffic\n"
     ]
    }
   ],
   "source": [
    "%dhist"
   ]
  },
  {
   "cell_type": "code",
   "execution_count": 48,
   "metadata": {},
   "outputs": [
    {
     "name": "stdout",
     "output_type": "stream",
     "text": [
      "/home/dani/repos/master-data-science/05_python_fundamentals ['13']\n",
      "/home/dani/repos/master-data-science/data/opentraveldata ['3']\n",
      "/home/dani/repos/master-data-science/data/us_dot/otp ['8']\n",
      "/home/dani/repos/master-data-science/data/us_dot/traffic ['2']\n"
     ]
    }
   ],
   "source": [
    "for directory in _dh:\n",
    "    lines = ! ls {directory} | wc -l \n",
    "    print(directory, lines)"
   ]
  },
  {
   "cell_type": "markdown",
   "metadata": {},
   "source": [
    "### Exercise 3\n"
   ]
  },
  {
   "cell_type": "code",
   "execution_count": 50,
   "metadata": {},
   "outputs": [
    {
     "name": "stdout",
     "output_type": "stream",
     "text": [
      "/home/dani/repos/master-data-science/05_python_fundamentals\n"
     ]
    }
   ],
   "source": [
    "%cd {_dh[0]} "
   ]
  },
  {
   "cell_type": "code",
   "execution_count": 63,
   "metadata": {},
   "outputs": [
    {
     "data": {
      "text/plain": [
       "['\\ufeff',\n",
       " 'The Project Gutenberg EBook of Adventures of Huckleberry Finn, Complete',\n",
       " 'by Mark Twain (Samuel Clemens)',\n",
       " '',\n",
       " 'This eBook is for the use of anyone anywhere at no cost and with almost',\n",
       " 'no restrictions whatsoever. You may copy it, give it away or re-use',\n",
       " 'it under the terms of the Project Gutenberg License included with this',\n",
       " 'eBook or online at www.gutenberg.net',\n",
       " '',\n",
       " 'Title: Adventures of Huckleberry Finn, Complete']"
      ]
     },
     "execution_count": 63,
     "metadata": {},
     "output_type": "execute_result"
    }
   ],
   "source": [
    "file = open('Finn.txt')\n",
    "\n",
    "lines = file.readlines()\n",
    "clean_lines = [] \n",
    "\n",
    "for line in lines:\n",
    "    clean_line = line.rstrip()\n",
    "    clean_lines.append(clean_line)\n",
    "    \n",
    "clean_lines[:10]"
   ]
  },
  {
   "cell_type": "code",
   "execution_count": 61,
   "metadata": {},
   "outputs": [
    {
     "data": {
      "text/plain": [
       "'holi'"
      ]
     },
     "execution_count": 61,
     "metadata": {},
     "output_type": "execute_result"
    }
   ],
   "source": [
    "'  holi  \\n '.strip()"
   ]
  },
  {
   "cell_type": "code",
   "execution_count": 64,
   "metadata": {},
   "outputs": [],
   "source": [
    "nf = open('newfile.txt', 'w')\n",
    "\n",
    "nf.writelines(clean_lines)\n",
    "nf.close()"
   ]
  },
  {
   "cell_type": "code",
   "execution_count": 67,
   "metadata": {},
   "outputs": [
    {
     "name": "stdout",
     "output_type": "stream",
     "text": [
      "     0 104575 591663 newfile.txt\n"
     ]
    }
   ],
   "source": [
    "!wc newfile.txt"
   ]
  },
  {
   "cell_type": "code",
   "execution_count": 70,
   "metadata": {},
   "outputs": [],
   "source": [
    "nf = open('newfile.txt', 'w')\n",
    "\n",
    "for line in clean_lines:\n",
    "    if line:\n",
    "        nf.write(line + '\\n')"
   ]
  },
  {
   "cell_type": "code",
   "execution_count": 71,
   "metadata": {},
   "outputs": [
    {
     "name": "stdout",
     "output_type": "stream",
     "text": [
      "  9715 114605 603988 newfile.txt\n"
     ]
    }
   ],
   "source": [
    "!wc newfile.txt"
   ]
  },
  {
   "cell_type": "markdown",
   "metadata": {},
   "source": [
    "# Data Structures\n",
    "\n",
    "Lists, tuples, sets, dictionaries."
   ]
  },
  {
   "cell_type": "code",
   "execution_count": 73,
   "metadata": {},
   "outputs": [
    {
     "data": {
      "text/plain": [
       "3"
      ]
     },
     "execution_count": 73,
     "metadata": {},
     "output_type": "execute_result"
    }
   ],
   "source": [
    "stars = [ 'Alderaan', 'Arcturus', 'Vega']\n",
    "len(stars)"
   ]
  },
  {
   "cell_type": "code",
   "execution_count": 74,
   "metadata": {},
   "outputs": [
    {
     "data": {
      "text/plain": [
       "'Alderaan'"
      ]
     },
     "execution_count": 74,
     "metadata": {},
     "output_type": "execute_result"
    }
   ],
   "source": [
    "stars[0]"
   ]
  },
  {
   "cell_type": "code",
   "execution_count": 76,
   "metadata": {},
   "outputs": [
    {
     "data": {
      "text/plain": [
       "['Alderaan', 'Arcturus']"
      ]
     },
     "execution_count": 76,
     "metadata": {},
     "output_type": "execute_result"
    }
   ],
   "source": [
    "stars[:2]"
   ]
  },
  {
   "cell_type": "code",
   "execution_count": 78,
   "metadata": {},
   "outputs": [
    {
     "data": {
      "text/plain": [
       "2"
      ]
     },
     "execution_count": 78,
     "metadata": {},
     "output_type": "execute_result"
    }
   ],
   "source": [
    "planets = [ ['Sol', 2], ['Sol', 3]]\n",
    "\n",
    "planets[0][1] "
   ]
  },
  {
   "cell_type": "code",
   "execution_count": 79,
   "metadata": {},
   "outputs": [
    {
     "data": {
      "text/plain": [
       "['Alderaan', 'Arcturus', 'Vega', 'Polar']"
      ]
     },
     "execution_count": 79,
     "metadata": {},
     "output_type": "execute_result"
    }
   ],
   "source": [
    "stars.append('Polar')\n",
    "stars"
   ]
  },
  {
   "cell_type": "code",
   "execution_count": 80,
   "metadata": {},
   "outputs": [
    {
     "data": {
      "text/plain": [
       "['Alderaan', 'Arcturus', 'Vega', 'Polar', 'Polar']"
      ]
     },
     "execution_count": 80,
     "metadata": {},
     "output_type": "execute_result"
    }
   ],
   "source": [
    "stars.append('Polar')\n",
    "stars"
   ]
  },
  {
   "cell_type": "code",
   "execution_count": 82,
   "metadata": {},
   "outputs": [],
   "source": [
    "stars.remove('Polar')"
   ]
  },
  {
   "cell_type": "code",
   "execution_count": 82,
   "metadata": {},
   "outputs": [],
   "source": [
    "stars.remove('Polar')"
   ]
  },
  {
   "cell_type": "code",
   "execution_count": 83,
   "metadata": {},
   "outputs": [
    {
     "data": {
      "text/plain": [
       "['Alderaan', 'Arcturus', 'Vega']"
      ]
     },
     "execution_count": 83,
     "metadata": {},
     "output_type": "execute_result"
    }
   ],
   "source": [
    "stars"
   ]
  },
  {
   "cell_type": "code",
   "execution_count": 84,
   "metadata": {},
   "outputs": [
    {
     "ename": "ValueError",
     "evalue": "'Polar' is not in list",
     "output_type": "error",
     "traceback": [
      "\u001b[0;31m---------------------------------------------------------------------------\u001b[0m",
      "\u001b[0;31mValueError\u001b[0m                                Traceback (most recent call last)",
      "\u001b[0;32m<ipython-input-84-de3bc529b5da>\u001b[0m in \u001b[0;36m<module>\u001b[0;34m\u001b[0m\n\u001b[0;32m----> 1\u001b[0;31m \u001b[0mstars\u001b[0m\u001b[0;34m.\u001b[0m\u001b[0mindex\u001b[0m\u001b[0;34m(\u001b[0m\u001b[0;34m'Polar'\u001b[0m\u001b[0;34m)\u001b[0m\u001b[0;34m\u001b[0m\u001b[0;34m\u001b[0m\u001b[0m\n\u001b[0m",
      "\u001b[0;31mValueError\u001b[0m: 'Polar' is not in list"
     ]
    }
   ],
   "source": [
    "stars.index('Polar')"
   ]
  },
  {
   "cell_type": "code",
   "execution_count": 85,
   "metadata": {},
   "outputs": [],
   "source": [
    "stars.extend('Death')"
   ]
  },
  {
   "cell_type": "code",
   "execution_count": 86,
   "metadata": {},
   "outputs": [
    {
     "data": {
      "text/plain": [
       "['Alderaan', 'Arcturus', 'Vega', 'D', 'e', 'a', 't', 'h']"
      ]
     },
     "execution_count": 86,
     "metadata": {},
     "output_type": "execute_result"
    }
   ],
   "source": [
    "stars"
   ]
  },
  {
   "cell_type": "code",
   "execution_count": 87,
   "metadata": {},
   "outputs": [
    {
     "data": {
      "text/plain": [
       "['Alderaan', 'Arcturus', 'Vega']"
      ]
     },
     "execution_count": 87,
     "metadata": {},
     "output_type": "execute_result"
    }
   ],
   "source": [
    "stars = stars[:3]\n",
    "stars"
   ]
  },
  {
   "cell_type": "code",
   "execution_count": 88,
   "metadata": {},
   "outputs": [
    {
     "data": {
      "text/plain": [
       "['Alderaan', 'Arcturus', 'Vega', 'Death', 'Polar']"
      ]
     },
     "execution_count": 88,
     "metadata": {},
     "output_type": "execute_result"
    }
   ],
   "source": [
    "stars.extend(['Death', 'Polar'])\n",
    "stars"
   ]
  },
  {
   "cell_type": "code",
   "execution_count": 89,
   "metadata": {},
   "outputs": [
    {
     "data": {
      "text/plain": [
       "['Alderaan', 'Arcturus', 'Vega', 'Death', 'Polar', ['Death', 'Polar']]"
      ]
     },
     "execution_count": 89,
     "metadata": {},
     "output_type": "execute_result"
    }
   ],
   "source": [
    "stars.append(['Death', 'Polar'])\n",
    "stars"
   ]
  },
  {
   "cell_type": "code",
   "execution_count": 90,
   "metadata": {},
   "outputs": [
    {
     "data": {
      "text/plain": [
       "['Alderaan',\n",
       " 'Arcturus',\n",
       " 'Vega',\n",
       " 'Death',\n",
       " 'Alpha Centauri',\n",
       " 'Polar',\n",
       " ['Death', 'Polar']]"
      ]
     },
     "execution_count": 90,
     "metadata": {},
     "output_type": "execute_result"
    }
   ],
   "source": [
    "stars.insert(4, 'Alpha Centauri')\n",
    "stars"
   ]
  },
  {
   "cell_type": "code",
   "execution_count": 91,
   "metadata": {},
   "outputs": [
    {
     "data": {
      "text/plain": [
       "['Alderaan',\n",
       " 'Arcturus',\n",
       " 'Vega',\n",
       " 'Death',\n",
       " 'Alpha Centauri',\n",
       " 'Polar',\n",
       " ['Death', 'Polar'],\n",
       " 'Alpha Centauri']"
      ]
     },
     "execution_count": 91,
     "metadata": {},
     "output_type": "execute_result"
    }
   ],
   "source": [
    "stars.insert(10, 'Alpha Centauri')\n",
    "stars"
   ]
  },
  {
   "cell_type": "code",
   "execution_count": 92,
   "metadata": {},
   "outputs": [
    {
     "data": {
      "text/plain": [
       "('Alpha Centauri',\n",
       " ['Alderaan',\n",
       "  'Arcturus',\n",
       "  'Vega',\n",
       "  'Death',\n",
       "  'Alpha Centauri',\n",
       "  'Polar',\n",
       "  ['Death', 'Polar']])"
      ]
     },
     "execution_count": 92,
     "metadata": {},
     "output_type": "execute_result"
    }
   ],
   "source": [
    "last_element = stars.pop()\n",
    "\n",
    "last_element, stars"
   ]
  },
  {
   "cell_type": "code",
   "execution_count": 93,
   "metadata": {},
   "outputs": [
    {
     "data": {
      "text/plain": [
       "['Alderaan',\n",
       " 'Arcturus',\n",
       " 'Vega',\n",
       " 'Death',\n",
       " 'Alpha Centauri',\n",
       " 'Polar',\n",
       " ['Death', 'Polar'],\n",
       " 'Peter Pan',\n",
       " 'Campanilla']"
      ]
     },
     "execution_count": 93,
     "metadata": {},
     "output_type": "execute_result"
    }
   ],
   "source": [
    "new_list = stars + ['Peter Pan', 'Campanilla']\n",
    "new_list"
   ]
  },
  {
   "cell_type": "code",
   "execution_count": 94,
   "metadata": {},
   "outputs": [],
   "source": [
    "stars = stars + ['Hook', 'Crocodile']"
   ]
  },
  {
   "cell_type": "code",
   "execution_count": 95,
   "metadata": {},
   "outputs": [
    {
     "data": {
      "text/plain": [
       "['Alderaan',\n",
       " 'Arcturus',\n",
       " 'Vega',\n",
       " 'Death',\n",
       " 'Alpha Centauri',\n",
       " 'Polar',\n",
       " ['Death', 'Polar'],\n",
       " 'Hook',\n",
       " 'Crocodile']"
      ]
     },
     "execution_count": 95,
     "metadata": {},
     "output_type": "execute_result"
    }
   ],
   "source": [
    "stars"
   ]
  },
  {
   "cell_type": "code",
   "execution_count": 99,
   "metadata": {},
   "outputs": [
    {
     "data": {
      "text/plain": [
       "('Tortilla', 'Manzana', 'Cafe', 'Pitillo')"
      ]
     },
     "execution_count": 99,
     "metadata": {},
     "output_type": "execute_result"
    }
   ],
   "source": [
    "mytup = ('Tortilla', 'Manzana')\n",
    "mytup += ('Cafe', 'Pitillo')\n",
    "\n",
    "mytup"
   ]
  },
  {
   "cell_type": "code",
   "execution_count": 104,
   "metadata": {},
   "outputs": [
    {
     "data": {
      "text/plain": [
       "0.6"
      ]
     },
     "execution_count": 104,
     "metadata": {},
     "output_type": "execute_result"
    }
   ],
   "source": [
    "(1 + 2) / 5"
   ]
  },
  {
   "cell_type": "code",
   "execution_count": 105,
   "metadata": {},
   "outputs": [
    {
     "data": {
      "text/plain": [
       "(1,)"
      ]
     },
     "execution_count": 105,
     "metadata": {},
     "output_type": "execute_result"
    }
   ],
   "source": [
    "(1,)"
   ]
  },
  {
   "cell_type": "code",
   "execution_count": 106,
   "metadata": {},
   "outputs": [
    {
     "data": {
      "text/plain": [
       "[1]"
      ]
     },
     "execution_count": 106,
     "metadata": {},
     "output_type": "execute_result"
    }
   ],
   "source": [
    "[1] "
   ]
  },
  {
   "cell_type": "code",
   "execution_count": 107,
   "metadata": {},
   "outputs": [
    {
     "data": {
      "text/plain": [
       "('Tortilla', 'Manzana', 'Cafe')"
      ]
     },
     "execution_count": 107,
     "metadata": {},
     "output_type": "execute_result"
    }
   ],
   "source": [
    "mytup = ('Tortilla', 'Manzana')\n",
    "mytup += ('Cafe',)\n",
    "\n",
    "mytup"
   ]
  },
  {
   "cell_type": "code",
   "execution_count": 109,
   "metadata": {},
   "outputs": [
    {
     "data": {
      "text/plain": [
       "['Crocodile',\n",
       " 'Hook',\n",
       " ['Death', 'Polar'],\n",
       " 'Polar',\n",
       " 'Alpha Centauri',\n",
       " 'Death',\n",
       " 'Vega',\n",
       " 'Arcturus',\n",
       " 'Alderaan']"
      ]
     },
     "execution_count": 109,
     "metadata": {},
     "output_type": "execute_result"
    }
   ],
   "source": [
    "stars.reverse()\n",
    "stars"
   ]
  },
  {
   "cell_type": "code",
   "execution_count": 112,
   "metadata": {},
   "outputs": [
    {
     "ename": "TypeError",
     "evalue": "'<' not supported between instances of 'list' and 'str'",
     "output_type": "error",
     "traceback": [
      "\u001b[0;31m---------------------------------------------------------------------------\u001b[0m",
      "\u001b[0;31mTypeError\u001b[0m                                 Traceback (most recent call last)",
      "\u001b[0;32m<ipython-input-112-3d59dbb1a097>\u001b[0m in \u001b[0;36m<module>\u001b[0;34m\u001b[0m\n\u001b[0;32m----> 1\u001b[0;31m \u001b[0mstars\u001b[0m\u001b[0;34m.\u001b[0m\u001b[0msort\u001b[0m\u001b[0;34m(\u001b[0m\u001b[0;34m)\u001b[0m\u001b[0;34m\u001b[0m\u001b[0;34m\u001b[0m\u001b[0m\n\u001b[0m",
      "\u001b[0;31mTypeError\u001b[0m: '<' not supported between instances of 'list' and 'str'"
     ]
    }
   ],
   "source": [
    "stars.sort()"
   ]
  },
  {
   "cell_type": "code",
   "execution_count": 114,
   "metadata": {},
   "outputs": [
    {
     "data": {
      "text/plain": [
       "['Death', 'Polar']"
      ]
     },
     "execution_count": 114,
     "metadata": {},
     "output_type": "execute_result"
    }
   ],
   "source": [
    "stars.pop(2)"
   ]
  },
  {
   "cell_type": "code",
   "execution_count": 115,
   "metadata": {},
   "outputs": [
    {
     "data": {
      "text/plain": [
       "['Crocodile',\n",
       " 'Hook',\n",
       " 'Polar',\n",
       " 'Alpha Centauri',\n",
       " 'Death',\n",
       " 'Vega',\n",
       " 'Arcturus',\n",
       " 'Alderaan']"
      ]
     },
     "execution_count": 115,
     "metadata": {},
     "output_type": "execute_result"
    }
   ],
   "source": [
    "stars"
   ]
  },
  {
   "cell_type": "code",
   "execution_count": 117,
   "metadata": {},
   "outputs": [
    {
     "data": {
      "text/plain": [
       "['Alderaan',\n",
       " 'Alpha Centauri',\n",
       " 'Arcturus',\n",
       " 'Crocodile',\n",
       " 'Death',\n",
       " 'Hook',\n",
       " 'Polar',\n",
       " 'Vega']"
      ]
     },
     "execution_count": 117,
     "metadata": {},
     "output_type": "execute_result"
    }
   ],
   "source": [
    "stars.sort()\n",
    "stars"
   ]
  },
  {
   "cell_type": "code",
   "execution_count": 119,
   "metadata": {},
   "outputs": [
    {
     "data": {
      "text/plain": [
       "['Vega',\n",
       " 'Polar',\n",
       " 'Hook',\n",
       " 'Death',\n",
       " 'Crocodile',\n",
       " 'Arcturus',\n",
       " 'Alpha Centauri',\n",
       " 'Alderaan']"
      ]
     },
     "execution_count": 119,
     "metadata": {},
     "output_type": "execute_result"
    }
   ],
   "source": [
    "list(reversed(stars))"
   ]
  },
  {
   "cell_type": "code",
   "execution_count": 120,
   "metadata": {},
   "outputs": [
    {
     "data": {
      "text/plain": [
       "<function sorted(iterable, /, *, key=None, reverse=False)>"
      ]
     },
     "execution_count": 120,
     "metadata": {},
     "output_type": "execute_result"
    }
   ],
   "source": [
    "sorted"
   ]
  },
  {
   "cell_type": "code",
   "execution_count": 121,
   "metadata": {},
   "outputs": [
    {
     "data": {
      "text/plain": [
       "1"
      ]
     },
     "execution_count": 121,
     "metadata": {},
     "output_type": "execute_result"
    }
   ],
   "source": [
    "stars.count('Arcturus')"
   ]
  },
  {
   "cell_type": "code",
   "execution_count": 122,
   "metadata": {},
   "outputs": [
    {
     "data": {
      "text/plain": [
       "2"
      ]
     },
     "execution_count": 122,
     "metadata": {},
     "output_type": "execute_result"
    }
   ],
   "source": [
    "stars.index('Arcturus')"
   ]
  },
  {
   "cell_type": "markdown",
   "metadata": {},
   "source": [
    "## Dicts\n",
    "\n",
    "Associative arrays"
   ]
  },
  {
   "cell_type": "code",
   "execution_count": 124,
   "metadata": {},
   "outputs": [
    {
     "data": {
      "text/plain": [
       "'Paperas'"
      ]
     },
     "execution_count": 124,
     "metadata": {},
     "output_type": "execute_result"
    }
   ],
   "source": [
    "diseases = {'Measles' : 'Paperas', 'Cold' : 'Resfriado'}\n",
    "diseases['Measles']"
   ]
  },
  {
   "cell_type": "code",
   "execution_count": 125,
   "metadata": {},
   "outputs": [
    {
     "ename": "TypeError",
     "evalue": "unhashable type: 'list'",
     "output_type": "error",
     "traceback": [
      "\u001b[0;31m---------------------------------------------------------------------------\u001b[0m",
      "\u001b[0;31mTypeError\u001b[0m                                 Traceback (most recent call last)",
      "\u001b[0;32m<ipython-input-125-4173249363c7>\u001b[0m in \u001b[0;36m<module>\u001b[0;34m\u001b[0m\n\u001b[1;32m      1\u001b[0m death_toll = {['Measles', 1911] : 1.2e8, \n\u001b[1;32m      2\u001b[0m               \u001b[0;34m[\u001b[0m\u001b[0;34m'Measles'\u001b[0m\u001b[0;34m,\u001b[0m \u001b[0;36m1912\u001b[0m\u001b[0;34m]\u001b[0m \u001b[0;34m:\u001b[0m \u001b[0;36m1.2e7\u001b[0m\u001b[0;34m,\u001b[0m\u001b[0;34m\u001b[0m\u001b[0;34m\u001b[0m\u001b[0m\n\u001b[0;32m----> 3\u001b[0;31m               ['Spanish Flu', 1918] : 1.2e8 }\n\u001b[0m",
      "\u001b[0;31mTypeError\u001b[0m: unhashable type: 'list'"
     ]
    }
   ],
   "source": [
    "death_toll = {['Measles', 1911] : 1.2e8, \n",
    "              ['Measles', 1912] : 1.2e7, \n",
    "              ['Spanish Flu', 1918] : 6.5e8 }"
   ]
  },
  {
   "cell_type": "code",
   "execution_count": 127,
   "metadata": {},
   "outputs": [
    {
     "data": {
      "text/plain": [
       "650000000.0"
      ]
     },
     "execution_count": 127,
     "metadata": {},
     "output_type": "execute_result"
    }
   ],
   "source": [
    "death_toll = {('Measles', 1911) : 1.2e8, \n",
    "              ('Measles', 1912) : 1.2e7, \n",
    "              ('Spanish Flu', 1918) : 6.5e8 }\n",
    "\n",
    "death_toll[('Spanish Flu', 1918)]"
   ]
  },
  {
   "cell_type": "code",
   "execution_count": 130,
   "metadata": {},
   "outputs": [
    {
     "data": {
      "text/plain": [
       "{('Measles', 1911): 120000000.0,\n",
       " ('Measles', 1912): 12000000.0,\n",
       " ('Spanish Flu', 1918): 650000000.0,\n",
       " ('Spanish Flu', 1919): 4500000.0}"
      ]
     },
     "execution_count": 130,
     "metadata": {},
     "output_type": "execute_result"
    }
   ],
   "source": [
    "death_toll[('Spanish Flu', 1919)] = 4.5e6\n",
    "death_toll"
   ]
  },
  {
   "cell_type": "code",
   "execution_count": 131,
   "metadata": {},
   "outputs": [
    {
     "data": {
      "text/plain": [
       "True"
      ]
     },
     "execution_count": 131,
     "metadata": {},
     "output_type": "execute_result"
    }
   ],
   "source": [
    "'Arcturus' in stars"
   ]
  },
  {
   "cell_type": "code",
   "execution_count": 132,
   "metadata": {},
   "outputs": [
    {
     "data": {
      "text/plain": [
       "False"
      ]
     },
     "execution_count": 132,
     "metadata": {},
     "output_type": "execute_result"
    }
   ],
   "source": [
    "'Alpha' in stars"
   ]
  },
  {
   "cell_type": "markdown",
   "metadata": {},
   "source": [
    "# Anonymous functions"
   ]
  },
  {
   "cell_type": "code",
   "execution_count": 134,
   "metadata": {},
   "outputs": [
    {
     "data": {
      "text/plain": [
       "<function __main__.square(n)>"
      ]
     },
     "execution_count": 134,
     "metadata": {},
     "output_type": "execute_result"
    }
   ],
   "source": [
    "def square(n):\n",
    "    return n ** 2\n",
    "\n",
    "square"
   ]
  },
  {
   "cell_type": "code",
   "execution_count": 136,
   "metadata": {},
   "outputs": [
    {
     "data": {
      "text/plain": [
       "<function __main__.<lambda>(n)>"
      ]
     },
     "execution_count": 136,
     "metadata": {},
     "output_type": "execute_result"
    }
   ],
   "source": [
    "lambda n: n ** 2"
   ]
  },
  {
   "cell_type": "code",
   "execution_count": 137,
   "metadata": {},
   "outputs": [],
   "source": [
    "sq = lambda n: n ** 2"
   ]
  },
  {
   "cell_type": "code",
   "execution_count": 138,
   "metadata": {},
   "outputs": [
    {
     "data": {
      "text/plain": [
       "[4, 9, 25, 49, 121]"
      ]
     },
     "execution_count": 138,
     "metadata": {},
     "output_type": "execute_result"
    }
   ],
   "source": [
    "list_of_numbers = [2, 3, 5, 7, 11]\n",
    "result = []\n",
    "\n",
    "for number in list_of_numbers:\n",
    "    result.append(number ** 2)\n",
    "    \n",
    "result"
   ]
  },
  {
   "cell_type": "code",
   "execution_count": 140,
   "metadata": {},
   "outputs": [
    {
     "data": {
      "text/plain": [
       "[4, 9, 25, 49, 121]"
      ]
     },
     "execution_count": 140,
     "metadata": {},
     "output_type": "execute_result"
    }
   ],
   "source": [
    "list(map(square, list_of_numbers))"
   ]
  },
  {
   "cell_type": "code",
   "execution_count": 143,
   "metadata": {},
   "outputs": [
    {
     "data": {
      "text/plain": [
       "('ahhh', 'ahhh', 'ahhh', 'ahhh')"
      ]
     },
     "execution_count": 143,
     "metadata": {},
     "output_type": "execute_result"
    }
   ],
   "source": [
    "('ahhh',) * 4"
   ]
  },
  {
   "cell_type": "code",
   "execution_count": 1,
   "metadata": {
    "scrolled": false
   },
   "outputs": [
    {
     "data": {
      "text/plain": [
       "7"
      ]
     },
     "execution_count": 1,
     "metadata": {},
     "output_type": "execute_result"
    }
   ],
   "source": [
    "2+5"
   ]
  },
  {
   "cell_type": "code",
   "execution_count": null,
   "metadata": {},
   "outputs": [],
   "source": []
  }
 ],
 "metadata": {
  "kernelspec": {
   "display_name": "Python 3",
   "language": "python",
   "name": "python3"
  },
  "language_info": {
   "codemirror_mode": {
    "name": "ipython",
    "version": 3
   },
   "file_extension": ".py",
   "mimetype": "text/x-python",
   "name": "python",
   "nbconvert_exporter": "python",
   "pygments_lexer": "ipython3",
   "version": "3.6.4"
  }
 },
 "nbformat": 4,
 "nbformat_minor": 2
}
